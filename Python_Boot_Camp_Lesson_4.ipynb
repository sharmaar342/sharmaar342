{
  "nbformat": 4,
  "nbformat_minor": 0,
  "metadata": {
    "colab": {
      "provenance": [],
      "collapsed_sections": [],
      "toc_visible": true,
      "include_colab_link": true
    },
    "kernelspec": {
      "name": "python3",
      "display_name": "Python 3"
    },
    "language_info": {
      "name": "python"
    }
  },
  "cells": [
    {
      "cell_type": "markdown",
      "metadata": {
        "id": "view-in-github",
        "colab_type": "text"
      },
      "source": [
        "<a href=\"https://colab.research.google.com/github/sharmaar342/sharmaar342/blob/main/Python_Boot_Camp_Lesson_4.ipynb\" target=\"_parent\"><img src=\"https://colab.research.google.com/assets/colab-badge.svg\" alt=\"Open In Colab\"/></a>"
      ]
    },
    {
      "cell_type": "markdown",
      "metadata": {
        "id": "FzADHhh5kAPv"
      },
      "source": [
        "# Python Boot Camp Lesson 4\n",
        "\n",
        "**Author:** Nicholas Colella<br>\n",
        "**Date created:** 2021/08/15<br>\n",
        "**Last modified:** 2021/01/24<br>\n"
      ]
    },
    {
      "cell_type": "markdown",
      "source": [
        "# Course Information\n",
        "\n",
        "You are encouraged to watch the corresponding video, available on Canvas, as you work through this notebook. \n",
        "\n",
        "Additionally, we strongly encourage you to test your understanding of the material as you go! The Canvas quiz can be completed while you watch the video and work on the notebook (and can be taken multiple times)."
      ],
      "metadata": {
        "id": "Bpa5goiAX7C4"
      }
    },
    {
      "cell_type": "markdown",
      "metadata": {
        "id": "xYQLrkAW5Gd7"
      },
      "source": [
        "# Flow control"
      ]
    },
    {
      "cell_type": "markdown",
      "metadata": {
        "id": "ZTG6EnS5IXAa"
      },
      "source": [
        " \n",
        "## `for` statements\n",
        "\n",
        "So far, we have done all of our programming fairly 'linearly;' each task has been performed once, or we copy-pasted to repeat it with some variation.\n",
        "\n",
        "A major advantage of programming is that we can perform actions repeatedly. For instance, we can apply the same action to every element of a list. When doing repeated tasks, we say we *iterate* over an *iterable.* Common iterables are lists, sets, dicts, and tuples.\n",
        "\n",
        "To iterate in this way, we generally use a `for` loop. The general syntax is:\n",
        "\n",
        "`for element in iterable:`\n",
        "\n",
        "where `element` is a placeholder variable that is referred back to within the loop."
      ]
    },
    {
      "cell_type": "code",
      "metadata": {
        "id": "uP1jm3qK6Jg-"
      },
      "source": [
        "iter_list_1 = ['one', 'two', 'three']\n",
        "\n",
        "for item in iter_list_1: # 'item' is just a placeholder variable; we could have replaced it with 'i' or 'asdf'\n",
        "    print(item)\n"
      ],
      "execution_count": null,
      "outputs": []
    },
    {
      "cell_type": "code",
      "metadata": {
        "id": "JKH20BAM6g7l"
      },
      "source": [
        "item_list_2 = [1, 2, 3]\n",
        "\n",
        "k = 0\n",
        "for i in item_list_2:\n",
        "    k += i\n",
        "print(k)"
      ],
      "execution_count": null,
      "outputs": []
    },
    {
      "cell_type": "code",
      "metadata": {
        "id": "n6jBOnHZ9mkQ"
      },
      "source": [
        "for _ in item_list_2: # _ is generally used as a dummy variable if you don't actually use it in the loop\n",
        "    print('hi')"
      ],
      "execution_count": null,
      "outputs": []
    },
    {
      "cell_type": "markdown",
      "metadata": {
        "id": "13_14Cul64Rj"
      },
      "source": [
        "We can also generate iterables using `range()` and `enumerate()`. `enumerate()` takes an iterable and generates a matching index for each item in it."
      ]
    },
    {
      "cell_type": "code",
      "metadata": {
        "id": "ThjzCWJI6u2m"
      },
      "source": [
        "for i in range(0, 3):\n",
        "    print(iter_list_1[i]) # Compare this with our previous iter_list_1 loop"
      ],
      "execution_count": null,
      "outputs": []
    },
    {
      "cell_type": "code",
      "metadata": {
        "id": "XQzUWfju7Vnj"
      },
      "source": [
        "for i, item in enumerate(iter_list_1):\n",
        "    print(f'The item with index {i} is {item}.')"
      ],
      "execution_count": null,
      "outputs": []
    },
    {
      "cell_type": "markdown",
      "metadata": {
        "id": "PwXZkumY74Dy"
      },
      "source": [
        "Dictionaries are important iterables, as well. By default, the iteration occurs over keys."
      ]
    },
    {
      "cell_type": "code",
      "metadata": {
        "id": "soxW3Y0J7pSY"
      },
      "source": [
        "iter_dict = {'animal': 'cat', 'color': 'black', 'age': 3} # recall that the format is key: value\n",
        "for item in iter_dict:\n",
        "    print(f'The {item} is {iter_dict[item]}.')"
      ],
      "execution_count": null,
      "outputs": []
    },
    {
      "cell_type": "markdown",
      "metadata": {
        "id": "VF-85rKu81Sz"
      },
      "source": [
        "The `.keys()` and `.values()` of dicts are also iterables."
      ]
    },
    {
      "cell_type": "code",
      "metadata": {
        "id": "OuI_Xvq88SNI"
      },
      "source": [
        "for item in iter_dict.keys():\n",
        "    print(item)"
      ],
      "execution_count": null,
      "outputs": []
    },
    {
      "cell_type": "code",
      "metadata": {
        "id": "8BcVj5L09EpF"
      },
      "source": [
        "for item in iter_dict.values():\n",
        "    print(item)"
      ],
      "execution_count": null,
      "outputs": []
    },
    {
      "cell_type": "markdown",
      "metadata": {
        "id": "KBcqmKY993Xx"
      },
      "source": [
        "## `if`/`else` statements\n",
        "\n",
        "Sometimes we want to execute code only if certain conditions are met. In this case, we can use an `if` statement."
      ]
    },
    {
      "cell_type": "code",
      "metadata": {
        "id": "7IdWZBbv92kv"
      },
      "source": [
        "a = 5 # try replacing with 3 or 4 and run again!\n",
        "\n",
        "if a > 4:\n",
        "    print('a is greater than 4')"
      ],
      "execution_count": null,
      "outputs": []
    },
    {
      "cell_type": "code",
      "metadata": {
        "id": "pIpJ0Hj59Hqe"
      },
      "source": [
        "a = 5 # try replacing with 3 or 4 and run again!\n",
        "\n",
        "if a > 4:\n",
        "    print('a is greater than 4')\n",
        "else:\n",
        "    print('a is less than or equal to 4')"
      ],
      "execution_count": null,
      "outputs": []
    },
    {
      "cell_type": "code",
      "metadata": {
        "id": "ub-4K2EphTnJ"
      },
      "source": [
        "a = 5 # try replacing with 3 or 4 and run again!\n",
        "\n",
        "if a > 4:\n",
        "    print('a is greater than 4')\n",
        "elif a == 4: # 'elif' is 'else if'\n",
        "    print('a is equal to 4')\n",
        "else:\n",
        "    print('a is less than 4')"
      ],
      "execution_count": null,
      "outputs": []
    },
    {
      "cell_type": "markdown",
      "metadata": {
        "id": "OQj5ez4-hemf"
      },
      "source": [
        "We can use `and` and `or` for logic with multiple conditions."
      ]
    },
    {
      "cell_type": "code",
      "metadata": {
        "id": "S6-NWLw5-lnq"
      },
      "source": [
        "a = 5 # try replacing with 3 or 4 and run again!\n",
        "\n",
        "if a > 3 and a < 6:\n",
        "    print('a is between 3 and 6')"
      ],
      "execution_count": null,
      "outputs": []
    },
    {
      "cell_type": "code",
      "metadata": {
        "id": "mPMoPFndg2_k"
      },
      "source": [
        "a = 5 # try replacing with 3 or 4 and run again!\n",
        "\n",
        "if a > 3:\n",
        "    if a < 6: # this is the same as using and, like we did in the previous code cell\n",
        "        print('a is between 3 and 6')"
      ],
      "execution_count": null,
      "outputs": []
    },
    {
      "cell_type": "code",
      "metadata": {
        "id": "Ae3IXjmDg3OI"
      },
      "source": [
        "a = 2000 # try replacing with 3 or -2000 and run again!\n",
        "\n",
        "if a < -1000 or a > 1000:\n",
        "    print('a is not close to 0')"
      ],
      "execution_count": null,
      "outputs": []
    },
    {
      "cell_type": "markdown",
      "metadata": {
        "id": "MtAcx4HsW53V"
      },
      "source": [
        "We can also use `in` with `if` statements to check if an element is present in an iterable."
      ]
    },
    {
      "cell_type": "code",
      "metadata": {
        "id": "kbtbCgE8XBm_"
      },
      "source": [
        "my_lst = ['a', 2, 3.0]\n",
        "\n",
        "if 'a' in my_lst:\n",
        "    print('a')\n",
        "if 'b' in my_lst:\n",
        "    print('b')"
      ],
      "execution_count": null,
      "outputs": []
    },
    {
      "cell_type": "markdown",
      "metadata": {
        "id": "QRC1yXeuXb_z"
      },
      "source": [
        "We can also use `not` to reverse the boolean result."
      ]
    },
    {
      "cell_type": "code",
      "metadata": {
        "id": "Z6Mc_Ug2XSxV"
      },
      "source": [
        "if 'a' not in my_lst:\n",
        "    print('no a')\n",
        "if 'b' not in my_lst:\n",
        "    print('no b')"
      ],
      "execution_count": null,
      "outputs": []
    },
    {
      "cell_type": "markdown",
      "metadata": {
        "id": "rYhqwezm-49v"
      },
      "source": [
        "Often, we combine `if` statements with `for` statements."
      ]
    },
    {
      "cell_type": "code",
      "metadata": {
        "id": "5ocYcgX4-yg9"
      },
      "source": [
        "for a in range(0,10):\n",
        "    if a > 4:\n",
        "        print('a is greater than 4')\n",
        "    elif a == 4:\n",
        "        print('a is equal to 4')\n",
        "    else:\n",
        "        print('a is less than 4')"
      ],
      "execution_count": null,
      "outputs": []
    },
    {
      "cell_type": "markdown",
      "metadata": {
        "id": "c06Uf5dL_Yrp"
      },
      "source": [
        "## `while` statements\n",
        "\n",
        "A `while` statement is used when we want to have a loop repeat while a certain condition is met (i.e. until the condition is no longer met).\n",
        "\n",
        "`while` statements are controlled by booleans."
      ]
    },
    {
      "cell_type": "code",
      "metadata": {
        "id": "VQbKNlhQ-04v"
      },
      "source": [
        "while False:\n",
        "    print('This will never print!')"
      ],
      "execution_count": null,
      "outputs": []
    },
    {
      "cell_type": "code",
      "metadata": {
        "id": "5DZEs-R0_0a1"
      },
      "source": [
        "while True:\n",
        "    print('This will print forever!')"
      ],
      "execution_count": null,
      "outputs": []
    },
    {
      "cell_type": "markdown",
      "metadata": {
        "id": "ZEJ_HtQ_ABgo"
      },
      "source": [
        "We can use some type of check (an equivalence or inequality) to generate the boolean."
      ]
    },
    {
      "cell_type": "code",
      "metadata": {
        "id": "fACYSvEs_6JM"
      },
      "source": [
        "a = 0\n",
        "while a < 10:\n",
        "    print(a)\n",
        "    a += 1"
      ],
      "execution_count": null,
      "outputs": []
    },
    {
      "cell_type": "code",
      "metadata": {
        "id": "E8fKPTXDAPBW"
      },
      "source": [
        "b = 'red'\n",
        "i = 0\n",
        "while b == 'red':\n",
        "    print('b is red')\n",
        "    i += 1\n",
        "    if i > 9:\n",
        "        b = 'blue'\n"
      ],
      "execution_count": null,
      "outputs": []
    },
    {
      "cell_type": "markdown",
      "metadata": {
        "id": "4IstAO8IAnzu"
      },
      "source": [
        "We can also send specific commands to control the `while` loop so that we do not have to control the boolean with a variable. The three commands that we use to control `while` loops are `break`, `continue`, and `pass`. These are all generally used with `if` statements.\n",
        "\n",
        " `break` will cause the loop to stop, `continue` will skip the remaining code of the loop and continue from the beginning, and `pass` generally just allows the loop to continue."
      ]
    },
    {
      "cell_type": "code",
      "metadata": {
        "id": "Z2fvFg0VAiI7"
      },
      "source": [
        "a = 0\n",
        "while True:\n",
        "    a += 1\n",
        "    print(a)\n",
        "    if a > 9:\n",
        "        break"
      ],
      "execution_count": null,
      "outputs": []
    },
    {
      "cell_type": "code",
      "metadata": {
        "id": "Akw9FF4hCCUO"
      },
      "source": [
        "a = 0\n",
        "while True:\n",
        "    a += 1\n",
        "    if a <= 4:\n",
        "        print(a)\n",
        "    else:\n",
        "        print('a is greater than 4')\n",
        "        continue \n",
        "    if a > 9: # This will never trigger! Why?\n",
        "        break"
      ],
      "execution_count": null,
      "outputs": []
    },
    {
      "cell_type": "code",
      "metadata": {
        "id": "bzPHxsjNCutw"
      },
      "source": [
        "a = 0\n",
        "while True:\n",
        "    a += 1\n",
        "    if a <= 4:\n",
        "        print(a)\n",
        "    else:\n",
        "        print('a is greater than 4')\n",
        "        pass\n",
        "    if a > 9:\n",
        "        break"
      ],
      "execution_count": null,
      "outputs": []
    },
    {
      "cell_type": "markdown",
      "metadata": {
        "id": "ds04sC6lJRus"
      },
      "source": [
        "# List comprehensions\n",
        "\n",
        "A useful feature that was more recently added to Python is 'list comprehensions.' These allow us to quickly generate iterables while also using flow control. They are equivalent to more complicated-looking loops."
      ]
    },
    {
      "cell_type": "code",
      "metadata": {
        "id": "lp0Zd1W8CRKr"
      },
      "source": [
        "# Traditional loop\n",
        "\n",
        "a = [] # empty list\n",
        "for i in range(0,10):\n",
        "    a.append(i)\n",
        "print(a)"
      ],
      "execution_count": null,
      "outputs": []
    },
    {
      "cell_type": "code",
      "metadata": {
        "id": "vcWSs4fxJ4nY"
      },
      "source": [
        "# List comprehension\n",
        "a = [i for i in range(0,10)]\n",
        "print(a)"
      ],
      "execution_count": null,
      "outputs": []
    },
    {
      "cell_type": "markdown",
      "metadata": {
        "id": "2w0YgNBPKQr6"
      },
      "source": [
        "We are generating iterables based on other iterables! More explicitly:"
      ]
    },
    {
      "cell_type": "code",
      "metadata": {
        "id": "9nKE3uY7J9FQ"
      },
      "source": [
        "b = [i * 2 for i in a]\n",
        "print(b)"
      ],
      "execution_count": null,
      "outputs": []
    },
    {
      "cell_type": "markdown",
      "metadata": {
        "id": "kdv1GGpLKdRV"
      },
      "source": [
        "We can also add conditionals."
      ]
    },
    {
      "cell_type": "code",
      "metadata": {
        "id": "gp4mqDohKXj6"
      },
      "source": [
        "c = [i for i in b if i < 15]\n",
        "print(c)"
      ],
      "execution_count": null,
      "outputs": []
    },
    {
      "cell_type": "markdown",
      "metadata": {
        "id": "oDw77LdtKzAV"
      },
      "source": [
        "Unfortunately `if else` statements have a slightly different format than `if` statements."
      ]
    },
    {
      "cell_type": "code",
      "metadata": {
        "id": "aAITjjLFKh4X"
      },
      "source": [
        "d = [i if i < 15 else 14 for i in b]\n",
        "print(d)"
      ],
      "execution_count": null,
      "outputs": []
    },
    {
      "cell_type": "markdown",
      "metadata": {
        "id": "AC4A20tfLJQG"
      },
      "source": [
        "We can also generate sets and dicts using comprehensions by using `{}` instead of `[]`."
      ]
    },
    {
      "cell_type": "code",
      "metadata": {
        "id": "dfTm-OszKpzw"
      },
      "source": [
        "set_comp = {i if i < 15 else 14 for i in b}\n",
        "print(set_comp)"
      ],
      "execution_count": null,
      "outputs": []
    },
    {
      "cell_type": "code",
      "metadata": {
        "id": "NK4ornxeKxOE"
      },
      "source": [
        "dict_comp = {i: i * 2 if i < 15 else 14 * 2 for i in b}\n",
        "print(dict_comp)"
      ],
      "execution_count": null,
      "outputs": []
    },
    {
      "cell_type": "markdown",
      "metadata": {
        "id": "xfaz_ROLMWcZ"
      },
      "source": [
        "# Functions\n",
        "\n",
        "Finally, functions! Functions are what make the programming world go around and greatly reduce the amount of copy-pasting we do. In general, if you are tempted to copy-paste some lines of code more than once, you should turn those lines into a function.\n",
        "\n",
        "Functions take optionally take input, execute code, and optionally return output. We create functions by 'defining' them with `def` then call them by using their names (including `()`)."
      ]
    },
    {
      "cell_type": "code",
      "metadata": {
        "id": "5szmhIqGLbLf"
      },
      "source": [
        "def simple_function():\n",
        "    print('It worked!')\n",
        "simple_function()"
      ],
      "execution_count": null,
      "outputs": []
    },
    {
      "cell_type": "markdown",
      "metadata": {
        "id": "sszh10fwNK40"
      },
      "source": [
        "In general, we can do anything inside a function that we could do outside. **However** it is important to differentiate variables defined within a function with those defined outside."
      ]
    },
    {
      "cell_type": "code",
      "metadata": {
        "id": "ip_uLD3_NE5i"
      },
      "source": [
        "def another_function():\n",
        "    z = 2\n",
        "    y = z * 5\n",
        "    print(y)\n",
        "another_function()"
      ],
      "execution_count": null,
      "outputs": []
    },
    {
      "cell_type": "code",
      "metadata": {
        "id": "gqjA8tqjNg-C"
      },
      "source": [
        "print(y) # Error!"
      ],
      "execution_count": null,
      "outputs": []
    },
    {
      "cell_type": "markdown",
      "metadata": {
        "id": "gC1QXpKRNwet"
      },
      "source": [
        "We see that variables defined within function, often called 'local variables,' are not accessible outside of the function. To pass these local variables outside of the function, we can use `return` and assign the output to a global variable."
      ]
    },
    {
      "cell_type": "code",
      "metadata": {
        "id": "XrxqvoMvNmUE"
      },
      "source": [
        "def returning_function():\n",
        "    z = 2\n",
        "    y = z * 5\n",
        "    return y\n",
        "global_y = returning_function()\n",
        "print(global_y)"
      ],
      "execution_count": null,
      "outputs": []
    },
    {
      "cell_type": "code",
      "metadata": {
        "id": "RD3of2n3Ou_a"
      },
      "source": [
        "def double_returning_function():\n",
        "    z = 2\n",
        "    y = z * 5\n",
        "    return y, z # we can return multiple variables\n",
        "global_y, global_z = double_returning_function() # and then assign those variables separately\n",
        "print(global_y)\n",
        "print(global_z)"
      ],
      "execution_count": null,
      "outputs": []
    },
    {
      "cell_type": "markdown",
      "metadata": {
        "id": "JbbNPPW8OUWC"
      },
      "source": [
        "In general, variables defined outside of a function, 'global variables,' can be accessed within the function. However, it is best practice to directly pass those variables into the function as input. The input is placed inside the  `()` when defining and using the function."
      ]
    },
    {
      "cell_type": "code",
      "metadata": {
        "id": "pvGSELWsPMWh"
      },
      "source": [
        "def times_three(x):\n",
        "    return x * 3\n",
        "four_times_three = times_three(4)\n",
        "print(four_times_three)"
      ],
      "execution_count": null,
      "outputs": []
    },
    {
      "cell_type": "code",
      "metadata": {
        "id": "OfFbUuXBRZ9F"
      },
      "source": [
        "p = 6\n",
        "p_times_three = times_three(p) # we can take variables as input\n",
        "print(p_times_three)"
      ],
      "execution_count": null,
      "outputs": []
    },
    {
      "cell_type": "code",
      "metadata": {
        "id": "WVFLIbEwPYlx"
      },
      "source": [
        "list_comp_with_func = [times_three(i) for i in range(0, 5)] # we can use functions in list comprehensions\n",
        "print(list_comp_with_func)"
      ],
      "execution_count": null,
      "outputs": []
    },
    {
      "cell_type": "code",
      "metadata": {
        "id": "AjpWKCFoPwba"
      },
      "source": [
        "def my_multiplier(x, y):\n",
        "    return x * y\n",
        "five_times_four = my_multiplier(5, 4)\n",
        "print(five_times_four)"
      ],
      "execution_count": null,
      "outputs": []
    },
    {
      "cell_type": "markdown",
      "metadata": {
        "id": "zYEmThYqPllr"
      },
      "source": [
        "We can also define a default variable for a function when creating the function. If we do not do this, we must always pass the input when calling the function."
      ]
    },
    {
      "cell_type": "code",
      "metadata": {
        "id": "TpUjeL8pQSSE"
      },
      "source": [
        "times_three() # Error!"
      ],
      "execution_count": null,
      "outputs": []
    },
    {
      "cell_type": "code",
      "metadata": {
        "id": "sCE49aY9PhRt"
      },
      "source": [
        "def times_three_or_any(x=1, y=3):\n",
        "    return x * y\n",
        "default_return = times_three_or_any()\n",
        "print(default_return)"
      ],
      "execution_count": null,
      "outputs": []
    },
    {
      "cell_type": "code",
      "metadata": {
        "id": "LfDHwzoYRIQG"
      },
      "source": [
        "five_times_three = times_three_or_any(5) # same as times_three_or_any(x=5)\n",
        "print(five_times_three)"
      ],
      "execution_count": null,
      "outputs": []
    },
    {
      "cell_type": "code",
      "metadata": {
        "id": "EGrsMDuUQvZz"
      },
      "source": [
        "five_times_six = times_three_or_any(5, 6) # same as times_three_or_any(x=5, y=6)\n",
        "print(five_times_six)"
      ],
      "execution_count": null,
      "outputs": []
    },
    {
      "cell_type": "markdown",
      "metadata": {
        "id": "JAshvCI9ZFwp"
      },
      "source": [
        "You've made it to the end of the Python Boot Camp - **congratulations!** If you have any questions or comments, please use the discussion board on the Canvas site!\n",
        "\n",
        "Also, you're ready to complete the 4th and final quiz on Canvas!"
      ]
    }
  ]
}