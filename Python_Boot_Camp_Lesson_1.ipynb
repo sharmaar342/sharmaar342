{
  "nbformat": 4,
  "nbformat_minor": 0,
  "metadata": {
    "colab": {
      "provenance": [],
      "collapsed_sections": [],
      "toc_visible": true,
      "include_colab_link": true
    },
    "kernelspec": {
      "name": "python3",
      "display_name": "Python 3"
    },
    "language_info": {
      "name": "python"
    }
  },
  "cells": [
    {
      "cell_type": "markdown",
      "metadata": {
        "id": "view-in-github",
        "colab_type": "text"
      },
      "source": [
        "<a href=\"https://colab.research.google.com/github/sharmaar342/sharmaar342/blob/main/Python_Boot_Camp_Lesson_1.ipynb\" target=\"_parent\"><img src=\"https://colab.research.google.com/assets/colab-badge.svg\" alt=\"Open In Colab\"/></a>"
      ]
    },
    {
      "cell_type": "markdown",
      "metadata": {
        "id": "FzADHhh5kAPv"
      },
      "source": [
        "# Python Boot Camp Lesson 1\n",
        "\n",
        "**Author:** Nicholas Colella<br>\n",
        "**Date created:** 2021/08/15<br>\n",
        "**Last modified:** 2021/01/24<br>\n"
      ]
    },
    {
      "cell_type": "markdown",
      "metadata": {
        "id": "Oi6drryu3Ja4"
      },
      "source": [
        "# Welcome!\n",
        "\n",
        "These lessons are being executed as [Jupyter Notebooks](https://jupyter.org/) and hosted by [Google Colab](https://research.google.com/colaboratory/faq.html).\n",
        "\n",
        "Notebooks contain two types of information: Text (like this one) which will not be executed as code, and Code which will be executed as Python code. You can see buttons in the top-left corner of your screen which generate new Code and Text cells.\n",
        "\n",
        "Before we continue on, go ahead and save a copy of this lesson in your Google Drive. From the File menu in the top left corner, select 'Save a copy in Drive.'\n",
        "\n"
      ]
    },
    {
      "cell_type": "markdown",
      "source": [
        "# Course Information\n",
        "\n",
        "You are encouraged to watch the corresponding video, available on Canvas, as you work through this notebook. \n",
        "\n",
        "Additionally, we strongly encourage you to test your understanding of the material as you go! The Canvas quiz can be completed while you watch the video and work on the notebook (and can be taken multiple times)."
      ],
      "metadata": {
        "id": "Ui3EdCsVWE2y"
      }
    },
    {
      "cell_type": "markdown",
      "metadata": {
        "id": "HoL-aa2R4rSk"
      },
      "source": [
        "# Getting around Colab\n",
        "\n",
        "\n",
        "## Left menu bar\n",
        "\n",
        "First, let's introduce you to the interface. On the left side of the screen you will see a number of icons. The first is the Table of Contents which will show you an auto-generated overview of the notebook.\n",
        "\n",
        "The second icon is a standard search.\n",
        "\n",
        "The third icon allows you to add some special code which takes input from the notebook user.\n",
        "\n",
        "The fourth icon is most relevant to us. Because Colab is running in the cloud, we need a way to access the filesystem where the code is running. For instance, you could drag-and-drop a .csv file containing data here, connect your Google Drive so that the notebook has access to files stored in GDrive, or download files that your code generates.\n",
        "\n",
        "## Top menu\n",
        "\n",
        "Like when doing any other work on the computer, we will want to save as we go. Colab will automatically save the file as we edit it; this is both an advantage and a disadvantage. It means that if the computer crashes or we lose internet connection, our most recent work will likely be saved. However, if we accidentally delete a section or rewrite some code and it no longer works, it may not be easy to go back to the working code by default. \n",
        "\n",
        "To remedy this, there is a \"Save and pin revision\" function in the File menu. Each updated save of your notebook is known as a \"revision,\" and regular revisions will get periodically erased to save space. However, if you \"pin\" a revision, it will not be erased and it will be easier for you to go back and find the working, pinned code.\n",
        "\n",
        "You can also save additionally copies of your code (for instance, if you want to make very substantial changes but want to keep the old code intact), or download your code as a Python Notebook or a regular Python .py script.\n",
        "\n",
        "The other very important menu option at the top of the screen is the Runtime. The Runtime is what executes your code cells and stores your variables. You can think of it as the computer/program that is running your code. With the notebook format, you can choose to run one code cell at a time or run groups of code cells together.\n",
        "\n",
        "If your code becomes unresponsive you can interrupt the runtime. Note that interrupting or **restarting the runtime resets your variables.** \n",
        "\n",
        "A final tip is to select Tools -> Settings -> Editor and set 'Indentation width in spaces' to 4 and check 'Show indentation guides'"
      ]
    },
    {
      "cell_type": "markdown",
      "metadata": {
        "id": "j3DRjGXPQtkf"
      },
      "source": [
        "Sidenote on alternatives to Colab:\n",
        "\n",
        "For programming exploration and most of your classes, Colab is an excellent tool. For more \"serious\" programming, the use of an integrated development environment (IDE), such as [PyCharm](https://www.jetbrains.com/pycharm/), [VSCode](https://code.visualstudio.com/), or others, can be useful."
      ]
    },
    {
      "cell_type": "markdown",
      "metadata": {
        "id": "C371KYl17k1N"
      },
      "source": [
        "# Variables\n",
        "\n",
        "Variables are how Python stores data. The most common types ('classes') of variables in Python are:\n",
        "\n",
        "*   int - integers (positive or negative whole numbers)\n",
        "*   float - floating-point numbers (numbers with decimals)\n",
        "*   str - strings (generally text)\n",
        "*   list - lists (ordered set of other variables)\n",
        "*   set - sets (unordered sets of other variables)\n",
        "*   dict - dictionaries (mapping between variables and other variables) \n",
        "*   tuple - tuples (like lists, except contents cannot be changed)\n",
        "*   bool - booleans (true / false)\n",
        "\n",
        "Variables are stored as strings of characters using the equals sign (=). We can print the contents of a variable with a print() statement. Let's try it out!\n"
      ]
    },
    {
      "cell_type": "code",
      "metadata": {
        "id": "Y7i7ZTcr3IsD"
      },
      "source": [
        "a = 1\n",
        "b = 2.0\n",
        "c = 'hello!'\n",
        "d = [4, 5]\n",
        "e = {5, 6}\n",
        "f = {'key1': 'val1', 'key2': 'val2'}\n",
        "g = (7, 8)\n",
        "h = True # note the capitalization and color change"
      ],
      "execution_count": null,
      "outputs": []
    },
    {
      "cell_type": "code",
      "metadata": {
        "id": "GGWPeTmvkKh9"
      },
      "source": [
        "print(a)\n",
        "print(type(a))"
      ],
      "execution_count": null,
      "outputs": []
    },
    {
      "cell_type": "code",
      "metadata": {
        "id": "OXUyPDBd9c7l"
      },
      "source": [
        "print(b)\n",
        "print(type(b))"
      ],
      "execution_count": null,
      "outputs": []
    },
    {
      "cell_type": "code",
      "metadata": {
        "id": "j2x2ClxE9c9g"
      },
      "source": [
        "print(c)\n",
        "print(type(c))"
      ],
      "execution_count": null,
      "outputs": []
    },
    {
      "cell_type": "code",
      "metadata": {
        "id": "s_lKEnhl9c_i"
      },
      "source": [
        "print(d)\n",
        "print(type(d))"
      ],
      "execution_count": null,
      "outputs": []
    },
    {
      "cell_type": "code",
      "metadata": {
        "id": "1xNbxGft9yV0"
      },
      "source": [
        "print(e)\n",
        "print(type(e))"
      ],
      "execution_count": null,
      "outputs": []
    },
    {
      "cell_type": "code",
      "metadata": {
        "id": "3jEqWiUo9zjE"
      },
      "source": [
        "print(f)\n",
        "print(type(f))"
      ],
      "execution_count": null,
      "outputs": []
    },
    {
      "cell_type": "code",
      "metadata": {
        "id": "a7BpbZyH9ztN"
      },
      "source": [
        "print(g)\n",
        "print(type(g))"
      ],
      "execution_count": null,
      "outputs": []
    },
    {
      "cell_type": "code",
      "metadata": {
        "id": "TuPmBkauwGoH"
      },
      "source": [
        "print(h)\n",
        "print(type(h))"
      ],
      "execution_count": null,
      "outputs": []
    },
    {
      "cell_type": "code",
      "metadata": {
        "id": "2iM1ITlp-A-n"
      },
      "source": [
        "print(i)"
      ],
      "execution_count": null,
      "outputs": []
    },
    {
      "cell_type": "markdown",
      "metadata": {
        "id": "ssjXwH1wtBXa"
      },
      "source": [
        "Our first error! There are a few things to note when an error occurs. Which line caused the error? Line 1 in this case. What is the type of error? It is a `NameError` in this case.\n",
        "\n",
        "This error occured because we did not assign any value to `i`, i.e. `i` is not defined.\n",
        "\n",
        "Sidenote for you math people out there: there is also `complex(a, b)` which is equivalent to a + bi."
      ]
    },
    {
      "cell_type": "markdown",
      "metadata": {
        "id": "zbbgKRr--4Oe"
      },
      "source": [
        "## Manipulating variables\n",
        "\n",
        "Storing variables is useful, but it is more useful to be able to do something with the stored data! Python makes doing lots of complicated calculations easy."
      ]
    },
    {
      "cell_type": "code",
      "metadata": {
        "id": "r8-lPCM1-3bI"
      },
      "source": [
        "a + 1"
      ],
      "execution_count": null,
      "outputs": []
    },
    {
      "cell_type": "code",
      "metadata": {
        "id": "p6cEZdxctC4n"
      },
      "source": [
        "a * 3"
      ],
      "execution_count": null,
      "outputs": []
    },
    {
      "cell_type": "code",
      "metadata": {
        "id": "sqeKgJCC-qCG"
      },
      "source": [
        "b ** 3 # this is what we would normally write as b^3"
      ],
      "execution_count": null,
      "outputs": []
    },
    {
      "cell_type": "code",
      "metadata": {
        "id": "Gk9pei5W-qEG"
      },
      "source": [
        "# Wow, that was our (edit: second!) first comment! We can use the # symbol to add text to a code cell,\n",
        "# and the cell will not execute anything that comes after the #.\n",
        "# This is useful for labeling our code as we go so it makes more sense when we look back at it later!\n",
        "# It is important to get in the habit of labeling code as you write.\n",
        "# You can also use comments to leave code intact but not execute it:\n",
        "# Click on the line below with your mouse then hit CTRL + /\n",
        "a + 4"
      ],
      "execution_count": null,
      "outputs": []
    },
    {
      "cell_type": "markdown",
      "metadata": {
        "id": "2RVHAUp6AMmz"
      },
      "source": [
        "Okay, back to working with variables. Note that in the previous examples, the class of the resulting variable matched that of the input variable:"
      ]
    },
    {
      "cell_type": "code",
      "metadata": {
        "id": "F2KDwjIK-qGN"
      },
      "source": [
        "type(a + 1)"
      ],
      "execution_count": null,
      "outputs": []
    },
    {
      "cell_type": "code",
      "metadata": {
        "id": "7FuhAxeJ-pKF"
      },
      "source": [
        "type(a * 3)"
      ],
      "execution_count": null,
      "outputs": []
    },
    {
      "cell_type": "code",
      "metadata": {
        "id": "LJRj7JDsAdfT"
      },
      "source": [
        "type(b ** 3)"
      ],
      "execution_count": null,
      "outputs": []
    },
    {
      "cell_type": "markdown",
      "metadata": {
        "id": "o5Hhm_pqAfe8"
      },
      "source": [
        "What happens if we mix types?"
      ]
    },
    {
      "cell_type": "code",
      "metadata": {
        "id": "s_N2dAKFAhJ6"
      },
      "source": [
        "print(a * b)\n",
        "print(type(a * b))"
      ],
      "execution_count": null,
      "outputs": []
    },
    {
      "cell_type": "code",
      "metadata": {
        "id": "H064BzdoAkIl"
      },
      "source": [
        "print(a + 1.0)\n",
        "print(type(a + 1.0))"
      ],
      "execution_count": null,
      "outputs": []
    },
    {
      "cell_type": "markdown",
      "metadata": {
        "id": "mRgrR4tDAwA9"
      },
      "source": [
        "Python is fairly intelligent and can interconvert between reasonable class types. As you continue on your Python journey, the most common error that will encounter will be type errors. Always keep track of the classes of the variables you are using.\n",
        "\n",
        "We can also change the type of a variable by using the corresponding keyword:"
      ]
    },
    {
      "cell_type": "code",
      "metadata": {
        "id": "9_DlUrS4AvbS"
      },
      "source": [
        "int(b)"
      ],
      "execution_count": null,
      "outputs": []
    },
    {
      "cell_type": "code",
      "metadata": {
        "id": "INTmSibqAvfM"
      },
      "source": [
        "float(a)"
      ],
      "execution_count": null,
      "outputs": []
    },
    {
      "cell_type": "code",
      "metadata": {
        "id": "qnzKF26rBSED"
      },
      "source": [
        "k = 3.14159\n",
        "int(k)"
      ],
      "execution_count": null,
      "outputs": []
    },
    {
      "cell_type": "code",
      "metadata": {
        "id": "eqosZrM8BaZ8"
      },
      "source": [
        "j = 3.98765\n",
        "int(j) # beware that Python will round down by default!"
      ],
      "execution_count": null,
      "outputs": []
    },
    {
      "cell_type": "code",
      "metadata": {
        "id": "2ZJkYJ_kBhx9"
      },
      "source": [
        "round(j) # We can use the round() function to get a rounded int"
      ],
      "execution_count": null,
      "outputs": []
    },
    {
      "cell_type": "code",
      "metadata": {
        "id": "NI6hQG1WBmXT"
      },
      "source": [
        "round(j, 3) # We can also give the round() function a second input which tells it how many decimal places to return"
      ],
      "execution_count": null,
      "outputs": []
    },
    {
      "cell_type": "markdown",
      "metadata": {
        "id": "C9u8UyMHDr4u"
      },
      "source": [
        "### Assigning variables based on other variables\n",
        "\n",
        "We can also assign variables relative to other variables:"
      ]
    },
    {
      "cell_type": "code",
      "metadata": {
        "id": "Y7w8T7qcDxhe"
      },
      "source": [
        "m = (a + 3) * b\n",
        "m"
      ],
      "execution_count": null,
      "outputs": []
    },
    {
      "cell_type": "markdown",
      "metadata": {
        "id": "7iFyx22gHunS"
      },
      "source": [
        "We can even assign variables based on themselves! We sometimes call this \"recursion.\""
      ]
    },
    {
      "cell_type": "code",
      "metadata": {
        "id": "g0l7CnWXHtmt"
      },
      "source": [
        "p = 5.0\n",
        "p = p * 2\n",
        "p"
      ],
      "execution_count": null,
      "outputs": []
    },
    {
      "cell_type": "code",
      "metadata": {
        "id": "mNFF_9p6H5qO"
      },
      "source": [
        "p = 5.0\n",
        "p *= 2 # Fancy self-notation\n",
        "p"
      ],
      "execution_count": null,
      "outputs": []
    },
    {
      "cell_type": "code",
      "metadata": {
        "id": "8eX9vp5VIKNK"
      },
      "source": [
        "p = 5.0\n",
        "p += 2 # Another example\n",
        "p"
      ],
      "execution_count": null,
      "outputs": []
    },
    {
      "cell_type": "markdown",
      "metadata": {
        "id": "hIZYOJsoEAcl"
      },
      "source": [
        "Note that we can often change an input variable, but it won't *necessarily* change the resulting variable:"
      ]
    },
    {
      "cell_type": "code",
      "metadata": {
        "id": "IW95CdvzD5w1"
      },
      "source": [
        "print(a)\n",
        "m = (a + 3) * b\n",
        "print(m)\n",
        "a = 3\n",
        "print(m)"
      ],
      "execution_count": null,
      "outputs": []
    },
    {
      "cell_type": "code",
      "metadata": {
        "id": "Nf5PEgEUEHSY"
      },
      "source": [
        "m = (a + 3) * b # Reassigning m using the new a\n",
        "print(m)"
      ],
      "execution_count": null,
      "outputs": []
    },
    {
      "cell_type": "markdown",
      "metadata": {
        "id": "q2i4epYrEM6I"
      },
      "source": [
        "However, this can sometimes get is into trouble!\n"
      ]
    },
    {
      "cell_type": "code",
      "metadata": {
        "id": "jgmr4NQrEMOY"
      },
      "source": [
        "n = d\n",
        "n"
      ],
      "execution_count": null,
      "outputs": []
    },
    {
      "cell_type": "code",
      "metadata": {
        "id": "um8PVzOeEhHb"
      },
      "source": [
        "d[0] = 1 # don't worry about this notation for now - we will cover it shortly!\n",
        "d"
      ],
      "execution_count": null,
      "outputs": []
    },
    {
      "cell_type": "code",
      "metadata": {
        "id": "SP2nIsMjEkIr"
      },
      "source": [
        "n"
      ],
      "execution_count": null,
      "outputs": []
    },
    {
      "cell_type": "markdown",
      "metadata": {
        "id": "3-EBIKk3E5tA"
      },
      "source": [
        "Uh oh! What happened here? Python *bound* `n` to `d`.\n",
        "\n",
        "For simple variable types (i.e. numbers and strings), assigning variables relative to other variables is safe, but for more complex data types (lists, sets, etc.), we need to use `.copy()` to make a copy and not just a binding:"
      ]
    },
    {
      "cell_type": "code",
      "metadata": {
        "id": "g4TN84ImEq1y"
      },
      "source": [
        "d = [4, 5]\n",
        "n = d.copy()\n",
        "n"
      ],
      "execution_count": null,
      "outputs": []
    },
    {
      "cell_type": "code",
      "metadata": {
        "id": "2WfJI32_E2Bz"
      },
      "source": [
        "d[0] = 1 \n",
        "d"
      ],
      "execution_count": null,
      "outputs": []
    },
    {
      "cell_type": "code",
      "metadata": {
        "id": "pB8Q5sc_E37b"
      },
      "source": [
        "n"
      ],
      "execution_count": null,
      "outputs": []
    },
    {
      "cell_type": "markdown",
      "metadata": {
        "id": "KA9CO25KCAkj"
      },
      "source": [
        "### Variables that aren't just numbers\n",
        "\n",
        "Recall that we assigned\n",
        "\n",
        "```\n",
        "c = 'hello!'\n",
        "```\n",
        "\n",
        "What happens if we try to manipulate this variable?\n"
      ]
    },
    {
      "cell_type": "code",
      "metadata": {
        "id": "yAWydwSPCBvP"
      },
      "source": [
        "c * 3"
      ],
      "execution_count": null,
      "outputs": []
    },
    {
      "cell_type": "code",
      "metadata": {
        "id": "Hx8H-slSCBxh"
      },
      "source": [
        "c + 3 # Error!"
      ],
      "execution_count": null,
      "outputs": []
    },
    {
      "cell_type": "code",
      "metadata": {
        "id": "puXOfrU7CBzj"
      },
      "source": [
        "c + \" how are you?\""
      ],
      "execution_count": null,
      "outputs": []
    },
    {
      "cell_type": "markdown",
      "metadata": {
        "id": "e3UR9ApCCvDG"
      },
      "source": [
        "So we can do some basic manipulations, repeating or \"concatenating\" (adding together), with strings.\n",
        "\n"
      ]
    },
    {
      "cell_type": "markdown",
      "metadata": {
        "id": "0dQOhhhgJPN-"
      },
      "source": [
        "## Printing\n",
        "\n",
        "So far, we have used simply having a variable on its own line and using the `print()` function more or less interchangeably. In general, it is best to always use the `print()` function. Let's take a look at why."
      ]
    },
    {
      "cell_type": "code",
      "metadata": {
        "id": "O7fZbtKKJhKI"
      },
      "source": [
        "# First, we will reassign our variables just to ensure they are what we want:\n",
        "a = 1\n",
        "b = 2.0\n",
        "c = 'hello!'"
      ],
      "execution_count": null,
      "outputs": []
    },
    {
      "cell_type": "code",
      "metadata": {
        "id": "YvsRser6JhPv"
      },
      "source": [
        "a"
      ],
      "execution_count": null,
      "outputs": []
    },
    {
      "cell_type": "code",
      "metadata": {
        "id": "aZJq96CbJuBd"
      },
      "source": [
        "a\n",
        "b"
      ],
      "execution_count": null,
      "outputs": []
    },
    {
      "cell_type": "markdown",
      "metadata": {
        "id": "LNA5M4BhJxPh"
      },
      "source": [
        "We see that only the last variable on its own line gets printed! To remedy this, we will use the `print()` function."
      ]
    },
    {
      "cell_type": "code",
      "metadata": {
        "id": "khDdfRtiJuDZ"
      },
      "source": [
        "print(a)\n",
        "print(b)"
      ],
      "execution_count": null,
      "outputs": []
    },
    {
      "cell_type": "markdown",
      "metadata": {
        "id": "FZNdSlwUJ88w"
      },
      "source": [
        "You can go through the previous code cells in this notebook and see how `print()` has been used whenever we want multiple printed statements from one code cell.\n",
        "\n",
        "We can also print strings easily:"
      ]
    },
    {
      "cell_type": "code",
      "metadata": {
        "id": "9Xsw5krvKao3"
      },
      "source": [
        "print(c)\n",
        "print('how are you?')\n",
        "print(c + ' how are you?')"
      ],
      "execution_count": null,
      "outputs": []
    },
    {
      "cell_type": "markdown",
      "metadata": {
        "id": "2TKGx4IsKHoJ"
      },
      "source": [
        "### Printing multiple types\n",
        "\n",
        "What if we want to describe our number or use units?"
      ]
    },
    {
      "cell_type": "code",
      "metadata": {
        "id": "phWPhFD6KGvF"
      },
      "source": [
        "print('The variable a is ' + a)"
      ],
      "execution_count": null,
      "outputs": []
    },
    {
      "cell_type": "markdown",
      "metadata": {
        "id": "Q-0DqKC7Kmho"
      },
      "source": [
        "Hmm not the desired result... What does the error tell us?\n",
        "\n",
        "If we are printing a statement that contains a string, then all parts of that statement must be strings. How can we convert our `int` to `str`?"
      ]
    },
    {
      "cell_type": "code",
      "metadata": {
        "id": "ryYD_21Fw4AN"
      },
      "source": [
        "str(a)"
      ],
      "execution_count": null,
      "outputs": []
    },
    {
      "cell_type": "code",
      "metadata": {
        "id": "vtzUJtUyJuFc"
      },
      "source": [
        "print('The variable a is ' + str(a))"
      ],
      "execution_count": null,
      "outputs": []
    },
    {
      "cell_type": "code",
      "metadata": {
        "id": "BT3Y5ZEILBeh"
      },
      "source": [
        "print('The variable a is ' + str(a) + ' unit.')"
      ],
      "execution_count": null,
      "outputs": []
    },
    {
      "cell_type": "markdown",
      "metadata": {
        "id": "B8pMERd2K_kh"
      },
      "source": [
        "This can get a bit tedious if we have lots of variables to enter. Fortunately, recent versions of Python can help by using special formatting:"
      ]
    },
    {
      "cell_type": "code",
      "metadata": {
        "id": "jPVIMvPIK-qO"
      },
      "source": [
        "print(f'The variable a is {a} unit.') # Note the f in front!"
      ],
      "execution_count": null,
      "outputs": []
    },
    {
      "cell_type": "markdown",
      "metadata": {
        "id": "K1iJ_JLBLdL3"
      },
      "source": [
        "If looking at older code, you may also see something like this:"
      ]
    },
    {
      "cell_type": "code",
      "metadata": {
        "id": "3Is3crV1JuHb"
      },
      "source": [
        "print(\"The variable b is %f units.\" % (b)) # %f means take the (b) and format it as a floating point number."
      ],
      "execution_count": null,
      "outputs": []
    },
    {
      "cell_type": "markdown",
      "metadata": {
        "id": "BLgJ4lJBMci9"
      },
      "source": [
        "For the purposes of this Boot Camp, we will use the newer `{}` formatting where necessary. The more information on the more traditional `.format()` (`%`) method, see [here](https://realpython.com/python-formatted-output/)."
      ]
    },
    {
      "cell_type": "markdown",
      "metadata": {
        "id": "M1faVdzaJNNY"
      },
      "source": [
        "Take a short break here to review, as these are the fundamental types of variables. Up next we will look at arrangements of these variables, resulting in the variables known as lists, dictionaries, sets, and tuples."
      ]
    },
    {
      "cell_type": "markdown",
      "metadata": {
        "id": "AEa5ZepJDUqv"
      },
      "source": [
        "## Lists\n",
        "\n",
        "Lists are an extremely common data type in Python; they are an ordered set of other variables. They are always enclosed by square brackets `[]`."
      ]
    },
    {
      "cell_type": "code",
      "metadata": {
        "id": "XqaoMaUmDUKQ"
      },
      "source": [
        "d"
      ],
      "execution_count": null,
      "outputs": []
    },
    {
      "cell_type": "code",
      "metadata": {
        "id": "u11JZJmuCB1m"
      },
      "source": [
        "lst_of_ints = [1, 2, 3]"
      ],
      "execution_count": null,
      "outputs": []
    },
    {
      "cell_type": "code",
      "metadata": {
        "id": "KUEvYQfACB3p"
      },
      "source": [
        "lst_of_floats = [4.0, 5.0, 6.0]"
      ],
      "execution_count": null,
      "outputs": []
    },
    {
      "cell_type": "code",
      "metadata": {
        "id": "3elBpNxvCB5w"
      },
      "source": [
        "lst_of_strs = ['seven', 'eight', 'nine']"
      ],
      "execution_count": null,
      "outputs": []
    },
    {
      "cell_type": "markdown",
      "metadata": {
        "id": "CjH_CcUWHUXb"
      },
      "source": [
        "Similar to strings, we can concatenate lists with `+`:"
      ]
    },
    {
      "cell_type": "code",
      "metadata": {
        "id": "HbD-w881HTjN"
      },
      "source": [
        "concat_lst = lst_of_ints + lst_of_floats\n",
        "concat_lst"
      ],
      "execution_count": null,
      "outputs": []
    },
    {
      "cell_type": "code",
      "metadata": {
        "id": "0YNVfnffCB7t"
      },
      "source": [
        "concat_lst = concat_lst + lst_of_strs # Recursive\n",
        "concat_lst"
      ],
      "execution_count": null,
      "outputs": []
    },
    {
      "cell_type": "markdown",
      "metadata": {
        "id": "e6fKNUAEuiwE"
      },
      "source": [
        "We can add a single element to a list with `.append()`"
      ]
    },
    {
      "cell_type": "code",
      "metadata": {
        "id": "_cxkpvyoujEB"
      },
      "source": [
        "concat_lst.append('ten')\n",
        "concat_lst"
      ],
      "execution_count": null,
      "outputs": []
    },
    {
      "cell_type": "markdown",
      "metadata": {
        "id": "B0RXDv6rOsnx"
      },
      "source": [
        "Lists can even contain other lists!"
      ]
    },
    {
      "cell_type": "code",
      "metadata": {
        "id": "Ei02UdEhOr3X"
      },
      "source": [
        "concat_lst = concat_lst + [['nestled','list']]\n",
        "concat_lst"
      ],
      "execution_count": null,
      "outputs": []
    },
    {
      "cell_type": "markdown",
      "metadata": {
        "id": "A0BceLwaNE8x"
      },
      "source": [
        "We see that lists can contain multiple variable types.\n",
        "\n",
        "We can pull out components of a list by using their *index*. Python uses 0-indexing, so to get the first variable in the list, we write:"
      ]
    },
    {
      "cell_type": "code",
      "metadata": {
        "id": "ImES2mRiM6Ps"
      },
      "source": [
        "concat_lst[0]"
      ],
      "execution_count": null,
      "outputs": []
    },
    {
      "cell_type": "code",
      "metadata": {
        "id": "ZadQAwrfM6ZA"
      },
      "source": [
        "concat_lst[6]"
      ],
      "execution_count": null,
      "outputs": []
    },
    {
      "cell_type": "markdown",
      "metadata": {
        "id": "H26KuUvxNjOl"
      },
      "source": [
        "We can also count backwards from the end of the list"
      ]
    },
    {
      "cell_type": "code",
      "metadata": {
        "id": "rufaVBaONitX"
      },
      "source": [
        "concat_lst[-1]"
      ],
      "execution_count": null,
      "outputs": []
    },
    {
      "cell_type": "markdown",
      "metadata": {
        "id": "uYVICiQJNoo-"
      },
      "source": [
        "Or pull out a range (subset) of a list using `:`"
      ]
    },
    {
      "cell_type": "code",
      "metadata": {
        "id": "tAQFG4b0NoJx"
      },
      "source": [
        "concat_lst[0:3] # this returns variables from indices 0, 1, and 2, but NOT 3"
      ],
      "execution_count": null,
      "outputs": []
    },
    {
      "cell_type": "markdown",
      "metadata": {
        "id": "yuqYMkctPL-7"
      },
      "source": [
        "We can pull out a variable from this sublist (a bit redundant in this case, but it can be useful in others):"
      ]
    },
    {
      "cell_type": "code",
      "metadata": {
        "id": "5YUdQS2wPLQj"
      },
      "source": [
        "concat_lst[0:3][1]"
      ],
      "execution_count": null,
      "outputs": []
    },
    {
      "cell_type": "markdown",
      "metadata": {
        "id": "yRuVeMNnOp-s"
      },
      "source": [
        "For nestled lists, we can pull out subcomponents as well:"
      ]
    },
    {
      "cell_type": "code",
      "metadata": {
        "id": "T-FCpNDeOohF"
      },
      "source": [
        "concat_lst[-1][0]"
      ],
      "execution_count": null,
      "outputs": []
    },
    {
      "cell_type": "markdown",
      "metadata": {
        "id": "5TBPitsLVc7L"
      },
      "source": [
        "We can also reassign variables in a list based on their index."
      ]
    },
    {
      "cell_type": "code",
      "metadata": {
        "id": "ccPnX_obVl-B"
      },
      "source": [
        "concat_lst[0] = 'one'\n",
        "print(concat_lst)"
      ],
      "execution_count": null,
      "outputs": []
    },
    {
      "cell_type": "code",
      "metadata": {
        "id": "Ry06iE_qVy0a"
      },
      "source": [
        "concat_lst[1] += 10\n",
        "print(concat_lst)"
      ],
      "execution_count": null,
      "outputs": []
    },
    {
      "cell_type": "markdown",
      "metadata": {
        "id": "5sewtBYwV6gs"
      },
      "source": [
        "Finally, we can sort lists with `sorted()` if they all contain the same data type."
      ]
    },
    {
      "cell_type": "code",
      "metadata": {
        "id": "BmcuqPQZV5uW"
      },
      "source": [
        "lst_of_ints_2 = [3, 5, 4]\n",
        "print(sorted(lst_of_ints_2))"
      ],
      "execution_count": null,
      "outputs": []
    },
    {
      "cell_type": "markdown",
      "metadata": {
        "id": "CdpMEnsRWcaX"
      },
      "source": [
        "There is some nuance here, as `sorted()` does not actually change the order of the list, it just returns the sorted list at that moment. If we want the list to be permanently sorted, we can reassign the `sorted()` list back to itself, or use `.sort()`."
      ]
    },
    {
      "cell_type": "code",
      "metadata": {
        "id": "pOPxR0aXWbmw"
      },
      "source": [
        "print(lst_of_ints_2)\n",
        "\n",
        "lst_of_ints_2 = sorted(lst_of_ints_2)\n",
        "print(lst_of_ints_2)\n",
        "\n",
        "lst_of_ints_2 = [3, 5, 4]\n",
        "lst_of_ints_2.sort()\n",
        "print(lst_of_ints_2)"
      ],
      "execution_count": null,
      "outputs": []
    },
    {
      "cell_type": "markdown",
      "metadata": {
        "id": "9ttCRXuBjErP"
      },
      "source": [
        "Sometimes we want a range of numbers in a list but don't want to type each number out (that's part of what programming is about, after all!). For this, we can use the `range()` function."
      ]
    },
    {
      "cell_type": "code",
      "metadata": {
        "id": "-gbZwoMFjOzf"
      },
      "source": [
        "print(list(range(0, 10))) # Note that the resulting list does not include the final number\n",
        "print(list(range(0, 10, 2))) # The third number is the \"step\" size"
      ],
      "execution_count": null,
      "outputs": []
    },
    {
      "cell_type": "markdown",
      "metadata": {
        "id": "CD8TIPwrj7zs"
      },
      "source": [
        "`range()` only accepts and produces integer values. We will see how to generate lists of floats later."
      ]
    },
    {
      "cell_type": "markdown",
      "metadata": {
        "id": "advZVV1zPkZd"
      },
      "source": [
        "## Sets\n",
        "\n",
        "We use sets when the order of the items does not matter and the number of occurences does not matter.\n",
        "\n"
      ]
    },
    {
      "cell_type": "code",
      "metadata": {
        "id": "ABTEompqOmDU"
      },
      "source": [
        "[5, 2, 2, 10] # list"
      ],
      "execution_count": null,
      "outputs": []
    },
    {
      "cell_type": "code",
      "metadata": {
        "id": "bAKlWGuQOmF0"
      },
      "source": [
        "{5, 2, 2, 10} # set"
      ],
      "execution_count": null,
      "outputs": []
    },
    {
      "cell_type": "markdown",
      "metadata": {
        "id": "08bCdlrkQPjF"
      },
      "source": [
        "Note that, because sets do not have an order, we cannot pull out specific variables based on their indicies."
      ]
    },
    {
      "cell_type": "code",
      "metadata": {
        "id": "f4nJzY7UOmIL"
      },
      "source": [
        "my_set_1 = {5, 2, 2, 10}\n",
        "my_set_1[0] # Error!"
      ],
      "execution_count": null,
      "outputs": []
    },
    {
      "cell_type": "markdown",
      "metadata": {
        "id": "_M0k3FcsSkXu"
      },
      "source": [
        "You can think of sets as groupings, like Venn diagrams. As such, we consider their `union`, `intersection`, and `difference`."
      ]
    },
    {
      "cell_type": "code",
      "metadata": {
        "id": "EpdkFJncOmKW"
      },
      "source": [
        "my_set_2 = {10, 15}\n",
        "print(my_set_1)\n",
        "print(my_set_2)"
      ],
      "execution_count": null,
      "outputs": []
    },
    {
      "cell_type": "code",
      "metadata": {
        "id": "ubWgQmHlOmMm"
      },
      "source": [
        "concat_set = my_set_1.union(my_set_2)\n",
        "concat_set"
      ],
      "execution_count": null,
      "outputs": []
    },
    {
      "cell_type": "code",
      "metadata": {
        "id": "FsIejLWDOmOk"
      },
      "source": [
        "common_set = my_set_1.intersection(my_set_2)\n",
        "common_set"
      ],
      "execution_count": null,
      "outputs": []
    },
    {
      "cell_type": "code",
      "metadata": {
        "id": "kC8NJ9kdOmQy"
      },
      "source": [
        "difference_set = my_set_1.difference(my_set_2)\n",
        "difference_set"
      ],
      "execution_count": null,
      "outputs": []
    },
    {
      "cell_type": "markdown",
      "metadata": {
        "id": "OnBTNOFZTFZV"
      },
      "source": [
        "## Dictionaries\n",
        "\n",
        "Dictionaries are mappings between `keys` and `values`. Dictionaries have similarities with both lists and sets. Like lists, they are addressable: instead of using an index to find a value, they use a key. Curly brackets `{}` are used to create dictionaries, with colons `:` denoting key:value pairs."
      ]
    },
    {
      "cell_type": "code",
      "metadata": {
        "id": "cq897HP0OmTH"
      },
      "source": [
        "my_lst = [1, 2, 3]\n",
        "my_dict = {'a': 1, 'b': 2, 'c': 3}"
      ],
      "execution_count": null,
      "outputs": []
    },
    {
      "cell_type": "code",
      "metadata": {
        "id": "9AxruKRgT051"
      },
      "source": [
        "print(my_lst[0])\n",
        "print(my_dict['a'])"
      ],
      "execution_count": null,
      "outputs": []
    },
    {
      "cell_type": "markdown",
      "metadata": {
        "id": "QtC1n6O5T_lF"
      },
      "source": [
        "Like lists, dictionaries can contain all types of variables and can even be nested."
      ]
    },
    {
      "cell_type": "code",
      "metadata": {
        "id": "9aUiI8H-OmVh"
      },
      "source": [
        "my_dict_2 = {5: 1, 'd': 2, 'e': [5.1, 2.3], 'f': my_dict}\n",
        "my_dict_2"
      ],
      "execution_count": null,
      "outputs": []
    },
    {
      "cell_type": "code",
      "metadata": {
        "id": "kX6X6CnsUaK-"
      },
      "source": [
        "print(my_dict_2[5])\n",
        "print(my_dict_2['d'])\n",
        "print(my_dict_2['e'][0])\n",
        "print(my_dict_2['f']['a'])"
      ],
      "execution_count": null,
      "outputs": []
    },
    {
      "cell_type": "markdown",
      "metadata": {
        "id": "7jPbJjbWU70_"
      },
      "source": [
        "We can also reassign values to keys, or add new key:value pairs."
      ]
    },
    {
      "cell_type": "code",
      "metadata": {
        "id": "k9fKospuVCJQ"
      },
      "source": [
        "print(my_dict_2)\n",
        "my_dict_2[5] = 'changed value'\n",
        "print(my_dict_2)\n",
        "my_dict_2['new key'] = 'new value'\n",
        "print(my_dict_2)"
      ],
      "execution_count": null,
      "outputs": []
    },
    {
      "cell_type": "markdown",
      "metadata": {
        "id": "XdonckUqYUA0"
      },
      "source": [
        "We can look at lists of the keys and values as well."
      ]
    },
    {
      "cell_type": "code",
      "metadata": {
        "id": "HdznvVTlYTRy"
      },
      "source": [
        "print(my_dict.keys())\n",
        "print(my_dict.values())"
      ],
      "execution_count": null,
      "outputs": []
    },
    {
      "cell_type": "markdown",
      "metadata": {
        "id": "d0ni1FFgYkE4"
      },
      "source": [
        "Note the type here! We may wish to *cast* these `dict_keys` to a `list`."
      ]
    },
    {
      "cell_type": "code",
      "metadata": {
        "id": "oIar-bpPYr2n"
      },
      "source": [
        "print(my_dict.keys())\n",
        "print(type(my_dict.keys()))\n",
        "print(list(my_dict.keys()))\n",
        "print(type(list(my_dict.keys())))"
      ],
      "execution_count": null,
      "outputs": []
    },
    {
      "cell_type": "markdown",
      "metadata": {
        "id": "xqlivyHdXLLZ"
      },
      "source": [
        "## Tuples\n",
        "\n",
        "Tuples are ordered, *immutable* lists, often used when assigning multiple values to multiple variables. They are denoted with parentheses `()`."
      ]
    },
    {
      "cell_type": "code",
      "metadata": {
        "id": "QH7gldk_XKXd"
      },
      "source": [
        "my_tuple = (1, 2)\n",
        "print(my_tuple)"
      ],
      "execution_count": null,
      "outputs": []
    },
    {
      "cell_type": "code",
      "metadata": {
        "id": "wPGgO4IYXuro"
      },
      "source": [
        "x, y = my_tuple # Note that this also works with lists\n",
        "print(x)\n",
        "print(y)"
      ],
      "execution_count": null,
      "outputs": []
    },
    {
      "cell_type": "code",
      "metadata": {
        "id": "PtZJ8i5LXvL2"
      },
      "source": [
        "print(my_tuple[0])"
      ],
      "execution_count": null,
      "outputs": []
    },
    {
      "cell_type": "code",
      "metadata": {
        "id": "VsfZ3rEhXz4Q"
      },
      "source": [
        "my_tuple[0] = 'one' # Error!"
      ],
      "execution_count": null,
      "outputs": []
    },
    {
      "cell_type": "markdown",
      "metadata": {
        "id": "hBUHxZ8n-H2a"
      },
      "source": [
        "We can cast between lists and tuples."
      ]
    },
    {
      "cell_type": "code",
      "metadata": {
        "id": "2D77w79GYCU3"
      },
      "source": [
        "my_lst_from_tuple = list(my_tuple)\n",
        "my_lst_from_tuple"
      ],
      "execution_count": null,
      "outputs": []
    },
    {
      "cell_type": "code",
      "metadata": {
        "id": "NPOfsJATYG8J"
      },
      "source": [
        "my_tuple_from_lst = tuple(my_lst)\n",
        "my_tuple_from_lst"
      ],
      "execution_count": null,
      "outputs": []
    },
    {
      "cell_type": "markdown",
      "metadata": {
        "id": "-P9ctTV_wrwj"
      },
      "source": [
        "## Booleans\n",
        "\n",
        "Booleans are `True` / `False` values that we can assign or generate using logic."
      ]
    },
    {
      "cell_type": "code",
      "metadata": {
        "id": "4x-PGK1yw4uK"
      },
      "source": [
        "r = 3\n",
        "\n",
        "print(h)\n",
        "print(4 > 2)\n",
        "print(r < 1)\n",
        "print(not (r < 1)) # not will effectively reverse a boolean\n",
        "print(r == 3) # equal to\n",
        "print(r != 2) # not equal to\n",
        "print(bool(5))\n",
        "print(bool(0)) # relying on bool(0) = False is not a good practice\n",
        "print(bool('is this false?'))"
      ],
      "execution_count": null,
      "outputs": []
    },
    {
      "cell_type": "markdown",
      "metadata": {
        "id": "1wrSomWixMze"
      },
      "source": [
        "Booleans are very important when using flow control (`if` / `else`, `while` statements, etc.), as we will see."
      ]
    },
    {
      "cell_type": "markdown",
      "metadata": {
        "id": "ewtPugx6rRhW"
      },
      "source": [
        "## Length\n",
        "\n",
        "Often times it is useful to know the length of a list, set, dictionary, etc. To find it, we can use the `len()` function"
      ]
    },
    {
      "cell_type": "code",
      "metadata": {
        "id": "egPGcQtTrQ56"
      },
      "source": [
        "print(len(my_lst))\n",
        "print(len(my_dict))"
      ],
      "execution_count": null,
      "outputs": []
    },
    {
      "cell_type": "markdown",
      "metadata": {
        "id": "jE-MLEIe-qkT"
      },
      "source": [
        "As noted before, restarting the Runtime resets our variables. Try it out now by selecting Runtime -> Restart Runtime at the top of the window, then executing the cell below."
      ]
    },
    {
      "cell_type": "code",
      "metadata": {
        "id": "m_P7zP8i-04Z"
      },
      "source": [
        "print(a)"
      ],
      "execution_count": null,
      "outputs": []
    },
    {
      "cell_type": "markdown",
      "metadata": {
        "id": "sWX-0Ta29n8D"
      },
      "source": [
        "Congratulations - you made it through the first lesson! In Lesson 2, we will look at some more advanced data types (NumPy arrays!) that are conducive to data analysis.\n",
        "\n",
        "If you have not already completed it, Quiz 1 awaits you on Canvas!"
      ]
    }
  ]
}