{
  "nbformat": 4,
  "nbformat_minor": 0,
  "metadata": {
    "colab": {
      "provenance": [],
      "collapsed_sections": [],
      "toc_visible": true,
      "include_colab_link": true
    },
    "kernelspec": {
      "name": "python3",
      "display_name": "Python 3"
    },
    "language_info": {
      "name": "python"
    }
  },
  "cells": [
    {
      "cell_type": "markdown",
      "metadata": {
        "id": "view-in-github",
        "colab_type": "text"
      },
      "source": [
        "<a href=\"https://colab.research.google.com/github/sharmaar342/sharmaar342/blob/main/Copy_of_Python_Boot_Camp_Lesson_2.ipynb\" target=\"_parent\"><img src=\"https://colab.research.google.com/assets/colab-badge.svg\" alt=\"Open In Colab\"/></a>"
      ]
    },
    {
      "cell_type": "markdown",
      "metadata": {
        "id": "FzADHhh5kAPv"
      },
      "source": [
        "# Python Boot Camp Lesson 2\n",
        "\n",
        "**Author:** Nicholas Colella<br>\n",
        "**Date created:** 2021/08/15<br>\n",
        "**Last modified:** 2021/01/24<br>\n"
      ]
    },
    {
      "cell_type": "markdown",
      "source": [
        "# Course Information\n",
        "\n",
        "You are encouraged to watch the corresponding video, available on Canvas, as you work through this notebook. \n",
        "\n",
        "Additionally, we strongly encourage you to test your understanding of the material as you go! The Canvas quiz can be completed while you watch the video and work on the notebook (and can be taken multiple times)."
      ],
      "metadata": {
        "id": "djFQRgUoXnZk"
      }
    },
    {
      "cell_type": "markdown",
      "metadata": {
        "id": "TZadJKpZZfwc"
      },
      "source": [
        "# Libraries and other data types\n",
        "\n",
        "While we can do a lot with the built-in data types of Python, we often need more complicated data structures. Some very common data structures are NumPy arrays and pandas DataFrames. To use these, we will have to import the NumPy and pandas libraries. In this lesson we will look at NumPy arrays; we will examine pandas in Lesson 3."
      ]
    },
    {
      "cell_type": "markdown",
      "metadata": {
        "id": "goR8muiIdgJZ"
      },
      "source": [
        "## Importing libraries/packages/modules/functions\n",
        "\n",
        "We can import libraries that are not part of base Python, such as [NumPy](https://numpy.org/), with the `import` command. We can then access NumPy modules and functions with `numpy.function()`. To save us a bit of typing, we can assign `numpy` to `np` to save us some typing later, i.e. `np.function()`.\n",
        "\n",
        "Additionally, although we do not do it here, we can import specific functions/classes if we do not want to import an entire package. For instance, we could use `from pathlib import Path` which would allow us to use the `Path` class of the `pathlib` module for controlling filepaths."
      ]
    },
    {
      "cell_type": "code",
      "metadata": {
        "id": "YfHIybJ8Z95B"
      },
      "source": [
        "import numpy as np"
      ],
      "execution_count": null,
      "outputs": []
    },
    {
      "cell_type": "markdown",
      "metadata": {
        "id": "T-417zh2aaui"
      },
      "source": [
        "We can import libraries that are installed on our (virtual) machines. NumPy and Pandas are very common, so they are automatically installed on Colab. If we wanted to use a less common package, for instance the [AWS CLI](https://pypi.org/project/awscli/), you will need to install it with `!pip`"
      ]
    },
    {
      "cell_type": "code",
      "metadata": {
        "id": "Ydq8GTGshbsX"
      },
      "source": [
        "import awscli # Error!"
      ],
      "execution_count": null,
      "outputs": []
    },
    {
      "cell_type": "code",
      "metadata": {
        "id": "PKdAWbsSaZ9-"
      },
      "source": [
        "!pip install awscli # We install and import it just as an example but we won't use it"
      ],
      "execution_count": null,
      "outputs": []
    },
    {
      "cell_type": "code",
      "metadata": {
        "id": "bIOfQxpTappu"
      },
      "source": [
        "import awscli # Just an example, we won't use it in the boot camp"
      ],
      "execution_count": null,
      "outputs": []
    },
    {
      "cell_type": "markdown",
      "metadata": {
        "id": "Nk2nOJsPcZ5_"
      },
      "source": [
        "Additionally, we see know that the Colab runtime will delete any files that we upload or generate. We can import and script mounting our Google Drive for persistent file access/storage."
      ]
    },
    {
      "cell_type": "code",
      "metadata": {
        "id": "cuwunr47cZTZ"
      },
      "source": [
        "from google.colab import files\n",
        "from google.colab import drive\n",
        "# from google.colab import files, drive\n",
        "drive.mount('/content/gdrive')"
      ],
      "execution_count": null,
      "outputs": []
    },
    {
      "cell_type": "markdown",
      "metadata": {
        "id": "C2c27jY8dCAE"
      },
      "source": [
        "You should be able to see your Google Drive folder mounted if you click on the folder icon on the left side of the screen."
      ]
    },
    {
      "cell_type": "markdown",
      "metadata": {
        "id": "E9xkHVrxdlBj"
      },
      "source": [
        "## NumPy Arrays\n",
        "\n",
        "NumPy arrays are multi-dimensionally indexed data. While this can sound intimidating, we will hopefully see that it is relatively straightforward. A one-dimensional NumPy array is a vector, a 2D array is a matrix, and larger arrays are generally just referred to as n-D arrays, where n is the number of dimensions. Because we imported `numpy as np`, a standard practice, we can create NumPy arrays using `np.array()`.\n",
        "\n",
        "We see that vectors are extremely similar to lists in their behavior:"
      ]
    },
    {
      "cell_type": "code",
      "metadata": {
        "id": "OgRm5Fbqb-nb"
      },
      "source": [
        "my_vector_1 = np.array([1, 2, 3])\n",
        "print(my_vector_1)\n",
        "print(type(my_vector_1))\n",
        "print(my_vector_1[0])"
      ],
      "execution_count": null,
      "outputs": []
    },
    {
      "cell_type": "code",
      "metadata": {
        "id": "LFga61GIe7w-"
      },
      "source": [
        "my_vector_2 = np.array([4, 5, 6])\n",
        "print(my_vector_1 + my_vector_2) # Elementwise!\n",
        "print(my_vector_1 * my_vector_2) # Also elementwise!"
      ],
      "execution_count": null,
      "outputs": []
    },
    {
      "cell_type": "markdown",
      "metadata": {
        "id": "pU2Ce2A-fGRd"
      },
      "source": [
        "We can create matrices in a similar fashion, using a list of lists to denote the 2-dimensionality."
      ]
    },
    {
      "cell_type": "code",
      "metadata": {
        "id": "K6JgAIfCe1Bz"
      },
      "source": [
        "my_matrix_1 = np.array([[1, 2, 3], [4, 5, 6]])\n",
        "print(my_matrix_1)"
      ],
      "execution_count": null,
      "outputs": []
    },
    {
      "cell_type": "markdown",
      "metadata": {
        "id": "7eZjUvuxlBqv"
      },
      "source": [
        "We can access full rows or columns of a matrix. `:` is a wildcard which means any.\n",
        "\n",
        "\n"
      ]
    },
    {
      "cell_type": "code",
      "metadata": {
        "id": "XkwTAd3ZlFVh"
      },
      "source": [
        "print(my_matrix_1[0])\n",
        "print(my_matrix_1[0][:]) # equivalent\n",
        "print(my_matrix_1[0, :]) # also equivalent"
      ],
      "execution_count": null,
      "outputs": []
    },
    {
      "cell_type": "code",
      "metadata": {
        "id": "qaTWYTbql-UG"
      },
      "source": [
        "print(my_matrix_1[0][0:2]) # 0:2 = range(0, 2) = 0, 1 i.e. first two elements"
      ],
      "execution_count": null,
      "outputs": []
    },
    {
      "cell_type": "code",
      "metadata": {
        "id": "HG4hIQnBljzJ"
      },
      "source": [
        "print(my_matrix_1[:, 0])    # First column. Important note: my_matrix_1[:][0] does not work! \n",
        "                            # my_matrix_1[:] == my_matrix_1, thus my_matrix_1[:][0] == my_matrix_1[0]"
      ],
      "execution_count": null,
      "outputs": []
    },
    {
      "cell_type": "markdown",
      "metadata": {
        "id": "6Y6nOka_fvXn"
      },
      "source": [
        "We can access individual elements within the matrix by their row and column."
      ]
    },
    {
      "cell_type": "code",
      "metadata": {
        "id": "zM_c-2-iff9t"
      },
      "source": [
        "print(my_matrix_1[0, 1])\n",
        "print(my_matrix_1[0][1]) # Equivalent"
      ],
      "execution_count": null,
      "outputs": []
    },
    {
      "cell_type": "markdown",
      "metadata": {
        "id": "_051_N87gJ10"
      },
      "source": [
        "Doing simple mathematical manipulations will perform them element-wise"
      ]
    },
    {
      "cell_type": "code",
      "metadata": {
        "id": "Qyaz6k7-f0EL"
      },
      "source": [
        "print(my_matrix_1 + 1)"
      ],
      "execution_count": null,
      "outputs": []
    },
    {
      "cell_type": "code",
      "metadata": {
        "id": "40Nv1Z4CgWFO"
      },
      "source": [
        "print(my_matrix_1 * 3)"
      ],
      "execution_count": null,
      "outputs": []
    },
    {
      "cell_type": "code",
      "metadata": {
        "id": "--jhD33_gQ3s"
      },
      "source": [
        "print(my_matrix_1 + my_matrix_1)"
      ],
      "execution_count": null,
      "outputs": []
    },
    {
      "cell_type": "markdown",
      "metadata": {
        "id": "nxNrq8hdhDq0"
      },
      "source": [
        "To join arrays together, we use `np.concatenate`"
      ]
    },
    {
      "cell_type": "code",
      "metadata": {
        "id": "YRJSbjydhOFu"
      },
      "source": [
        "print(np.concatenate((my_matrix_1, my_matrix_1))) # Note the parentheses! np.concatenate takes a tuple as input: (m1, m2)"
      ],
      "execution_count": null,
      "outputs": []
    },
    {
      "cell_type": "code",
      "metadata": {
        "id": "OneUN5N9htQe"
      },
      "source": [
        "print(np.concatenate((my_matrix_1, my_matrix_1), axis=1)) # axis = 1 gives horizontal concatenation (default above is axis=0)"
      ],
      "execution_count": null,
      "outputs": []
    },
    {
      "cell_type": "markdown",
      "metadata": {
        "id": "M_3hQIF3kXc7"
      },
      "source": [
        "What happens when we multiply matrices?"
      ]
    },
    {
      "cell_type": "code",
      "metadata": {
        "id": "mFuNHISMgG26"
      },
      "source": [
        "print(my_matrix_1 * my_matrix_1)"
      ],
      "execution_count": null,
      "outputs": []
    },
    {
      "cell_type": "markdown",
      "metadata": {
        "id": "KttHTcj9gaZh"
      },
      "source": [
        "For those of you who are more mathematically advanced, you might think that this last operation seems wrong! According to linear algebra, there is a very specific way to multiply matrices, and it is not element-wise. To do this using NumPy, we generally use `np.dot`."
      ]
    },
    {
      "cell_type": "code",
      "metadata": {
        "id": "GfU6e4VBgZor"
      },
      "source": [
        "a = np.array([[1, 2], [3, 4]])\n",
        "b = np.array([[5, 6], [7, 8]])"
      ],
      "execution_count": null,
      "outputs": []
    },
    {
      "cell_type": "code",
      "metadata": {
        "id": "zh9TRXvtgU06"
      },
      "source": [
        "np.dot(a, b)"
      ],
      "execution_count": null,
      "outputs": []
    },
    {
      "cell_type": "markdown",
      "metadata": {
        "id": "ToVteXQ4hR6b"
      },
      "source": [
        "![matrix_mult.png](data:image/png;base64,iVBORw0KGgoAAAANSUhEUgAABXgAAAC/CAIAAADLvCPLAACAAElEQVR42uydB3hTVRvHz703o0n3nnRQaNkbBEEFQQQR6wA+QVSmDNmgICAICFQREJCNLBmKIMoQEJC9VxkttIUWKKW76Uiz7vqe3JNeQmfaJtjC+3sKT5KmGfee8573/O87JDzPIwAAAAAAAAAAAAAAAGtAwiEAAAAAAAAAAAAAAMBagNAAAAAAAAAAAAAAAIDVAKEBAAAAAAAAAAAAAACrAUIDAAAAAAAAAAAAAABWA4QGAAAAAAAAAAAAAACsBggNAAAAAAAAAAAAAABYDRAaAAAAAAAAAAAAAACwGiA0AAAAAAAAAAAAAABgNUBoAAAAAAAAAAAAAADAaoDQAAAAAAAAAAAAAACA1QChAQAAAAAAAAAAAAAAqwFCAwAAAAAAAAAAAAAAVgOEBgAAAAAAAAAAAAAArAYIDQAAAAAAAAAAAAAAWA0QGgAAAAAAAAAAAAAAsBogNAAAAAAAAAAAAAAAYDVAaAAAAAAAAAAAAAAAwGqA0AAAAAAAAAAAAAAAgNUAoQEAAAAAAAAAAAAAAKsBQgMAAAAAAAAAAAAAAFYDhAYAAAAAAAAAAAAAAKwGCA0AAAAAAAAAAAAAAFgNEBoAAAAAAAAAAAAAALAaIDQAAAAAAAAAAAAAAGA1QGgAAAAAAAAAAAAAAMBqgNAAAAAAAAAAAAAAAIDVAKEBAAAAAAAAAAAAAACrAUIDAAAAAAAAAAAAAABWA4QGAAAAAAAAAAAAAACshqT6fJT169fHxsYSBGG7t9BoNN9++62Tk1PNPWExMTGrVq1SKpU2en2e5yUSSZs2bSIiIqr5oVi3bl18fLxNB4xWq503b569vX3NHTDXr1//+eefbT1gXn755R49etSIA8Ky7IULF3bs2GFnZ2e7d6EoqmfPnm3btoU1BgBeQNLS0nbt2pWQkCCR2MrL4jguICBgwIAB1dyliY+PX7VqlVQqtd1bMAzTpUuXbt26wcADnj00Te/Zs+fs2bM2HeQEQYwaNcrf3786H4rMzMxVq1bl5+fbzjOnabpp06bvvfeeo6NjDR0wer1+z54958+ft+mAoSjq888/9/PzA6HhCbt37z58+LCtz+5XX31Vo4WGhISEZcuWyeVy272FTCYbPHhw9Rcadu3a9e+//9pUaNDr9TNmzKjRQkNcXJytB4xcLmcYpgYJDVFRUUuWLLH1MQkKCgKhAQBeTLKzs3fs2HHy5EmZTGY7U9aqVatevXpVc5cmKSlp0aJFNrW3BoPBzs4OhAbgP4FhmCNHjqxatcqmg5yiqD59+lRzoSEnJ2ft2rVpaWk2dct79erVtWvXmis00DT9zz//rFu3ztZeaJ8+fUBoKLpU6PV6W78Lz/M12qKxLItnmk3fgqbp6n8oDAIwYP7zAcNxXI0YMOZuwTM4JvjIAwDwAsJxnMFg4HnepnZGr9dX/xWK4zhb21vRqgPAf7V1tPUgJ0kST6VqPtl1Op2tJ/sz8Pyfwf7lGXih1WR1kFTDE+Dl5dWgQQNbLBv5+fm2u7zwbHB3d2/atKktlDySJKOiovLy8mwaI2B1CILw8vKqX7++LQaMWq22aWjTM8DT09NGA4YgiKioKBwjV+PGjGhqQkNDJRKJ1c2xVCr19fUF9wsAXkzs7e2bNm3KcZwtVhCVShUdHW1uymoESqWyYcOGdnZ2Vre3NE2HhITAqAP+E0iSrFu3buvWra1+gZogCI1Gc/369Zqio5l7g02bNnVycrL6ZNfr9Q0aNKjRnjlFUeHh4TYaMAUFBdevX2dZtvqsDpJqeAJ69Oixfv16270Fz/M1a3k2/+QdOnSIioqy0et37NjxxIkTNW7GRkRErF69GgZMiZ+8c+fOthswHTp0OHPmTM019927d1+2bJntAvBq7sgBAKAqEz84OHjlypU2ev1Dhw7VxDSB2rVr796923ax32Bvgf9kssvl8skCtnj9uLi4du3aZWdn17gjs27dulatWoFnXvxjKxSKqQK2eP3bt2+3bds2Ly+v+nxlsnqeBpu+fs1dimz9yWtomgAMmOfvkz+zkWPTWEQ4/gDwAgIrdWmAvQVgslefKVOjP3kNne/PYMBUtwVCAmYCACrt7iHEIZ5DCM9qAhktCIXA3QEAAAAAAAAA4AUGhAYAqDg8h3gWcRrE5CNWixAjaA0SRCmQxAGR9oiQIIKE4wQAAAAAAAAAwAsICA0AUBF4hBCLmHzEqBCTi3gGIbP4BTYP0ZmIckJSNyRxNM4vCG4AAAAAAAAAAOAFA4QGALAYnkc8jWgVojMQpxckBvKpRAnjE3jE5CBOgzgPJHVDSAaZFAAAAAAAAAAAvFCA0AAAlsHziDcgQwais0yBDMUVBPwIjxBnQIY0xNNI6oVIOWgNAAAAAAAAAAC8OIDQAAAWwPOIZxCdgehMxHPl1F8gCIQI49NooSORzAchKWgNAAAAAAAAAAC8IEC9OgCwDDoTGbDKYJlkQGCtIQsZMgrbUgAAAAAAAAAAADz/gNAAABbACHUZLFcZMASBeB7RmYjORjxoDQAAAAAAAAAAvBCA0AAA5cFpkSEdcUwl/5xnheKRGjiQAAAAAAAAAAC8CIDQAADlYchErAYRRGXqLOC/YjXGFwEAAAAAAAAAAHgBAKEBAMqEUSFDFqpiJUeCQHQ2orPgcAIAAAAAAAAA8NwDQgMAlA7PCioDj6qsNCDEIzqr8vkXAAAAAAAAAAAANQQQGgCgdGgVYvOtU8eRIBCjRgwENQAAAAAAAAAA8JwDQgMAlAJHI0ZlzRckCESrEGeAQwsAAAAAAAAAwHMMCA0AUApsLmI1iOcrUwOyRHgecVorixcAAAAAAAAAAADVDBAaAKAkOAbROQhx1n9lOgdxNBxgAAAAAAAAAACeV0BoAICS4NSI01oznAGnTvA84nSIzYcDDAAAAAAAAADA8woIDQBQDJ5DTB7ibdQhgkNMLuJZOMwAAAAAAAAAADyXSOAQWL77NO4/jftD7qkbiDf9qiiEcDFc+CFIhEhEUMINSrhBVLljImAzOJ2pOoNNxhFvfHFWiyQOcKSB/3agI441WTCTETO7wePbqPAJ6On/zQ0jtnVCF1hCMH184Q1CuI1vmIweKZhBc8MIlhAAgGrl7GEzKHh62NkzeYC86bZoCXn0xNPDNg3bN9HrIyVwSQ8ArOM88wziaeGHNc1QhC+Zk4ikECFFhET4H5wKEBqq9VDmjEOZMyDeYBrQxtss4mjhEncxJ9siigx60rj2EMIPKSucG3LhtgRmSDXYf2mNZx8nO1gXnD1hHGAFCIHQAFh9GWYRYkzOsdFecYhjClVRtqhOirjy1LSqa21Eeb8lzBRYrMZSJguJRFkW/0jAPAIAYO19i0Hw7gRPDzEmT49nSoo6rJS/ZzRr2HYJGyHR5TPekAmmDwCA0icpqzH65JwWsVrE6wsv6/IlzzuCMG6mKAUihR/KHnwGEBqqw0pjEEaw3jiCOeGHp0t9spU2skbvv8T1iZAiSo4IO0TKhR87EOeeucrAIDpXqNdos8POC28hcUOkFI43UJGRwwrqpyDqG4coi1i6UFkQHufYCgxbG8XsVFiJYCwWNEjjlBFdduy+I4nxQePj0sJYCQAAgOKLux6xOqPLh//ndIKzx9vc3ystDZOQGN08Ajt7MqPjR9mB9AAARtgCxOYjJt94g+efLOzlTEwC8RrEaUyhRpQSUY5I4ogouLAHQsMzEBQKbxmdcrbAuMZwWiFC3iAoZEVE6JK8VVtv+HnOJHagPNNHJUhE2iFSKfyvMM4Zc08aBAibnAVBcrLd4SUIIRSdNo5AEBqAp1ZN3kxQMAiiJ46uooW7wpW3J24xUfK23fKddo0zIEbTXWJxE970dcToMPGCISkzaRBPHyOwnwDwXFtUnNfACJ6ekKvIChdFi1vO0uzAM7APHNaL1U8+MCkVPD3FE8cPmV2qBYDnf+ZyiMlHTA6iVU+8HfPBb+FEIHC1NbXxR5+KJM5I6oIkTghRMJtAaLD6wMWZxowQfqMpDMIxFC422IJXDwm56NAXwuxZQQ3BGJ1mpSDRKY2rkXHCFOY/A1Zb+/Vmw8N2I1NwgJAjHO8XbS01q3rAmzJ+TZfXDIVBvHrB+yyiforb4xf4elepho4wWXueRohGSGsmxwiVI3C4MikXlAisPgiPPKmkg8CQAkDNd/aE1DBWXSguaMyiCaqfs0QUsfA84hjE5SMmz/QIZWdy9ih7QXQgwOUDntv5a9ym5SM62/g/vvpboQsnZcwvnkeMCjE5SOKIpG6IcjJufmESgdBQ5SWHM4UTM/lC7b0CU9a9yaGkapRjXehGczTicowTxug62xnXHhwXJKYxA1UdOSxi1MZhY9ODSRBGk8rkI4mrkIsOPN/ur1kJMZ4VlCxdYRUYA2L1CLGFHqTZthmyAKrqtZudAk4QINiCQukBH14hX5q0K9Qd5IWFIaBKJQDUFAPLmcQFTifEWgvXkzhdYf3FmrUtJwrtFmGyVKwOsVqTWmp09uwFxUEpxG2BjQKeIx+J1SI6o7AjG2HlCyr4cgLPIybPaCUkTkjqYZxKMINAaKjkRhEnMDO5Twcv1HwZuKjoIGxX6Cwhu08QvCWOhZHDkONXWTgho+HZbPDwPhPqpDyfvi/7pCIjqy1MfMDiAmPmSmJNAcbAsxEgnlYfEI1YA2LVhdIDZQp2MIU8CInTyKw+JXgkAFCNNieF1pUtEH60CDGFnt7zYVHNruiamlUVCHVqhFp3lD2iHMDlA2r8ROYNiMlBhkwhs4m04WA2yQ2cEDRRgKQeSOqKkBxWdhAaLB2tQsix4DUyBYKkrS/UF55HB1EUHXhe2MDoEaNCtFDEgXIQNG+Z4BzD/KnE5v/ZCA2EcOJ0xlMGPAf2xyRxskKXB11hWVksLjBmAQsEbFmrlwl9yuMR1FtT2gVZWN9BZhJzTbXiJUIvDDiDAPBf7UwE68qqhR9tYXsI4nkO6hQzvJ5cZMpBlFzIpXUQ0ivkIFgDNW8uc1pkSBcCGZhnNH+NU4kyOmaGNOM8knkiEjpTgNBQ/qpjQKzGOFI5LWJ1ptxmawxZg4E+dupy8uN0uVzaukXDsPDapZQiqxhp6Vk3ouMfJadnq3LVaq2Tk72vt7uPt4evj2dQLR87O3llFQdh+WFyhawKByRxLAyxgylk4VjihCgYy/pNkGRycqpKlWfBCOVlMlnd0ECSfPpledr4dhJnS8bqnTt34uLi0tLSMjIyCILw8vLy9vb29fUNDQ11cXGBU/efDRhcVcE49bSm2o2Ijo+/d/rcNYIgPN1de3R/1UZmNi+/4GFSiiXPJEkyONBPqbSrtgeSZpj4e0nRMXczs3Nyc9U0zXh7ufl4e3h5uAYH+Xl5uZPWMmIEkZaelZGhsqhTnVlVOQ5R7u6efv5+BG4GZHTrZYV67jNb6/ikpKRDhw5RFBUSEtK2bVuFQmHTd+Q4LjExMTo6Oi0tLTc3V6VSOTg41K1bNzQ0NCQkpEZYHpZl4+Pjb926lZmZqVKpWJb18PDw8/Pz8vIKDg728vIiSVtdQFOr1ffu3Xv8+HFaWlpKSopMJsN228/Pr0GDBrZ73+fV2goVGDSFzp6QfYZzCgqDVR89TlepconybAXPIzs744r8THY1KCcn/+SZq5lZOUqFvNOrrb29PSrTz4IkEhMe7dpzNF+tMejpT/q9XT88GLFCEw0mT4hxUBp9CZMe+ixcPo7jYgXS0tLy8vJUKpWzs3NYWFhtAUfHZ11/6tKlSzExMSzLhoeHt2vXzpL5xfO8Xq+/fPlyUlJSWlpafn6+o6Ojt7e3l5dXUFBQ7dq1YZLa2DqrkSGFp9UJ9x8dO3WZJMmwOoGtWzSUy2XlruO5OfmPUzMep2Y8Sk7PyMi2t1d4uLv4+Xo1ahDq7OxY/hQjSCG0QWV04WQ+iHKy+qzR6XSxsbF37tzBSw/P874C3t7etWrV8vb2Lnd+paSk3Lhx49GjR7m5uWq12tXV1c/Pz1sgLCyMqDk7O0kNlxhoof0JzpIoXHWsF3iTrcobOX5+VnaOQiGfM31kWONwpK2C0EASqqzcX37df/Do2YTER+kZqrx8NctyEgnl4ebi7ubs4ur0Srvmnw/tE1DLF3FcxVU6XGCOM4URMrlCWxcnoZEsyA2WjChWiN3iLRpCSrsVa38/evwCRVHlLmb2SsX+nUtlMulT54vnhfZabNl7laSkpO3btx84cOD+/ftZWVn5+fkIIWdnZzc3N1dX17Zt244aNap+/fpw9p4dpnqNOqOTxwnFxnDrdYxUuurnXT9v/pMgiGZNwnt0f9V0rq1suamz56/P+X6tJc9VKOTzZ45u/VJTxDDV7mBS1NWr0es27b4ZHZ9wPzk3N79Ao0MIOToo3d1cXJwdawV4D/jonbfe7GBXrvNhCXLZb7sO7fzzCMtWzMDq9YZ33np1yvgBMjsZ4knBm5ciSmgGZJIeZLY+VAaD4ffff582bZpEInn33XcbNGhgU6EhJSVly5Yte/bsSUpKys7OVqvVvDCM/QXq1q07ZsyYNm3aVOeZGh0dvWTJkjt37iQkJOTk5BQUFCCE7O3tPTw83Nzc3N3dhw8fHhERIZFIrC4J3b59e82aNWfPnlWpVFlZWSqViiRJNwFPT8/XX3998ODBQUFBYE0tO6CcKT+CUZnFiD1dGZcil6/97diJyxRFlnt2ggP9Nq6aJZPLbN7ilyRv30kcMX6eWq1xcnT4deN8bz8vxLAV9e5yc/JX/rxzwZJN+IFmTcLrhQUTplBw1lScgslDpD2Suggun23lhgcPHmzevPnAgQPJycnZ2dkFBQXYONSqVcvf379hw4Zjxoxp0qTJMxsgDMOsXr36999/Z1n2448/btOmjSUawcmTJzdv3nzp0qX09PTs7GyapiUSibu7u5ubm4eHx4ABA/r37y+TyWD+2eac5SN9MuI0Wp1u2+8H5/7wM0WS/T98q354iFwhR1zpE5Miz565tnrDroT7yVnZOekZ2dmqPIVC7uLs6OHm0qRR3Q8iOr/xelt7e2U5sxs7ZowaccnIjkcSq+nmLMteuXJlzZo1N2/eTEpKysnJ0Wq12G/HoyswMHDo0KHdunUrzUCpVKrVq1cfO3YsMTExPT1drVZzHCeVSr28vFxdXd3c3Lp37z5ixAhnZ2cQGmy88DC5xlWHVSOONavvZb3dBMedv3Qj4f4jfPFQXaCtkuEmyfv3H82OXPPbH4c1Gu3TJpJNTc9KTc9CCF28dOva9TtTJgx8rUPLyuhVRQIceANic5HE2TiFKEfQGsq1D4UZN5Z4/fTFy7cuXL5l0WkhCa4E5YgQMjVohEpdye7cuTNz5sw9e/bodDrzx3MFEhMTo6KiLl++PGfOnDfeeIOA82trfYHTCpfU1CZnl2fNOuOarqoZtPoNW/bk5qkRQlnZuTzHEyRhi/35xSu3zl64bslzZVJJZpYKkUQ1VBl+33nwux83XbkWU+Q3+WpNvlqDEIq6GXvxyq2PP+zx5bgBnh6uVX/H2Lj7p85eq8SfhoYEMCwvQ6SpDzHSIa5ASKOgjG69xMHUEshmLn5BQcHmzZv1Ajk5Oaw1wutK4+HDh2PHjj106BD2kMxJFrh48eKdO3emTJnSq1ev6jlfd+3aFRkZefny5eKHsaCg4MGDB1iJOHny5MyZM93c3KyoB/3555+zZ8+OjY1lzKQ9juMyBeLi4i5dunT69OlJkya99dZbYFnLW5aFLTSdLXT5ZUq9mESSf+07fjs20ZKXTEvPohlGZie3tdCg1+rOXIh6nJKBENJodXq9oRLGgaGZA4fPLFm5rXSvT8yipY3Lk8QeSVyRxMlG8VYxMTGTJk06evSowWAo8qskgfPnz9++fXvGjBlvvvnmsxkj169fv3jxYl5eHkJIpVJZ8iebN2+ePXv2vXv3iggWaQIIodu3b588eXLp0qVOTk4wC609qdVI/wixxl2VKid/2+8HjFPD6NmqhWsARMkhhwSiaWbb1gOLftpyIzre/DcajU6j0T1OybgRHX/wyNlJYz75fGgfB0dlOZGLuNk8p0O6x8iOQhIrhOHQNL1z586pU6fev3+/yK+w356QkHD58uWoqKiPP/543LhxxQMDHzx48Nlnn505c0aj0RR5Zbz4IoSuXLly9OjRyMjIli1bgtBgC4lBKIrDZCMmR/D1eWSbnqhZ2bmz5q8uXMLIKsXuEkSOKnfpyu0btuwpZ4wyzKGj57JVeetXzGzUOLzymRqEWb83Otu4TkvdjWsPZQcmrvShxVhaCZIkczKydXqDhS8sk0pL2bsKYhCyL/GXycnJs2fP3rFjh/mDSqXSwcEhPT1ddF4vXrwYGRlZp06d2rVrwzm0yagw1RvLFyJQuMIuEiYN6ekzLYmMXKPKySscJjbb25NkbPwDC58rlUqJahgCKpOeOn5x9ndrbsXcK29XkP3D0l8cHOy/HPepokKZZSWdTkqgErt0iYQq1JTM9FzECJsfPeI0xsFAyE1VcigHQYCw2gBgWXbHjh03btwQlyTbnZmcnJwJEyb8+eef5g86OzuzLKtWq8VHrly58uOPPzZv3jw0NLS6Da7Lly9PmzYtNja27KelpKSsWLFCp9OtXr3aWm8dHR09atSojIyMssWIY8eOsSwbFBTUsGFDsLKlrI9CVW86U1goWVT2xSSOj42/b/FclhDPpIJVbNz9FWtNKzhFVtIgxN97OGnaYoOBNvPviLJcPiYXMQVI6iK4fFbOP09OTp40adKBAwfMH3RxcaFpGkcMYc6ePbts2bKGDRsGBATY+iDr9fpffvnl5s2bltvGvXv3Tpw4MTMzU3yEoihnZ2edTifu7jIzM7ds2VK7du0ZM2bAXLTqvNYhvVAfgUAGmt7xxz934u4/7TKVIg9Q1No1OybPXKpWa8p4+cysnGmzf5LLpcMH9So/FZ3AbWV1yJCKSAkiFVXbnvJXr14dPHhwcYG+CAkJCd9//z3P87NmzSqiJgwePPjff/8t+88LCgqOHDkycuTI/fv3e3h4gNBgbRgVMqQjTms7iQERRGzc/dFffBd1M846WxWOO3HqyuLlW8VHAgN8PurTvcPLzZs0rJuXX3DlWsyc79fF33uIf3vpavSOPw6HBPvbKxVV/CJIzCQ3pCFGjeTeSALqbMknqbDnNmnJNi81PUtdYDJ2jRrUqR3iX6pR5ThXZ6eS4zl5FrE6RHHF/SeDwbBx48bt27eLj/Tu3XvAgAHNmzeXSqXJyck//fTTunXr8K+OHTt26NChIUOGSEtTNIBKu7lMrpAfIYRNPdEXSvDzCtSaVct2Lli6+Vl8NooUFX2FQt7jzQ4GutS0CIVc5u/rWeFsLJtCkpkpGWs27DJXGbp1adez+2utmjcI8PdOfPh4559Hlq/ZQdMm9/qbeave7dGxSaO6VYrc4bjAWj4N6oVYIjTwPDK/QOru5qJUKp66BGreppvnTN1GOKFNF6k0WlqJM6KskN2g0Wi2bt06atSoZ7HAMsyqVat27dolPtKjR49Ro0Y1adJELpenp6fPmTNHtEtnz55dv3793Llzq5ct5/kvv/xSVBkIgnj55Zf79+/fsmVLX1/flJSUjRs3bt68GYsmDMNs2LDh448/7tChQ9XfOjc39+uvvxZVBqlUOm7cuPfffz8wMDAnJ+fOnTuzZs0S1aKTJ0+uWLHi+++/t7e3B3NbTFrTCFXi8oTuEnw5nh5BpKdlckK4NUWSdesENqhXmylljvMcXyvAWy6X2jScgeP4C5dvjv3y+8QHj6vyOgUF2q9mLk1+nF4Rl09oqUNnIlaNZJ5IarV9iFarXbFihbnK0Ldv30GDBjVq1EgikSQnJ3/zzTeiQHngwIFdu3aNHTvWpsMkJydn8eLFFRIKHz9+PHz4cFFlcHV1nThxYs+ePQMCAmiaPnHixPjx4x8/fozl3SVLlgwcOLBWrVowI61lnRGdhdh8HLe4ceveCVMXWbZbpWJuxW/dccBcZfhi7CddOrUNq1MrIyPn5Nmri37agqOHWJabMXfV66+2adKoriXTRmglW4AMmUjuX5XQeJZlBw0aJKoMFEV169btgw8+aNWqlbOz88OHD9evX79hwwZxNu3cufPNN998+eWXxVf44Ycfjh8/Lt4NCgoaPnx4mzZt6tatm5eXd/z48SlTpohy/7Vr1yIjI3/44QcQGqw4QFlkyDBumHm2VHe/shgMdHxCUszte7HxD/7+5/SlqzGs9fKZc/PUew6cEO96ebpt/Xnuyy81JQR4nq8fHtK540tjv1yw868j+DmRize8+3anFi3ql5WqVAG5QfCDOTXS6ZHMB0ndoB9S8eElVBK1bFBRZEpKZn6+Sb//ZspnEW93KtuOUcVVdoJAPGG6VlPsdMTHx2/b9iRU8qOPPlq2bJmLiwveZXl4eCxatMjT03P+/Pn4Cdu3b4+IiPDz84MTaYWFkNMhNhfRKhzah57UBXxqePA8n5Gpun4rPi7+waWr0XsPnFDl5PO2TvrF0MwDoRIkSRJvd3t1x44lTH5BWQOWIiucGGxjoeRmzN1jJ5+Etfd+740NK75RKOTYKvr6eLR/qcmrLzcfNek77DoYJ9r81b9tipRVRU3T6sd/3n/syH4WKCHkrzsP9h8yHd/t9Gqrb6YOK7XcxlOKg/AErgAZCowelcRZyJp2qOgnTU1NjY6Ojo2NvXbt2ubNmxmG4Z6JVKRWq+fMmSPe/eCDD5YvXy5WrnJzc9u8ebOPj8/ixYvxFDhz5kxCQkK1Cqc6fvy4eUT0K6+8cuTIEVyIgSAIf3//1q1bd+nSZeTIkampqfgi0vDhw2/dulV1gSMhIWH//v34rqOj48qVKz/66COe541D2te3Xr16Xbp0GTZs2K+//oqfc/78+fj4+GbNmoHdNVcChPztFCFKyKKyrYgkEhIfmQ67k/20L4b07/8Oo9WX4RORJGlloYFAWo0uJjbxTuz923EJew+cvBl9t4rLAcdxG7ft/evvE5Vy+QSXRvcIcQYk87JKT4r09PTvv/9evDt06NDIyEgx7cjd3X3r1q3jxo1bu3Yt/vDHjh3r1auXv7+/dQdIcnJydHR0TEzMxYsX9+3bhwtXWc6SJUtEKdDe3n7hwoUDBw7EkxQh1KdPn/r163fp0gXHjebl5a1bt67IZWeg8ufuYWzMjVOxsXevRt3Z/Os+y+cHZ6D3HTwppos6Oih3bP6+c8c2EqFKWlAtv9YtG77VtcOoSZH/nriEEMrPL1i+9rdF8yba2yssmjK47SVpj2SVT6O7ePFiTMyTPNABAwYsXbpUqVSKFUzatWsXERHx7rvv4ifExMRs3ry5devW4jXC5cuXiwt9SEjIzp07W7RogQcnz/MNGzbs1avXyy+/nJCQgFeuPXv29O3bt5onUNQcoYGjkSEVGTKQLaIYZNKoK9GfDvtaDOCx7vKTnZ37685D+J6Dg3LNsukd2rdEHGe2CBF+AT5TJw06d+kGlq5pmomJTWjauG65tQYt/RBEYYcOfTLiGSTzfJ57QVVqhAl515YNLZJ8nJqeV7i1q1cvRCKp7ME0vmnR/QNN08eOHRMNVs+ePRctWuTq6ioOGJ7nHR0d33///a1btz58+BAhdOPGDfOoZqAy+gLub0pnIVplSqIRTU1JNkdvoH9csXX+wg2V2JCYFyMkCKLEgBee5znhX2GoPkEKm3BEkunJqZzwCiRJNaxXGxGo8iPwPznYBvry1ejkFNNlui6dXlq9ZFoxh4B47903Ll29PX/hz/j+n/uOsQzLSyTGoyIqsAQiCbLELBXhaRwvVtEQoCiSKjdqiSRu304QVYaG9WuvWjzNzcudN9BEeVdWnzYqemRIR3SGkLnmhiQO5V+bLWTUqFHmYQUVGVqsuVyCv3Xxp+GDI/4KPxMh9PPPP4vBw507d8Yqg+iFCweQmjJlChYacPbBo0ePqpXQ8NdffyUlJZnOXcOG//zzj1QqFb8C/vrvvffe8ePHV65ciUNmEhMTHz9+7OfnxwmYKXRUiWfcNLTMDgtBEBzHXbt2zVyjee+998ynOUEQTk5OkZGRhw4dwpnkcXFxycnJIDQ8rTLkCCqDzqS/WzJdCPJugumMy2WyOrUDEEE8a5Mokx05cPLjIdNxgR6rcCvm3qiJkYUzlOAqcNmpMDWE55A+1biuSX2qmDmLY3/EsiN9+vTBKoP5LFAqlRMnTsRCAy71kp6ebnWhYejQoUVyNywnMzNz+/bteNZTFDVv3jxzlQFP7caNG7/zzjsbNmxgBS5evAjz0lp8MnD4v8dOVPjPSDL+7oOdfx0VH1gcOalLp5ckhfsjvKLVbxI+acwnN27FZ2blIITWbPhj5pRhFgkN4i6AyRLKLVWyAuj69evF2926dRNVBvN19u233x43btyPP/6IH4mPj3/48CFOPzx69GhWVpYo223atElUGfD84nne29t769at7dq1w0/LyMi4ePEiCA3WUhlSjBsAG+VKCK9qpS19sc/O8gn3kzVaUzG/iLdea/9SMzwxzEcP4tjwsOB+vbstWGIKvb59J0FvoJUKyppf0hQYkma8IfVEJGgNZv6NhQUaBGuR9CgtN9fkTwT4eVdeAGL1TyJ0CklPTzcPZ/j000+9vLzMMzPxjdDQ0J49e65bt06pVKpUqnKzwoCyVAaeEaqZZCFWa3nzGrISM4gg0tKyVq/fabIPHFcvPOR/73ctnllK08yO3YcTEpMVChlFUcGBfp1ebeXq6owo8m7CI7wdoigiPCwYsZztjxBP00yWKhfvXB0d7StfLoEgsjJV5kkT40Z+5OLs+PRTjFaRoMh3335t74Hj4pMfPEwJDws+efbq0WMXJRJK6B0r7f5Gh+bN6xUP/kpJzdy0bR/P83K5lCCIjh1aNm0cVr6dJ4jcnLy3PhiN73m4u3w1cXBY8/p8fkGFszbEcBhDJmJykdQNSVxNWaDlvVTlWiGoVKqlS5fiz0nTdOvWrd944w2lUlnkaQUFBYcOHbp586a9vb1EIvH19e3ZsycO4P/uu+/wcxwcHN555x1zlUE8Nc7OzkOGDNm2bZtUKmUYRvSNKg1N03l5eTRN8zzv5OSkVCornSDDcVxcXJyoyc6cOVMul5t/BdOCi9DYsWN/++03XPiN47ibN2/6+fmdO3fu77//xqXmDQbDp59+WrduCdk6d+/e/fvvv9VqtZ2dHUmS7du3b926NcdxUVFR4nPq1q1bxMvEuLi4vPXWW1u3bsXxIziqAjA5J7QKGVIRp69Y0CVJ3IkzZTnJ5dLawQFV70TO87xWp8/NUxMEQZGki7OjVCop71OQVuxgkq/WvP/RJNNYCg1s2by+eL2qwibIkG30cGS+VcnkMhgMixYtEsdwRESEucog4uPj069fv927d0ul0oKCAlygsQz0en1eXh6WR11cXORyOWEb24jZvHlzdnY2vu3k5DRmzJgiNS/w7UGDBu3fv1+n0/E8j8vvAVbZD1EkVzmfITs7V8xkbNu68Zud20mkEp7lntpGGejOHdu817PT2o278TOvXLvt4+1uUUkjHK6IS8/KKplttG/fPnzDy8vr008/LW7/sVI/fvx4UWhITk5OTU3FQsOxY8ewkEcQRLNmzV555ZXif87zfNu2bdu3b3/mzBmcrHf79u1qftYlNWMHaEhHdJbl14IqsaQo7OTBQX5arU5UwXkepaZl5asLqjqxOE68cCfk89f18PVET18ZI4Tap0qlws/H84krk/jIYKCVCjvrayo8azykhARJ3aEVhelkswbEWVwRmkDJj9MNgigeViewSldOeNroVJEK87fOzs6+cOECvt2xY0d8vav4iu7q6jpjxowBAwaQAuHh4SU+DSgfNg8ZMoxbwYr0xyUJQmjd7OnwRDInCgq05vO9xFNuZydbt+nPR4/T8H1PD1e5TPb++12LtJ88fe7ax0Oni3eHfPpe19fbYnnj3r0kLDQYz3vdYMQ+i7SI85duvtZ9iNE/c7RfvnBK/4Hvo9KDk8uePlqdPjPLVBvcx9u9Tu0AgqJ4li1qFTnOy8PNxflJWZk78ffrhYfk52u+XbDO7IPdWvXjVD9/L3OtIV9d8N3iDUtX/So+snvbwhbNG1gSLz1i3Pz7Dx/jApB93u/60eBevLDfqILJ5RFHI32a4MR4I8pJaFdR1gv6+fkFBwebN1fT6/W4V0LZm4G9e/devXpVFAt27drVtWvXIjuokydP/u9//xNjH4YPH47bHyQkJIhBxWFhYRERESVWnpPJZJGRkcOGDSNJUiaTBQYGVnFoRUVFDRo0CCcvLFq0aOTIkXJ5JWWsrKws82Ld+LsX+Qr4bnBwsBiwynFcbGzsm2++mZKSMm/ePPGZV65c2bx5s6enp/krqNXqxYsXr1y5Unzk0KFDooIjPohfvMRwEr3+ycRxcHAAu23y9Ji8yqgMuItkrCkc1U4u9wrwQRaXai5DaNiyff+wcXNxuuu+35e0bt2kLEvL8w72ijq1A9xcnURRi2GY1LQs8TpTBVYklh03ecG9xCQhvF8xbFAvX2/3yggNIsbVjURyv0pfrb17966YpNCyZctOnTqVOLwdHR0XLVo0fvx4kiTt7OzK7eF66NCh0aNH48DM3377rXfv3uV+En9//9DQUFEyJghCpVKJFbLL5syZM+IknTBhQmlTr127dgcOHGCFJQkrsDBDrSAjEqpafm61g/3NfWatzpD0qFyxlc/IVInVGV55ubmLsyPi+GLbKF7m4uzr/UQmOHDkTLeuL1ekdjKLmBwkcUFkZXbHWLY2OnWenrjyQoljRqFQuLi45OTk4JBAcc1NSjL5dVKp9IMPPijFmzC+YJMmTbDQwPO8GL4HQkMVdoB0NqIzbagyCAnPDeqHbvt5Hk0z4nswDDvmywW//XGo6kJDeka2eNfN1QlJKF5vKGH88TxrFrSpUMhtVbXeOCFpZEgzLjnQ9tJ08PVCMqhFwieXV5ClyjUpR/XrUCSJr37k5xfo9bRCIXd0UMrlsvKXJZwYxuG3JsQBc/fuXTF8t3PnziEhISaLrNXq9XqO4+zt7bEj7iVg7hvBWlixLS/PIiYD6dJNnU0tPnr4WvqIwb0//t9b4jGXSCWHj53v1f+LMt1p3sXNeecvC7q+OwJn32Rkqpau2t6qef3AYH9TbAKB0tKyho19UmOv4yutJo8b4ODmbDQdFBl37wFbKDTUqV0LsZzeYMjP12i0OplU4uhor1DYkVYdCTzPGwrrMmp1ep3BgCpftp3Q6vRZ2aYrXUG1fO2EhvYlDl2WZc1D2ZVCfdweb3aY9sXguQtMKRV7D5x4tX3zMSP6ysz2jUePXxRVBpIk5874vMebr5Q/R2TSHb/u31VYKyesTtCCb8ehAq0VTK7YMkmXhKTuSOqBSHkZ423evHlff/21eY53bGysedWoEvHx8Vm+fPmbb76JLySq1eoFCxaEh4ebu/uJiYlz584VVYa2bdtOnToVt3ATy1ARBNGkSRP8V3hjjC/u2dvby2RGy+YuYC3LQ9O0GJCF36jSL5Wbmyu+lL29vYODA1/60DK/i+M+3n777ZkzZ4op2YcOHdq+ffvnn38uXkTleX7Pnj2bNm0S/3Du3LldunQhCIIkyUaNGomP43Q2rCOYH6gHDx6cOnUK3/X19fX09CzNH32R1l+hMo6+UiqDMMOv3zTV/vT18UAyO06r0+r0eXkFDMMoFHaOjkqZVFqhg2xu8Qo0WoZhyzF4BvqVl5sf3L2cK4wvI0giLT378wnz/z15qaJfZ+PmP9f/8hfOmOj8WpuJEwasXLm9ai4fjxgVIqRI7lu5El0nTpwQjUOrVq18fX2xpcXGAU83mUxGkqS3gIXGQfxzce6Xe5oWL15cUPAkvkypVC5btmz69OnF220WQaPR4OR2zODBg/HXYVlWq9UaDAapVKpUKrGE0bRpU/CsrAmrRfqMn374Uqejn1h4Al2JutM1YkQ5f2qgU9OetAjx9nKXy2UlzlmC593dXSQUhWvBnj4XZZyPkopME06HOA0iK1w137yJiUKh8PHxKUNGFFOQZDKZqHc/ePAAHxmSJLHbX9qoE4tkI4Ts7OxAaKjiNl0rxDKwNl7jeJIgnJwdzRcSjmGdnR2q/uIkSYTVCerzfleZTGInlzdpWAfRTIndiVLTMi9diRYfaNqobolzyWpbLE6PDFnIzg4RMpAZKpI3QWSmq3JyTNJ+YC2fM+ejHj1OT07JuP/gcbYq18vDLSjQ19fHo2mjsPr1QsqrXUcUCg1P1t3z58+Ld+vUqUOS5M2bN2NiYu7fv5+dnc0wjL+/v4+Pj5+fX+PGjc3dfVgLK2pfkCEd6fWIYyqkMoh2Q24nkyvNLr1KJN6ebuWtZQTPsC+1azplwsCps34y+XCnr6zb9Oe0LwbLhdbuLMPOmLtSzDr28fYYPezDOk3CeLWGELK87sTdx9tve6UiIyN7z/7jqelZ9x88TkvPcnS0Dw7y8/X2CKsT1KZVIzvr2RDzPMMqqRg87+Cg7Nq5bWiIP8fzLZs1cHJyKDnQgCSv34rHwQUYo/1EiKTIcSP7nT537cRp06X7pSu3v9SqcYd2zfCHTHzw+IvpP4p/FdHjtU/6vS1V2pVTZIGikhKTZkeuwS08SJKY9sUQpZsLr9FaZ2aZOt4zgnTOIpkXIu1QKSUA7ATMH8Q70rIHJEEQLVu2nDNnzoQJE/BG+siRI1u2bJk0aRKWJnU63bp1686ePYv/xMPDY8aMGWJNdbGrlpOTE84CjYmJiYqKSkpKys7O5jjOz8/P29vbx8enefPmrq6u1rI8eJdulZdSKpXdunXD+Q6+vr4llqgQv6x4bZOiqBYtWmCnbcCAAefOnfvnn3/wr6ZOndq+fftWrVrhu9HR0YsXLxaDJrp16zZixAhS0JpJkmzdujVJknhu7tu3r1GjRoMGDfLw8MCfgeO469evz549W7zw1bx58zp16oAhFkxxBuIKKlk6Sqt7mJSKQ5BCawdcPnk+6kZcSmpG4oNkdYHWx8s9KNDX28u9RdN69cNrWz6+zCweQZRXlhIPABdX5yd+hFC2w8FBWbHvIpVcOHfti69N5qtxw7orFn+FX7+qxofnEZONJPZI4lKJFxCNg5eXF54sN27cuH79enJyclZWFi6z6uXl5e/v36xZMyxcWjKjKzr3S7SNbm5uEomkXKHhxo0bYiqHr0BOTs7Vq1fv3r2bnJycn5/v4OAQEBDg4eERHh5er14986AJmKJVnuI6njMolEqFw1MH08Pd2ZKTzphVsxZK55QyYQmk0xnEjjOPU9IrPG14oXUUcqr4Xo/s378/SZIsy4aHh5tHIz51GDguOjpaLKkWFBQkFjF57bXXsLgvk8nq1i21X4ZarT569KioU+BnVmctTFLdt39svnDKkU2vuptOz9M1vVmG5atc5ZvneYlEEhHRJaJXN6EOMEI0XaKzS9P0kWPn9x86JT5SP6y2zHbdCk35SMLhJaUIES+80GBxEDhBZmSqsgsjGi5djd538OTdhEfFn9i2deOP+77dK6Kzp4drWSaANyCeEx0smqbv3LmDb/v5+TEMs379+k2bNp0+fbpI2fnatWv36NEDl5wtzagBZcGqBR3TvhJXeIgn16jN+x2yrAXlEox/y7Bjhvc9d/HG3gMn8YNrNv7Rtk3jt7p2QDLp79sOrdnwB35cYScf2P+d999/A2nE6+pEbNx9XBiMZblhY789cryEalVhoYEf9u7Wr3f38LBg9Gx6YVg42TjOz9dr9pyxpo03xyGDgeeKLZMkmZqU8tsfh8SuE4G1fN1cnY0LKiI83F1nTxvx4cCvUlIzEUJJyWmLl2+pFxbs6eFqoOmZZjJN3dDAcSP7+QX781p9WdOQIDianr9wQ2y8KT2h06ut+/3vLaTVWXn9JkghSlxl/O5yvxJzKEqMty+3JSdO4JRKpR9++OHp06d///13/Ph3333XoUOHV155hSCIY8eOid2w5HL5hAkTunTpIropYi1DOzs7hUKxYcOGTZs2nTx5ssgmJzg4uGfPnn369Gnbtq0Vk9KtMLR43s/Pz5IS8SqVasWKFbm5JjOuUCgaNmwofrtx48bFxsbiRBWNRjN+/Ph9+/Y5Ozvn5eWtWrXq8mVTt5SQkJBZs2aJggtBEC1atBg4cODPP/+MG+9FRkZev379tddec3Nz4zju0aNHf/31lxjO4Obm1rdv36onnjwXprgAMTkWRRSW5OA/fPCYEMI/eZ6/dv3OR4Onxd0tIcmo82tt+vXp/l7PTq6uzlY3iSW4kYTRPldMIKColKSUyTOWqFR5uLT+3Bmf+4cGCcbfGlaIZxCTiyiHSjShEI0DjhJasWLF1q1bRclSpG7duhEREX369GnRooUtCp9ZEp1UGomJiWL2R6NGjW7cuLFmzZr9+/ffv/9UGXi5XN6uXbvevXu/9957OHADqPqqjzgtwbPGTRBPPH3uyneZJDJZrYAnAQLJj9O0Or2jQ0lj2MCkmMU+ZGXnVngfx7NCq3uuQm4hz/Nubm6//PJLkQeLD9f09PTp05+kxAYFBeFucTzPF1m5StMOli5dmpiYKC4izZs3r+ZaWPXuccjRiMm3dTjDs4BhkFaHtHqk05dYto2mmb/2n5jx7Sp1YYzua+1bNqxfmyBtfIJ4g3CEOTCDpsh5iyYNYS40nDl/vUSVAee0T56xZMS4ecmP00v3NgjEGcyvlXAcJxZXMxgMq1evHj9+/MmTJ4s3t0tISFi2bNnAgQN37txZrpYPlHTSDULe4H/z5vb2itnTR4SGBOC7aelZS1ZsS0nLvB//YMbclYUuNPFah5ZfjvsU51wIgj3B5uSJmTtZ2TklqgwIobh7D2dHrhk5Yf7xk5dQdetJwfNIZzCaRK0O6Q0lXCokiNSUjHkL1+/Z/6RC9aTRH+P2HLyQSde2TdMJo/qL+WW79x77ddchnue3/35w6w5TTXJnJ4fPh/Z59dU2xrcrG7n00NFzu/cewxdD7OSyhXPHIwLZpF8pzplisoXEaevj5eU1fvz4Bg0a4Lv5+flffPFFTk5OamrquHHjxKjLrl27Dhw40Lwjg5jtWVBQsGHDhokTJ544caL4Ebh///6yZctGjBghlpevWaSmpn799dcHDhwQjeqQIUNwxAf+st27dx8yZAjOzUYInT59Gtfu+ueff8SO/QqFYsqUKbjct3gAlUrljBkzhgwZgnv+5eTkbN++ffz48WPGjBk7duykSZNElcHb2/ubb77BbSn46qQD/jfQucY9cOV8ZYqMT3iIjyHLcteux5aoMiCEjp64OG7ygglfLUpLy0Rk9fN+CYLR6+d8v+7UWVNJ0YljPu7Rs5OZxGwVs1Ng6uRdQR49Mvk5OTk5K1eunDx5cnGVAVfR/+GHH8x7uFYfcnJyROv3+PHj4cOHL1++vIjKgKNKjx8/PmnSpOHDh5dbFgewdPeOHd2Kz3Hj1CYJTw8Xe6WpGNbR4xczMlQlvBRFPrj38PadBPPHtDpDxeYI4hFPG81RBfWvIma8RJng0aNHkyZNEmOWnZ2du3TpYp7+XN5Wklm9erVYsBkXa8DVUqozkuq+DeAMlQhprk4LB1Hug9mqvGWrf1278Q/c2BJXHvpy/IBaAT64Z4utlCrjqkMgTivstV7k9hO80NvSYmNEkqnpWbh9jojCTt6yef364SEsy92Mvht1M5YWoq/Vas0fe/91c3VevnhKqfEpPG3e4ZLjOFwkBid9nT59WvxVWFhYYGBgampqbGysuF7GxsZ+9dVXISEhYsMbwPI58N9ttI3zunHDulO/GDx4pEnG/uff879s23fqXFT8vYf4ER8vj3nfjHLxcud1hVfjKfJBYlKRiwBSqaRBvdpNG4XZyWX37j+6cOmWusAU2v3viYvZqtyDfyz39vFAHFcjrCLLspev3Y5cuP7gkbO6wqJub3d7tV+fbuIlMp7jZHay/v9769yFG3/sNcX0fjNvtbeX+7TZywu9DvKtrh0+G/QB7n5VliElCU123uZt+8RE0JFD+zRtWo9nWFuaXxYx2UjqasVxaOrWQRDt2rUbMWLEtGnTcKjwpUuXli5dmpKSEhcXh58ZHh7+xRdfFMkjFVMJ1Gr1sWPHCg0eGRoaGhgYmJaWFh0dLbpTt27d+u6770JDQ4sUm6xuQ6vIvLtw4cKCBQv27NkjZsm2b98eX2IS25UTBDFq1KhTp06JCRSLFy+uU6fO7Nmzxb/q169fnz59KIoShxa+UatWrf79+58/f14sbq8VKPJJatWqFRERYW9vD+nfwrKnrvwsIMm7CUlFvHxHR/s2LRvWqV1Lo9FdvxkXE5uAQ6/z1ZqNW/fY2clWLp1e7Q6CVLJx4x9bf/sb61/vvPXapDGfIJqx8pJn3ETpEXKo6IIlRg1kZWWJ9Rooiqpbt66/v39ycrIYiYnDH+bNm1e7du1q5Zbg1jb4dkxMjDhmlEplkyZNZDJZXFxcWloaflyr1e7Zs0cmk4mhYUAVYIv3ca+AVed4dzeXxg3rnL900zi6bsTuOXBixODeRbLL9Vr99l2Hjhy/UEQ2qvgc4QShQVaV1ae4VT948OC3336Lizhiunfv3r9//9JUiSKPPHjwYMGCBdu3bxfTf7y8vKZPn+7i4lLNFxFJtR+a7HO9zSEOHj4zbdZPsfEPCgpFa4WdfOLo/p1fa40Igjfrc26zHQ9dTurhC6EzGASzQloqNKRmqgprNCCExgzvO+iTCBdnRwd7JUJ8vlpz8szV+QvX34kzKeU///LnKy83++SjniUfaZ4RGl6YKsOxLGteVAbToUOHyZMnh4eHKxQKvV6fnZ29ZcuWpUuX4t8+fPhw/vz569ats1wZBf7zHRHP8xRFvfd2p/MXb67daEqUiFy8UWzDLpFQ30wd1rxlo6cqqJPk/QcpordEEETb1o1/jJzk6enqYK8kSdJgoK/fipsduebC5Zs4vSLqRuyEqQu3boxENSF0KS9fvXTlr8vX/paWni06gvXCQuZMH+Hu9nRqMcv5+HuPGdE3JjYBz7VsVe6YL75LSzdt8GoF+MyePkLhaF9OaQYh0/HA4SNizTY/H49JYz9BHG9znYvVCDovafWhRRDEwIEDz5w5I15XXLRokRj35OzsPGzYsFdeeao6psFQQonili1bTp8+vXHjxjKZzGAwqNXqtWvXLl++XHR9li5dWr9+fbHKQ3UmOzv7p59+Wrt2bXJysji0goODf/rpJ0dHxyINp11cXObMmRMdHY2b2+Xm5o4fP14sD96mTZvRo0e7uLgUOfIMwxw4cGDMmDHlNq28efPmZ5999vXXX7dv3/5Ft4Y8J1xSqiwUGRtvSiXDHtTQAe+PGNLbwV6hVNqxLKfR6vYdPDVz7qqsbJOCv+OPf9q2bvzp4N5Iq6s2KoP00rmo5Wt34ArB3l7uC+eOt7dXWt8J5NlKhAmLGQfmvPbaa5MnTw4LC5PL5TqdDkc6rF+/XtzJr1ixonbt2uaFIf9bcnJyxG0ntgByuXzYsGGDBg1ycXEhCEKv18fExIwePVqM7dq7d++PP/44btw4cFqqNur4KoVOc1ztYP8+772BhQaE0Iy5q9IzVF9NGOjoaIo7e5yaseDHTWs37i5yGcbeXlGpXYE1V//Hjx/PnTt3z549YliQuLaaLz2lQdP0jh07lixZcvXqVVHvs7OzmzFjBl7EqzkSGP//DRSZmJA09ZufDh49m2O2ZfX19pjz9ciP+/aQSaXoWWhUROGkerHBXo6FR5tlVblPWkN/+/XIUcM+dHZ2NBlTArm7uwYH+tUO9v98QuSN6Hi8pE34atEn/d8pIS9U6Gxq/ACUaFG5IkJDv379vv322+DgYHE8hIaGhoWF4UJu4nIYExNTpA0bUP1XX1d3l+GDe12+Gn3tRixCSJXzZGi9+3anoQM/QDTz1DpEkmnpWWKto+5vvLxx9WxPDzfTROaNI8rH271tm8ad3x52Ncp0ieno8YunTl5+pWMbZKCrs/ry195jX85Y8jApRWemrbzVtf13c8Y1rFfbfFds2k4z7Gsd2wzsHzFz3iqdTi9koJhUBgd75dyZn9epV7v8r0wSqtSM3fv+FdsDzZgyzNvT7ZlcJeBtYX7xx7a3t//qq6+uX7+O+2yLWwWCIDp27IgbyJt/R7FggUiXLl02btzo5+dnfhwiIyMDAgK++uor09A6evTIkSMDBw6szvOMYZhDhw7NmDHj5s2b5vW6X3/99ZUrV+JiWsXPdZs2bcaNGzdjxgwcjyCqDG5ubsOGDcNF6c0PIM/z58+ff/fdd83T3N54441u3bqFhobm5+ffu3dv3bp12NfU6/WHDh3iOO6nn34KCwsDU1j5PyXJR8lphftG2ddTPvtizMcSmUzY2xhXZEQQwwZ+0LpFw3adP8WnJluVt2HLnt7vdlE62FeLOC+SzErLWLpqe9QNU++MFYu+qh1SyzaXmipjc8QoS5EPP/xw8eLFRUKifvjhB19f37lzTf2Sdu/e/eGHH/bo0aP6CA2MWQ9piUSycuXK/v37S82iTevWrRsWFtajRw+cBq/X65cvXz5mzBiSJMFhscJuo9J7Jpn0/Xc6Hz524cDhM8JyVrD4py0/b/6zfniIl6dbfn7BxSvR6gKN4enlXiqV2LDUnQUYDIZffvllwYIF9+7dE8ceRVHdunVbvXq1WAayDG7cuDF16tQjR46Yh2Y4OTn99ttv5vWVQGiovPWt7lUkKuUDGvSGpSu3Ry7ekK3KM4/369Cu+fJFU5o0Dscr37Nyc6nn8CBX+DDQFbCCesP0L4d+MebTAo2WpmkvT3eZTComufCcUOuGIDp0ajvok4ivv12ZL1ygyFLlJien+ft5l1yDyhRXQojrnyhbBgUFjRkzRuxwKQ4MZ2fn//3vf0eOHDl50lRNMD4+vn379tL/1KoCFdoNGk8ly7Vo0XD44N6jv/jOfI10c3Vas3RaCXZAp+/z/hvv9uxUoNHm5xX4eHsoFHLzHCvsm7q4ufy8fOZLHT/BHdo0Gm3UzbhXurxc/q6bIr9buP77HzeJ+ZDiqEtLM5UO0esNE6cunh25lnt6MEsl1Ef/e2v23AkVTiqmyIR7D8d88f0//56nzUKFnRztJ47uP3p4X1cXp+KHwnQAOf7zz/ocPX7hn3/Pm/ntxHs9X+/3cQTSGco3pBLJuYs3/jl6vnAb6RzR4zXcR8D2S5y8ElXZLJOweNyicuTIkWICBcbf33/hwoU4CaVoH3IzQkJCpk2bhj0h80Ph4OAwcuTIDRs24CwMnU6He+Bbws6dO7/55hvzD4Pft6CgQCxMM3369GXLlhUpI6fX6995551FixY5OjpW9FA8evRowoQJReKfKYqaNWvW6NGjHR0dxRiQokOLICZNmrR3795Tp06ZH4EePXoMGjSo+ICkaXr27NmiyuDt7T137ty+ffvK5XL8gjzPjxkzZsGCBfPnz8fPOXz48M6dO7/88stqVVPzmZtC0jgL+MoGNag1W9bO3bBiVp66wGBgavl7GSevsICKK7JEQrV5qcn8b0ZNnmEKA8zIzE64n9yoWX3EEZ8Mmnr42AWpVGK+J6IZRlQe8/M1ER9OsJPL+KenmKODcuLo/oOH90WaqkVGcNzmbfu3/PY3vjdm+Idvdm5HkoRtCsSQCFGV0y5FmjRpMmHCBKwyiB+SIAhXV9cRI0Zs2bIFlzYoKCh4/NjUM2jVqlXff/+9+T4fp2Xl5OSIEuegQYOmTZtW5K01Gs24ceMmTZpU9TZ+RazKO++8Iyqk5mlT9evXHzt27JdffolDwPLz8xMTE0NDQ8FpqZrMQFRpOWO5oDqBY0f0vR2biBtR6fQGXUZ2RmY2fmVxHMplMo7jaGGkebq7omLm3dafVuTq1atjxowxz5XA7v2SJUs+++wzbPPL+Gx5eXkLFy5cvHhxkXii3r17L1y4MCAggKjMVwOhoei5lhp/kA5fpnse5hpJJiYmDRo56/ipy+YW3NFBueDbcZ8N6Y04nmdZ8ZKdjXfXwrQk7UBoEPb5FZk2FCV1UIptq/BUNz9rxkdopldEl83b9l29brqqfP1mnH+Az1NNCkSjZlZ4hiRJFxcXsf/ZBx980KRJkxKX/LCwsO7du4tCAy7cAEJDzdIa8I3OHdu8/FJTc7MwbmQ/VzdXVNIVLZIkFXZyhZ3cQ0glMB9+T0YgzTR7qemrHVocOXbB6KtpdVE37iBLaoBzfFZWbna28aeMZ+Xk5ufk5hdz48ik5DREkRX1/rZs3TN8/LyCAq35kWnXpsmqH6c2bt4AGegi3/GpA8hx9h6uvd5949LVGDEeRCKRzPzqM5zeXI4hJZBByHXKyFThB0YO6eMiBCjZ1gLzwnVFibONCoWIH37YsGHLly8X9/YSiaR79+4lOs1F9vB16tTp2LFjidsMpVI5duzYzz//HN9NS0vT6/W4mGLZZGVlPXz4sMQwbBGWZcXNiTkpKSmVKHn7999/R0REFNnedOrUadmyZbjNBHZPy8iPHT9+/Llz58Q4iICAgI8++qjEw3L79u3Dhw+Ld0eOHIkb9Zv7gq6urlOnTk1LSxMjzPft29e7d+8ympm9EJD2VcmekEolMpkUx0gXOaFPzhHDjv+8vyg05OSq7yU+atSyEaKZ1PQs8y79JSKKDuYoFPK0DFVV60pKqIsXri9evgXfqx8WMnZEPzs7udmgNfVGNZ8jDMPib0YKVMQ0yBBZ4R5VRYxD8+bNW7duXeIscHd3/+yzz0S9IDk52WAwyGSytLS0hw8flt0egmEYMWfhqYOfnl5kClcOJycnqVQqzmUxIFT8FuJ3GTFixPTp07HBMRgMcXFxIDRUWd4iq7ic8XrDm91fPRYWPGjErOOnL+PJLkx3XlSHWzavP/CjdzZt23fpajRCyN/Pq4wOx6WtzcKMq9Kk1uv1v/zyy4QJE4osdu++++7KlSt9fHz4wotDJXaY4nk+Njb2008/vXTpkvmvAgICVq1ahUOESlu5qqN1r96fToYoBXpeQsE5jtv394nXewwTtxMkSTo52o8c0jvp9oHPhn3ICw01n+m4IUgksX+xK0Hic2OonBNf4l1x/+Mf4OPoYC8+GHUjrlSPxKzxBEmSzs5PGgv7+fkpFIqS9ik8vuooKgt37twxjwoGLDmR1aKxK8ftPXDyxOkr5o999+Om1NQMZEE12VJrK7Jcq+b1Cx1TTqhiYMH1sSrV3q3gik4QWdm5g4fP+Pizr0WVQS6TBgX6bls/78yJLY2bhPP68kISSFL1OH3rb/vNs05ompn6zTKLvglJ3o5N/PvQk5Krvd7tbKews7GyKZwIiSOSetp6cC1atMg8L5RhmD179uBkiiKYKwVSqRQ3rSjxmipFUa1atRLvpqamioUPK2o8Kza2KvK3Go1m0qRJPXr0ELcoEomkQYMG27dv//fffxs2bMhbUGuZZdlvv/3W3K4+evRo/fr1Je6XxAp5WMsYOnRo8QtWPM87ODhMnDhRNPIJCQnFk1ZeOKROT+ZFFWS1MgYYz/NSO1loSC1RKr2b8BBJqKq46tYpVE4QGRmqpGTTpYXbcYlNXv6fe1BHj+DXC386uQd1nDhtkfgX/QZPdQ/q5BH8ultgp993H7G0qZDp2pJcuLxUeaFBLpfXqVOnNOMgl8ubNWsm3k1KSsJ7reqwI3JwcDAPHSotZYnneZlMFh4eju8aDIbY2Fhwl6o2yCnhsjGqSltZgiB4Ax0cHPDv32t2/vL96OEfdmjX3N3N2d3NpUXTehNH9//r10UXjm6uHVJLbIkdEuRHVmjg4Y9HSISu/5Vb2/nU1NRRo0YNHTpUVBlkMlmzZs2OHj26e/durDKUsZzRNL1t27YGDRqIKgNFUU5OTjNmzIiPjxcTkWpQlnQ1jmjgeWEb7CL0X9QJd2uw4sDz/G9//DNwxEy93uSyuDg7vtS60Y+Rk+o1b4A0Ol5veKbjBk8nygFRjkKZAB69yLn9FUqdsPwIOzjIZE+slcJOXupGzyykgqIoHx8fsTi8uehQ3LVydHR0cXHBycP5+fnQJq1iUA5I4mAqMvxfjX+COH326oq1O4qcu4IC7dDPZ//566LKtyLneB8vDzP/z7KFkyB9vD0CA3yUyqLOaIFGl/QoFY89by93Nxcn7unyThKKCq7liyxraY4IIkeVN2zMt7v2HC3c8hP+ft6DPo74evJQSqlAOr1FYYEct3DpL6fORRWxt3/uP/7z+l2DB/cqu2w7z7DnL9+8GXMX3/3f+10D/LzK71JR1aWNQKQSSb2NDo0tB97Zs2dXrlypVqvNH0xLSxs9evT+/fvNlQX8fZVKJfaNZDIZbiBfmozl7u4u3tXpdBbGGnh5eYWHh+fl5RXZGWo0GjFgwdPT083Nrcj7GgyGoKAgy8O1DAZD7969//77b/EtgoOD+/btO336dKzbWnh+Z86ceePGjSIPHjx4cPXq1SNHjizyuHmfPC8vrzIOoKOjY7NmzbAwkZaWplKpXnRTLHFCEkfE5NlO+SWEckgBfl73EpPwOiuTyRDHI5IICvQNDQkwT53AqHLycM0XkiRqBfgoFXbmVprneQd7pa+3R4k9yystlGDjX+6f5KtNDWLy8tQVsCGkBEldKhrRgOsWkySJoyqUSiWu71iacXB1dRXvarVarPT5+/vXq1eviEJHEEReXl5qaip+3NfXt7jDo9Fo/P39rZJb5O7uLpfLcckVOzu7Ei/hiN8rICDgypUr+Bph2UFYgEVCA2ln/L9q3fQJgsBB3+/36vb+hz0QRSEDjfQG5OiAGAYxLJJJom7cSU4xtfDr2rldhYtrEKTpo1Zqo5eenj5w4MCDBw+KupuXl9fkyZPFAMCyNQKWZbdu3YpT80wB746OPXv2nDdvXmBgYM0KZKgJQoOpl5vSuALRhiqOzv9cZbh4JXp25BpRZQgK9J01dcSnA95DHMerNRWP7bHKEZYgiYtJZXzBKwhyFgcCECg5OT36zj0JJWFZtm6dwMAAn5INGUnQ2SqNWVHrJo3qllJ36qnUCZlM1rRpUzEhouxLhSqVSsxtbtiwIeRNVAxSjmS+iNIgLl9ocfrM5TYCpaRkLF25Xexn6e/nlZ6RjesU7Dt06qfVv40d3f+JI0sSmRnZd+Ie4C2Zo6N965aNSr1EQBJiP3mJhKoXFoJQORl9xjWMYcZPHDR+yvBi4Q/8+X/Pt+v8KdYsFs2f0HfgxwgVc4gZmi/Qlm/NCEKr0UYu3iCqDAqFvEO75ssWfBneoiFSa3itziKrSBJ795/YtH0f9oAlEsrL0w1fzTAY6Ckzl7Zr07hBo3BUWtgtQaSnZx02K+7wxuttXZwdhW7ftlMZSOO6JvU2Lm22FHmzsrJmzpwp9oEPDAx89OgRPlDnzp374YcfzNOh8fft3Lnzn3/+iSM/S4xhFseJmNuFtwfmukMZf/WeQPFf3bx5s0+fPrg93tSpU8uo8W6JQMDz/Jw5c8QsBrlc3qFDh0WLFuEctLKvJplz+PDh5cuXi+EMwcHBWErIy8tbuXJly5YtX3rppSI7IjNdT17GHkYmk3l4eDw1715kjF9fgqQehU1YKjIdKDL2TsLj1Eye4wkChQT5B4f4l9ovhuNuxyXimy5ODqHBAYhleJpZ8/M84w78KYtHII79eeW2IaNmC1fClft2LGn0UiuEilkSg57XaKtoLnDJOqlMUurr8MhA02IRH5lUKpNJEEFwHCe3k1VE37RHlNOTuxXRQbp06YK7varV6hKTm8TBLJZNxWbHycn4joMFij//wIEDQ4YMwS+4dOnSXr16VWXul014eLizszMubKnT6dRqtYNDqW0+ExISRJcMh3cBVVj1CCE+XSq0Vq0MOr0hJSWDYVme512cHd3dXCiKNA0JguDz8vENbV5+bPwTwbdD22YkSVR4Z0QpKzpHTB9Sp1u8eLGoMjg4OPTu3XvWrFm4K5MlGsHff/8tqgwURTVr1mzy5Mm9e/euoRJDtRcaTKeZQjJPxOkRm1dzr7rn5Ob/uHyL2OywWePwtcu+btW2KS7M9h+MG+zsSl2NPwT5ooczIN58n1+uR7DnwImR402lvAZ81HPp91+K/XX+z951QDWRdeE3k0boHQRBFAEVBUUBXWzYXXXtfVexrb9d7F3W3gG7oGtbC5a1rWtDdBVF7AVsIAjSS+gtZeY/zAvPMUAIITSd73A4yWRmMnnlvvu+276dW+xnj16lpKajAy2aNS53T0iIkZbD4XDonofv378XCAT6+vplrruRkZEodLN58+YM0VDJnicASwOoGQIsBYgyASiq4e8vLBSePHvt7MVA+FZfT3vj6lkHj124//AFXFRWrtvX3sXBtUNrqVmey3n8NHz4uEWQwNLT0UqMvCVTShrpycKcvHsPX0i38Wo8++ZNgEQsX9rAKEdQWAQKi0oPNlSClyRBQUEhEOcoXxyOhQfefbzv0Fm0oE4YO9B3ywK2mhqZnaso8YpjUZ+++O49GVfiddylY9uJvw2aMW8jzB+RLshc6rX7uP86bR2t8nLLJyalIaLByFCvtYMdi8clRWLVi2Wpos8pVvS5hgBXr1aWQSQS7d279/79+/Cturq6t7f37t2779y5A7fEfn5+rq6uMG31V7WsY0dINIjFYlhnvsx2EIvFjx59ZWfMzc3l6OuKIDc3F5k6i4qKCgsLy0z8puBO48aNG/v370cEwZgxY/bt28fj8SqlqMXFxa1YsQIl23dwcFi/fv2ECRNgSaCwsDBfCkZGX4NfWrVq9XXRz8ws71dAfRRWzYQ5I6F4rxdpvaqHb6V+NVsHcI2BMKVyXIM633vPyQN/noPvRg/rc/LUjrLlEoaFv/2EUi1oa2lYNTKTcrhleRBICKKw8GspxNy8AlCQA8TVUHBdQlg3sVi+cJKkJD9XGc+OY89evLtyTWp+6NPzJ8dWtjglrlu3sq3YpQJ5UfFMAM5VTuy4ublBokEkEkFOsLyxDR0BIBo1alSe4wBEXl4e0mEKCgrKmwUqmR3NmjWje0zcv3+/b9++ZZ6Zk5MTERGBSMNmzZox6lJVJziuBnBe8W5OieGH4zGxCUtW70pLzxCLJb27d5gzfYyenjYGHaDQ2GCzXr35+ORZuFRot7QxMTGoxLCRxk1wAc4HStlf7969u3nzZsQyzJ07d+XKlVwuV8EBnJWVBQPuYAy1m5vbrl276Px4Pe1/dp0fnSRldTQFQgJIcuvjlrh4Nxj15fT5m/BtEyvzbes92zm3QhnOaodlYOsCjhGV8Jz80d0ZAKFgWeni/gLAxtrSyFAPpo67ePXusgWTyiAaMIwoLDpx5tqnaKk2adnQtIGpcfnxaRLKZ6e4LyDRwOfzoYPflStXhg8fXuZy+O7dO+QbzBANyvc+YAOuSbESJkoHRAEghDUzIwiCePT49aYdh9GRaZOH/zamf5PG5kPGLoAKcU5u3pJVvmePbzU01i/WJkUSx1a2Fg1NIWefkZVzPfDhwEE9yogO4HJPHLsUVhIRoKHOd25jr4iWLCfCWWGxXaE7AyjIybv34Hl2ttT7d+yIvpvXzmZzOECs8A4fA7nZeQePXrj932N4wEBfZ83yaT91cXkTFrHJ+zAUdbfuPNrjf2bpvAkAKyNDhVgkfvnmAyxcDwDo1sW5oZlx1R2hy9byMRbloKcL2HqU+RRU63IWGBjo7++PCmJNnTp1yJAhdnZ2PXr0SEpKAgDExsZu3brV1tYWOmRC9O7de8GCBUi8nDt3DtpSZEZCenr6vn374Fs1NTVYE6fC5UzBnpUz0hS8w4kTJ1CF4AEDBuzevRuyDIqvtoWFhdu2bXv+/Ll0+mho+Pj4uLu7L1myBLXP2bNnO3ToMHXqVKhHwrro6A5hYWH//fdf7969y5z4b9++fflSGuxjZ2cHXc1/+MrEOOAYAFIMRIJKcA0iceef2pwIuJpLkQWBd0PT45MNDPXKIBZJcsXaPeidiYlhEytzUP7evtRiTZYX+VjFjiMlkibWFqvWzZUr7thnjp1DRMPk8YMHDOsjjTIpLKqYGMWw4r0T1wSwNIGyhQZ79eq1evVq+Do0NPTmzZu9evUqPXnj4uIOHz6MJg7y91Z8+mMKZCZSDqamps2bN3/z5g0UMlu2bOnWrVuZzke7d+9G1KeOjg5TgFYV85sL2NpAkqegvi2z3BcWCV+8fh8TmwgASEpOHzPiZz19nW8mKQaKcvNv3A55+0HqtTRySC++Gq+SX4QXPyRLySRNmzZtQuSUh4fH0qVLuVyu4j5058+fRx7KzZo127Ztm4ODQ/11ZKBJ9rq+Taf+szQoD2et+rglFonEdNfcKR5Duru7AoKoZZaheMlRA6A6irjXN5Di4t2mAn1BJdiTNG5k7thSuupkZuas2+IfSwWu088ryC/wP3Lh7MVARNWvXDwFYOXo0JBQo7wq4AlWVlbIwTgtLQ2qvMS3mlNqaur+/fsfP5bustzd3Vu0aPHDq6pKc5oswNEFvIaA14AqBMAG1ezMTJJkSmrGynV709KlJtNOHdqMHzMAsHC3rq4zp45EXXk/5OWGbYeK9WYMAInE3NrSwtwE3Wf91kMPg5/JJgPDsVvX7m3YLk1rz8Lxzh3burRrCepIrlAMj/mSFFRCEDQ0M17s6aGppVmpNpeIJYF3Q/f4n0FHPGeMbefUAhQJly2c1NnNCR4sKCg6cOjc7buPQVkhvnn5BaiqJQDAsaWtoYEeULlkxvBi/Z5rAtQsAMewBliG6Ohob29vFPvQpk2b+fPnkyRpb2+PtgoAgNu3b//555+Q0IRo2bIlqjSRlJTk7e399OlTmZtnZmZu3rw5MlLKYbm6uqJL6gI+fPjw9u1btM/ZtWuXurp6ZVfbv//++8SJEyiL5IwZM9zd3QEA48eP79+/v5SlEos3btwYGhqKpLqdnR0Ko4uKitq1a1fpHHIkSb579279+vWFhYWod4yNjX/4VZikEr1zAde4eI5gCktgkahLx7ZoryjIyFqwfEdiQso3tW8wLL+g0Hv3Xxf/uVOyddQcMbinmp52uUEWNSkOqcS9IDdf3l9BXkHBVy+zgoIiMjdP+pFYUvHYLlahTYt3UFICRRnJ06ZNGxQrFB0dvWPHjvDwcJlzUlJStmzZgiRPz54927RpU2eGWHFfjxo1CqWQgPbn0vkX7ty5g1yiOBzOb7/9xphwVDDBi8ehtjTBf2X1K5I00NNxsJeW5vkcm3DtZnBRwTd+l0WFwoC/b+4vcW6yMDf5pV/Xsv09yxVBGMDVKA1QmaSVMTExyIWwSZMm8+bNq+zSc/ToUUhvcTicqVOnOjs7fwcsQ533aIB7MGl4jwbgmQFhChBn1mbmtsqjSCi6futhif6Pnb90++nzt2JJBb76hYXCUcN6jxrWR43HVSmzxAZsfcA1AhivupXd+iMBJZVYdwmikUWDjh1a3/7vMRQBx05djU9IneIx2LZpo0aWDfILCiOjvvx748GhYxcFGVloDzlyaK8KNjCkBAkUPT29cePG3bx5E9rlgoKCxo8fP3v27Hbt2llYWOTk5Lx79+748eOXLl1C+rSnpyfMPfbj+t9WVc3FAItHVbrRBOJcIMkGkrzq824gSXLbzmPBJSkMDQ10p00ZbmNjBcQSICEWzB53/8HzW1RlSolE8lfAvx07tBkyvA8oEgIMjBnRJ/Tpm5zcfADAk+fh0+dtnDRukEtbeytLMwDAl/jkW3ceHf7rcmSUVNtT1+CvXvw74HBIobBOjA0Mi4tPRmVfhSLR/GU7KIWArFAq7t2xtEnjhpSqkbhy3T6aM4LLryP7cblckiC0tDW3b5jXte/kPKq4fcyXxF0HTts2tbRAntIlyM8vgFWyYG1O26aWLD4PCEUqG1Q4B+DqgK1ZrLtgXKrEF3JwqK6OyM3NPXz4MMpQwGaz16xZY2ZmBrt+7Nixd+/eDQgIgENr9+7dbdu2HTBgABIda9eu7dq1K1R3QkNDJ0+ePGnSpM6dO5uZmcF68jt37rx27Zp03Boajh8/Hno01BGx8/z5c7TPIQhi7ty5ijjjcDichQsXuri4wIQRO3fuRD4R7dq1Q14MhoaGS5Ysef36dWxsLKy4uXHjxiNHjhgbG5Mkqa2tvWzZsnXr1sGTb9265eHhMXHiRFdXVyick5KSgoKCjh8/jnzL7ezshgwZIlM78Iekeks0PZxH6ScsIEqjxG9F9ncJYd7YvIe765m/b5IkKZEQR05cycjM+W10v2Y2Vg1MDLNy8mK+JB756/LfJelgMAxr367VxN8Gggor2nwf6xqMScE1qhKrRZIkh8NZtWoVSnofGBg4YcKE33//3dXV1czMTCAQREZG+vj43L4tbWczM7Px48ebmZnVEeEAn2HAgAHu7u4XLlyAlptNmzaFh4dPnjy5adOmGhoaycnJgYGBBw8ehBMcAODo6Dh//nxGs1LBBC9eZdUAWw9ICsvIdVKB4k0aG+m7tmuJnHrWbT1IEMSwQT0sGpqSJBkbl3T63A2fvSeTkqUeAf+bPMymiUUlOw4DbN3iJVupuInbt2+jtSYpKWn+/PkEUYF3pEQiMTc3nzVrlr29fWpq6vv37+EdJBLJ+fPn7969K/8O8OQ+ffpMmzaNIRpUxTWoA5558TokSq8x9+aqQywWI5WaIMmnL94+ffFWkQubNG44bGAPoCqioVjrVQNcQ8AxkOZTZVgGaa9Uxo+LBGwuZ+rEoS9ef7h09a5Uvvz3OPzdJy0tdXV1vkQiycnNT0kRFJSEd2pqqK9bNV1ToyJqs8SdDJ7WtWvXefPmrVixAgqasLCwpUuX6uvr8/l8sVicnZ2dkJCAZNC4ceO6dOkCA+yZtVD5VVC6A+QBDuXjRxQBcSaQ5AKiUMXkJoZdD3y4c/8pdGDIL90G93eXrhwkyddQ9960wLXbOJh+PDUtY9eB063sbWzsrEBB0W+j+r99H+Wz96SYCoV49ebjyrV7DQx0NdT5AJAFBUVJyWm5JVHHGIYt8fRo4WgHhKI6MjZIsTiRVrU+JTXjeuBDBa9NTklv0rhhQUHRVt+jKDDEQF9n7vQxjRqZQSsEKZE4OTZbu3L6vKXSgnCXrt51aWu/YPY4ehUYkgSp6ZmJSdInsbOxsmzYAJCqqDdBUhF/kF9gqVOlJWqCYoBb6/v372/cuBEdmTlzZteuXZFw0NLSWr58eUhICNSk09PTt27d2qpVKysrK/ir27dvv2nTpoULF8K7vXr1atWqVUZGRlDy5ObmIhUcw7CePXuOHTu2TmnhUVFRKBddQUEBTDmhyCZk2LBhLi4umZmZBw8eDA0NRcc3b95sZGSELEuurq5z5syBew+Yyu7w4cOenp5cLhfH8dmzZ3/48OHs2bOw8sWjR48iIiKg3IYRGSkpKSjvA5fLnTx5cufOnZltzLdcA+XXgPOAMBUQ+fJlb3G7iSXeG+dHRcfByvlwvoc+DdPW0uDzeSKROC+/IPZLEtoDmJoYrlg0haOpThYWfecsA86lUnEZU15UVcoIA32/3d3dV6xYAak0iUTy5MmTqKgoAwMDPp8vFApzcnJQJV0Mw4YOHQrdf+rO2IblM7Zu3RoeHg7TTBQUFJw5cyYkJERLS4vNZhcWFiYlJWVnf62UvGnTJiVcohiUS3tx9IAkD4gzKjsauXze0IE9bt0JhYXA09Iz127xP3T8oqGBHpfLiU9IiUtIyc6W1lfq36fT2OE/89R4lfBPxLBira94f6Tk5ohenygjI+PChQuKXGViYjJ06FB7e/vIyEgUrUMQBMoHXyHU1NQYokG1KxCHWoH4QJQGxDkAI+tEGXy5ci0vvwAlUasUKp0rtYLprV88hVga36i8DEDlokeK1xuCMDUz2bpublp65oNHUot0Ukp6Ukp66fPbu7Taus6zvXMrBYTdN8wlj8ebO3euiYnJ6tWr4eKdTkHmGnV19VmzZi1YsAAmdmagGjlT/MeRJh8mhZSDQy4VWyhUwcTBsPS0jN9nrROVJFZo3cpuxpSRaloaAIXaSiT2za23rpuL0o7evf90r3/AlrVzOVwOm8tet2pmQmLaybNSw3JWdm5Wdm7pr9LW1jy0e9WAvp1rLSNMWSgqEqL0jUrMVZIk/70VfODP8+jg2JE/9+zWHmm0JEniOP7bqP43bj+6UUJh7Nh9or2LQ7eurih4myAkr8M+optYN27YwNQQEITyrVQ8NtjSmqksLaqGHP4th1Xt7Z+cnLxkyRLk89+6deuJEyeiTI2wfZo3b758+fKpU6fCg/fv3//zzz8XL16soaFBkiSbzZ4+fXqDBg0WLlyYmJgIYyXQ3piu3MyYMWPFihUoBrWOTOKUlBQlrkJ5Fm7cuLFnz9dI/kWLFrVv355ukmWz2SNHjgwODkZ65JIlS9zd3Z2dnTEMMzIyWr9+fVpaGky6WZ7cpuam9pw5c2DqL2YbU0oCUwGeuBoQCYA4XU5Qd/F8F0samBmfOLS+9+AZ0Z+lSZGSktOSaGwmQgdXRz/f5fbNrUGR8HtWaciSXRNbW4WGJT6fv2jRInNz85UrV0KXnzKHt5aW1vz58+fNm8dms+vg2G7cuPGNGzeWLl168uRJeKTMCjtNmzY9ePBgp06dmHmpstkNazpwjQBRCIiCyineEqJZC+v5s377HBMf8yWJqj6bk5FZRtlR987tNv0xGxoeFB1+JAlY/OIHw5UvwycnQ6q8TXhJUOfnz59FdSS4VdXA69kYhXUo2DpAzQqomRWvQ9UXSo0BtZI8ImwWzuawlMtngBKeVVr14XBUIKBJoljxVbMAapbFL2CNCaae5TdNJKnMMKTS8kskNtaWNy7u8d+10szUqLyT/zdx2N9/be/YvjWbxVL8MaRfQS3qEydOvHLlikwRNYSGDRsePnx448aNsFIao62qTM583RnilIODAVBrBNStAa8hVail/PhhEtBjAjEMw9is0hN7685jqM6zlqb6r6N+dnBuBURiZHODLzzGDOjR9WvXX/jnTnDIC8BhkxKCx+Uc3u916/I+13Yty/sp3bq0e/ng1OAB3Xg8FWwFMQxDdeY5bBaHzVY6v4tYIslSViryuFyCIOYu2oqOuLZrOXncIDUNPrJdwP+GBrprlv8PhZ6lCzJPBPwrSMtAXUwQZFRJrlYAgFUjMxMTA2VitmHMM0sL8MyBelPAtwIcI2khbtTmVZ6YxUOJlmaCRUG2YcXi8+fP0+0q06dPh6UQ6Pmo2Gz2wIEDR48ejU5bu3YtZDPhCerq6qNHj75x40a3bt3K7gUe7+TJk9u2bdPV1VXJtGOz2SgKmsfjVWWsotwHlYWamlpqaqqfnx8yKzVv3nzKlCnq6up0fRdW2ZgyZUrDhg3RcS8vL4LKuwT3JxcvXjxx4oScBHItWrT4999/16xZQ8+BzwDIOJfhaoBnVix72boVaHoE0bSJxfP7J323LDTQL7dJl82fFHhpn31za0W8/zAcZ5dIPB6Xy8JZyk1b5EXF4bBYOK6s1MRwDKfNFxYGys9hiakBXgNpu2EsVYkgOLy1tLSmTp36zz//wDij0tDX1z979uzq1asVDAjicDhIsik99znFjcuSIQ3L1d+oopuHDx/28/NjlaObjRo16v79+506dcJxnNGsVKdsw0wNGoBrQm0/SbiW0RcCFgsvt+PEkgF9O9+6vH9wf/cylWpNDfVZU0cd3b/WvkXTyrEMGA64xsWLuFLZGaTkZlKSckMXjn+BQFBhqEWZoK9QdVSo150Czr1797558yaLxfrtt99Q0tryhwXFfBMFFOGdAQhRdZUKo208lBc3yl0F3YCV+FLUPrga5TinT4UHV3yTLl263Lt3j8Ph/P7777t3767jY7d79+5BQUFsNnvChAl+fn7K30iYBgpjAIZXdtGFZXvz8vIfPHr5/uPndx+iE5PSbKwtHVvatGhmbdvUUlNLHZCK9SBJALWGgGMs003IQhsdHf3kyZPQ0NAPHz7Y2tq2bdu2devWNjY2la3Zplp07NjxwYMHXC535syZ27dvrxcrnVAoPHDgwOzZs2HIyc6dOxXS9emyRVIIiDypjwNRBJBbFdUT2DeGa5IkZHsHjZyv5IT8QVLOmfAFQRCPn4a9efvp7YdPMV+STI0NHFva2jdrYt/CWk9XW/X0U5Xl4derqiAVv4ncLktOfp0U9G8pU6JiWCXk7TdLDFksV1ka1J+mtPJ2GaepSkMr48EU6YLS8kFOATm6Lg5HV2xs7OPHjx88eBAdHd20aVMnJydHR8dmzZpxOBxVDS2lf1qFv7SaWl7+s6FPs7Kynjx58vr16/fv34eFhXG5XAcHh5YU2rRpw+fzlW7A69evwzpETk5Oly9fNjc3r8siNzAwsGfPnjDV6L///gtLyldSmZEAcSYQZQBxdnmaHmrM3Nz8/4KfvY/4HPb2U25uvk1TSwd7mxbNm9g1bQRZYAVnzbdiilR0KZcv65QSm2VIM+o+JaOdKochbRaO1HcVV1PaA1zBh5FIJNHR0Y8fPw4ODo6Li2vWrJmTk5ODg4Otra3ijgwqkSFVWYkKCgpevnwZGhr65MkTsVjcpk0b+CtMTEzqCLnw/v17Nzc3gUCA4/jjx4/ppW3qICIiIjp16pScnAxT/JTNRsFhKUwhCxMARmAAU3wVRh89evLmddjHdx+j34RHCoXiFs2atGph3b2rSzN7G2izUZhiAIDEAM8M8EyqMl+qOJJVeHl4eHiHDh1ycnK4XG5oaCi9WH5tgV0vWTF61gaWOpDoS+kGIFF9EQUaEVMll1rlfytWuSUZtg/GA1yKYsB51af7lgmRSIRoOWiFQ4m4ZSZGUVERMrKVaaCrMZZV6X4hCUJDnd+rh1uvXh2lrtEkCQgSEETxLyQqpfiS5fG4GIY1oTBy5MjqWKcZVGqDDVhqxX8cA6qv86iAw7ziF0CCSVVSEk230r2DIZOdgtO8nDPhCxzH27d3bN+hDcBpw48kYYCA6odHleUh9q1KUYUpK68B5XyL7GNX2BFfJScmdXLB+V/JBYz9jcoCqsChVH4hwBSslaPYVTJDC0agWFEYMWJE9UkeVVWzqyZJqHgDyrSejo5ODwrVt8X6IQQv9GPlGBTrM0IBlTcnu7RWgwgyTU31fj936Yd3BXhJlChBSKWiErOmChJPJTep4D5fY/3YFMWgB1h8xIxUnyCCyQ6aUhgzZozSY1slU6AqKxGfz+9AgZmhNT2pucbFjStMpLTlb/KwyGl26TTHsPauDu3bty5We+A0p1RuICFIKheVoixD8XqNAZ5pFVmGqo/k2r2cIRrk6v10uoEwAOJsIMoCRCEARP2qTKGiNmFJlWC2DmBry1IMNdUa586de/36NRQHmpqaffr0KU3BkiT56dOnAwcOaGhocCh079691phakqjq9C7WY6o8+ct5DJWUpmdQLYxDsfDRpCoXAkCIAFFQLHwkBVQCMzG1jJGULKpmjo8gAZAACTM8VMqnYJQKAvBiVQawitV3nC/9j3PLoCG+u6ZmJE+1an5MA1Za5AIMcA2K/8TZxX+SHEAIYdoWOA2/Nql0RZZ87wIKL95l4eqUyqdVSuVjhAP4jjdv3wfXADA2KEoCZJHialKJ1l222qNor0nnCBdwTQDXEDDh5AzRUNEKRGW+wfmAywccAyDOK16BJNmAlFCbN+K7TXyIFhuMJU1dwdKipXsE0mSZNfvbMzMzN23ahN7ev3//zJkzMqkKc3JyZsyYcfPmTfi2QYMGjo6OtdeORB3pTkYe1WPGAedQaYS0pSOKKKIYh0Lqj1pEIftZPNhIJhVrXZOklLTEKWmJS9V3jEPRCjzKCVmNStsOfgR+gQGDuq7zsLWlVYEkuUCcDYgCStmTfP/mpa/8AqtYQLG1Kaa7VIZvRigxqC8aFEe/eCQLU4rnMimpuJytCpd7libgGhXvm5js+AzRoMiARTHSlP+YTvFf8SKUTzk25wNCDEjR98M4SH8Fi9rbUEnOcT5gqX+1s33ls7EafzRy2rRpISEhx48fR0SDv7//vHnz6ESjv78/Yhm0tLQWL17cu3fvH95XjSEa6jnj8HX2UY5FOF96hBABUki5PAgBKAISIQASqqgqUfyC/CHdr2pfhFKEAkaxtJCrxbnFfxgXYDzA4hS/KFvwAkaVZ8CgNoWtlNvlUUVk9QFRACQFJXWIxdSf5LuaoVKNjl2s7xWLKQ3KjZdfvEP75gRGKDGohwObTVVoEgmAKIMq7FWd6pBUPeMAti7gUqlMGJaBIRqU1/jhIgT0AFFUYl0soNR9inSod+uQdCFhSavuYVyKWeBLlWMZPbi2f9r27dtfvHgRFhYGAMjPz/fz83N1de3YsSP89NGjR6tWrZKOPzZ7yJAhTIkvOHwZefS9SSHk7AA4AGUgIYliEUSIihViIAaEsPiPpHgHqV1OUsKKMq2pIskJWCWcAkvq/4VRKjuUpTibkqssecwCQy4wYFDXZCw9eBboS5U9opAqRUwxDkT9tTBBR12o77GLtVmWhlStxdilNENGNDGonxMZkYZcU8DSBOIMijGsBroBfRFLA7D1AFuLqfTPEA0qHVg4D7C1patOsYpP8Q4kZByE0mjqOjjUIPcGVWGoFrP4lFrMkVWL68xiA1MzGBkZeXt7DxkyJCcnBwDw8ePH/fv329raGhsbZ2VlzZs3Lz8/H57fvHnzJUuWqKurM3l3fkB8/PixqKio8tOC5HK55ubmClbPqiukA9IdYclMFE8rpR4gvyCmPB0klH4sBoSYcnmQlJwA3zLrYvnSHlEJAEpOlpScLZaZePF6h7G+/pXLSjDMAoMfYcaQIpHo/fv3ymXs19TUtLKyKjPTc60xDrgaZaLUKbEniaS8g/Q1pezVcWYBY5WQC5SmB41JUiUQK0NSMTKKQVnIzs6Ojo5Wbnrq6OhYWlrW6BRGrg0sPpDkA3EW5YpeoCJzC6w/TdGRbB2Aq1MbKIakY4iG6liEMDZgsQGg/Jmh1g7/E0VSx+biI8IS5b7GtXn0kF+ZBQ61xvBoGjOrbLW4Lk0VqLV07dp1wYIFq1evhgcDAgK6du06efLkjRs3hoSEIHG2YsWKZs2aMSzDj6nmLly4MCkpqbJdTxCEnp7esmXLunTpUu9EkuyqKZ31lA8/oPxg6Y4PMK0DelH8v8QxWBp8UcJBfOUjCGlmlu+TSqBFOkjlIauEjWVJ/8OACIB/fV1e5drSQp6RQgx+JCQkJIwdO1ZDQ6OyF4rF4ubNm/v7+6upqdVFZQ9nU8qtjLInoTLmiAAQfWUiatnORHlxA3YJucABLLUSMxIUaFjZ8oqRVAzkIjQ0dO7cuUoYYwiC6NChg6+vb03PX7QDYmtT2f1FVPqVfGmiKyUm6VdLMxXHytaWei+Wt/ozYIgG1SxC38QgsL4eATRtvnhBEklXIykTIaLUehj4V3UlHnrEQZ2Y/dVrF+NI/3BKPwZo+4GVqxzX4XnCZrMnTZr06NGja9euQb1kx44dWVlZR44cQSdMmDChdNU0Bj8ICIJ4/PhxUlKSEtdqaWmlpqZ+b6KpNPtQvE8u61NponVC+gJml4QVLhD7AEpCMGAyCCkf8S15UctpKSlZKnXxQNEN36ZOQCEP0v/sEtmISQtTSV/jFWS9LfNnMnoGgx8bubm5MMJRCeTl5Ukkkvqm7GmWKHukVEhKfcdEJRyu+KsJSiXO22j7BD2tcLaUUIA5tjCuVLgBvCSxN14f9T0GdQ0pKSlv375V7lolmEeVzVy6VRjnSWeiJI+WV1skb2JKL+dQzk1UImeWRon5Fv/2HGY2MURDja5DWIm3bSlVHgCaEk/SwqeJry+Q0i9rq6Rpw8jChuElQcI4TUsuKdKuSIWI+jA9oIeCubn54sWLX758mZiYCAB49+6dl5dXXl4ePMfe3n7t2rV1IzUDI3FqjY1S+sJadtmtefbhG3kF/ZjKcv7HwTeyC/0n6UfQCwIQREnVlW+l2Vf+4tsbktR/TIb4wL5aJOCEIkuS0cKnhcIQFYyEzAL0E/5GBpZMRnQfmf8VCgpUaofhFBgwqFjSYFWR3nXdDxEr00jzrbKH00TcN4ofUVK2rMRZ7KtgJEqJU7qgw78lDihyQeqohpU4tWHy9D2GXGBQq1ObxWLV/pyVOjBSnp44r2R6SmgeSeISpQXQdlgcaZg5wGllpL6dVsycYoiGWlboZVT50vtQkiyl2FZ+Kyt/oNd/lx6YqQHDMDc3N09Pz0WLFsHjubm56JwjR45oamrWjaCJOtLaP5b4Y7FYEydOTEtLq+yFBEHo6ura2Ngw8qos2YW0WMUGF0ZWtHGv1lFd+WLv8sUjxvCGDBgoCmNj48mTJ3O53MpeKJFIrK2tlWaK6xDvQOc0S8e1KSkPq6bvMRshBlVGixYtJk6cqERkE0mStVpsvqxZAMkCjNqxwmpQrDInI6bATGfAEA11XJUv44SqjN1yojC+i/kA6QM2mz1mzJjg4ODLly/TP928eXPr1q3rzLPizGPUCry8vBiRU3Oyq0z5g2FVoAnqxc9kwIBB2TA0NPTz82MEZtmqWRknYCpU9BiBxqD64OjoePDgwe962irM3zFTrLaBM01QizPmR/iR5ubm7u7uMgdnz55N5yOYjvgxJyNWNTAShJE/DBgwqBXx+z0LYYwRtAwY5er74CMYMHsbBt873r9/f+nSJZmDq1atIkmSmQU0kMxkZMCAAQMGDBgwYMCAwfcBJnSCQTUiNzfX39//7t27Mse3bt3avXv33r1714mnxFjMY9QKkpKSxGJlCpuzWCxdXV0+n89MMQYMGDBQAiRJSiSSxMRE5QyYXC7X0NDwe07Ky4BBvUVBQUFaWppyU5vP5xsYGDBtyIAhGhjUdUgkkqtXr+7duxe+1dPTY7PZ6enpBEEAAKZNm3bv3r2GDRvWgR1+HVGVfjhfrxUrViQnJ1f2KoIg9PT0Zs6c2b59e2aWMWDAgIFySE5OVi5jnEQisbW13bx5M4/HY5qRAYO6hmfPnq1evVpdXb2yF5Ik6ezsvHr1aqYNGTBEA4M6DZIk3759u27dusLCQnhk1KhRzZo1W7VqVVZWFgAgOjp60aJFhw8frn1NhfFoqA1IJJJLly4pUXUCMu4DBw5kiAYGDBgwUBoCgSAwMFC5ayMjI9evX88QDQwY1EFER0cHBQUpd212djZDNDBgiIZqRHZ29uvXr2NjYzMyMrKzs7W1tY2MjPT19S0tLRs3bszhcFT+jQRBvH79OiAggM1mGxoaDhgwoEmTJvW9GXNycrZt2xYWFgbfNm/efPLkyU5OTq9fvz5y5IhEIgEAnDt3zs3NbcaMGfVph49hWVk5X+KSlMgxweNxbW2sQHkXlvMYJElGRUXFxsYmJycnJCTk5+cbGRmZmJg0aNDA1tZWT0+v/g4SJSxp6MLaLPVcChKJJCoqKjw8PD09XSAQ4DgOhYaxsbG1tXU1eSFmZ2fHxMQociaO440bN1bCuFG7AuTy5ctv374lSfKnn37q0aOH0qNFBsnJyampqZWdvwRBGBgYmJub13CiLIIgPn36FBYWJhAIMjMzJRKJEQVDQ0NbW1t9ff3q/nY4sJOSkrKysjIyMjQ1NW1tba2trZs0aaKrq1sfxU5ubu6FCxc+fPhAkqSTk9PAgQOrqUxjbm7up0+f4uPjk5OTExMTORyOCQUzMzN7e/u6EHRQlWfg8Xg1MBcCAwPj4uJIkmzVqlW7du3kn/z+/XuRSKTAGo7p6OhYWFhU64rw8ePHsLCw1NTUzMxMsVhsZGRkZmZmbGzcuHFjY2PjCls+MjIyLi4OjpysrCxTU1MTExNTU9MamPVK4OrVq6mpqQCA1hQqPJ8kyczMzHfv3qWkpCQmJgoEAk1NTVNTU2Nj46ZNm1Zr19CRmpr68uXLhISEzMzMwsJCPT09IyMjPT09GxubBg0aKDI7EhMTX758GR8fn5GRkZubq6WlZWFhYWxs3LBhw0aNGilROFZVqIqCVIuPTUdhYaGvr29+fj6O4/b29sOGDZNzslgsjoiIePv2LVwoWSyWIQUDA4NWrVpVq/JTUFAQExOjiOQhSbJRo0Y6Ojpy6KFPnz6lpKTk5uaKxWIDAwO4WNTBKc8QDcorVefOnfv777/fvXuXnJyck5OTn5/P5/P19PS0tbUNDAy6dOkyduxYOzs71W5yBALB7Nmz79+/D2s02NnZ1XeiQSKRnDlz5tixY2hbOHPmTLj8bNiwITQ0FBIQIpHIx8enbdu2tWyaxtgAwyqoz4/AYT8MfbXUa5c6X63y22NuUOARUCgsLX6oQoPsMsfGyZMnL168mJCQkJGRkZaWJhaLtbS09PX19fT0HBwcJk2a5ObmVqd23YovhCNHjlTCo4EkSW1tbSsrqzryQz58+HDo0KGQkJAvX75kZWVlZ2djGKarq6tDwc7Obvjw4T179tTS0lLt9z58+HDNmjWKnMnn8zdt2uTs7FyPBEhQUNC0adNycnIAAB4eHj/99JOqiIbTp0+fO3cOcp2Ko6io6Jdfflm6dGlNKmGRkZF79+598eJFVFRUdnZ2bm6uRCLRpQCH1rBhw/r06aOpqVkd356YmHj8+PHLly/HxcUJBILc3FzIzpiZmZmbm9vY2MyZM8fFxaXeSZ5//vnH09MzPT0dADB48OB+/fqpnGiADn1+fn4PHz7MyMgQCAQZGRk4jkO5bWRk1K1bt8mTJzdq1Kh2m8LAwGDkyJHKhU5YW1tX97pTWFi4adOm58+fEwQxffr0ComGyZMnw8DMCokGZ2dnHx+fanrssLAwHx+fDx8+REdHZ2Zm5uXlAQA0NDQMDQ319PT09fWnTZs2aNCg8kZddnb2iRMnzp8/n5iYmJGRkZ6eLhQKtbS09PT0dHV1HRwcJk6c6ObmVkd2g5BQW7Vq1efPnwEAnp6eFRINYrH47t27fn5+Hz58yMrKSktLy8vL4/F4cHaYmZmNGTNmxIgRGhoa1bo5PHDgwK1btz59+pSWlpaTk4MaWVNTs0GDBgMGDBg5cqSpqWl5d8jMzNy7d29wcHBERERqampOTg5BECwWy9jYGPZUv379fv/9dwMDg1op4tC0adMRI0YokceKJElHR8e6MK727du3dOlSuOj079+/PKKBJMmPHz/6+Pi8efMmJiYGLpQ4jsNVUltbu3nz5mPHju3Zs2d12IkBAO/evfPy8kpNTa2wo0UikZeXV79+/Up/lJSUdO7cuStXrkAjd35+PkEQcONpa2s7ePDggQMHqlyHrDmQdQa9evWC2w8PD4+a//aCggIvLy8zMzM5bcXj8aytrS9fviwSiVT41bNmzUJf0ahRo2vXrtVWF3Tu3Ll4K83hzJgxoyr3efPmDd3SPmTIEGhCJAiCJMnr16/TW3XgwIECgUCJb+nWrRsAgM1mT5kyRflnJYofi8x+SWY9I7OfV/wnDD+4e5Xy003yrox7Fn/1S5KQHVSvX78eMmSIfOFiYWGxYcMGuAeoebi5uUH+e968eUpcnpqamqQUUlNTCwsLlXvmoqKinTt3wtYbN25cZmZmVVogODi4Y8eO8k0fxsbGs2bNio+PV23j//HHH4obKP7991+ynoAgiIiIiKZNm6LnnzBhQlpamqruP336dOUm74gRI/Ly8mqsHe7cuePu7i5fdzExMZkwYYJy8lM+YmJiBg4cKF9PdXJyOnv2LFmv8PLly7Zt26KfMHjw4IKCAtV+RVFR0enTp1u0aCGHv+BwOF27dr169apyX3Ht2jXUBdDgr9xEE4vFiYmJyglhgUAAF/7iplAAAFigSURBVPQKcevWLfi0LVu2jI2NVfwJb9y4gXZ606dPl39ybm6u4nO5U6dO1TTAzp49Sx9gZaJBgwazZs1KT08vfXlYWNjw4cPl2DwBAA0bNtywYUNOTk4dmVPnz59HWsqiRYvknywUChcuXCifYjMyMvr5558rNVQqhfT09NGjR8tvZF1d3TZt2oSHh5d5h48fP1YoHjU0NHr27Pn06VMFp0l5ePfuHTRo4zj+9OlTBa8qLCxUempXRSn6+PGjiYkJbIHQ0FCl73P37t0GDRqgxuzXr195Z96+fdve3l7+jLOysvLw8JBIJNUxnP766y9tbW0FJc/+/ftL3yE2NnbMmDFyDAZ6enoLFixISUlR5HnCwsLgfORyuS9evKgLIoIhGqTYs2ePgmPF1NT03bt3VZQdCAEBAXSa7TsgGoRCYceOHenEamBgINJs4It58+bRVa41a9bUGtFAEiRBkLnhChMNYYf3eSltwyfF5RANOWEkIaY/VnJy8oQJExS5rbq6+okTJ+oX0UBQqPqOtHaJhk+fPnXv3l3B3t+wYYNqtzRjxoxR8Ks1NDRqUaoowfmOHDmS/vyqJRpmzZqlnCV2zJgxNUY0VGporV+/XigUqvDbMzIyhgwZIvMtOjo6pTWhn376KSIior4MrdTU1ClTptCff8iQISonGp4/f25oaKhIx3Xu3DksLKy2iIYag3JEQ25u7oABA1BbzZw5U/75r1+/Vnwuu7u7V8cvffz4sZ2dnSIPUKbekpOTM3bsWIW8MDEsICBAtRYv5ZCVlQXVAIjFixfLP//gwYMKit/hw4erSs2WgYeHh4LP0KZNm/z8/NIj85dfflFwpNnY2FTRmFFZoqEWlStVEQ3p6elOTk700d6/f/8yz/zy5Qudj5BvJ1Zuo1Eh1q1bp3hohr+/f+lV6bffflPk2jVr1ihiU6yDRAMTOlGM169fHz16NDs7Gx3x9PR0dXVt2bIln89//Pixr6/vo0ePkIvL4sWLAwICqu7KGxsbO2XKFEVie+oRtmzZEhwcjFbToUOHQo2ZJEkMw+B/Ly+vy5cvR0ZGQm+iY8eOubm5QeKgxoEBQAKMA0ChQqcTpImRgW3TRiwWLt/YiGFAKBR/iUsqLJLGSri1dwRlO3aSMnETYrH4ypUrhw8fRkf69Okzc+ZMaCWLiooKCAjYt28f/Cg/P3/t2rWtKNSXQaISZ8Ja8Uiku/WeO3fu9u3b6EjXrl0HDRrk5ORkZWX15cuXs2fP0r1zvby82rdv7+7urkKpBV/w+fx+/frJESNqamrm5ub1ZWwcPXo0ICCg+u5vaWnZokULRUInoJJH9zOvsTwXu3fvpg+tdu3ajR8/3sHBwcrKKi4u7vTp04cOHcrPz4efLl++vEePHqqKYhCLxfv37//777/Rkf79+8+cOdPBwYHH46WkpKxdu/bkyZPwo5CQkD///HPDhg11f1yJxeKLFy/6+/tX67dkZWWtWLECRYRxOJy5c+cOHTrU0tISBqWvWbPm1atX8NN79+7t3bt3y5Yt1eolXh+RnJy8YsUKxKcogk+fPiEHLmdnZ2Nj4/LCKGDoRHV4By9atOjDhw/oW3766afffvutbdu2ZmZmCQkJR44cOXr0KPS8EIvFR44cGTduHN0q8+eff547dw69dXV19fLysra2VldX//Tp0+nTpw8cOAB/FEmSU6dOdXFxadSoUS2ug3FxcZ6enkg3rhBRUVEzZsxAstfS0nLBggU9evTQ1tZOT08PCgpaunQpSh9+7dq1LVu2LF68WLXPfOHChX/++Qc9g4aGxpIlS9q0aWNnZycSia5fv759+/b4+Hj46YsXL5YuXSoTZePr63vjxg26x+Ls2bOdnZ2bN2+en58fFBTk7e0dEREBP42IiNi6deu6desY5UpxLFy4EAlJ+Zg7d25iYiJ9Xk+ZMsXBwcHIyCghIWHv3r1nz56FqlFRUdGBAwfc3d3pM04liIiIKCgogK8HDRokJ/2TUCiku2oihef48ePobatWrX799dcuXbqYmpo+efLEx8fnwYMH8KNVq1a5uLj07Nmz/hUVZjwaSJJEJRghTp06JRKJJBIJogazsrImTZoko09U/Xs7deok0x313aMhMzOT7qDh7OwMgyZK06X37t2j//Dp06dX1rKkIo8GKnQiP5rMeqqQR0P2c0nmM5HgSYV/ZMHr00c2mZpIEwE2smiQHnOn7HtmPSXzPtE9GhISEnr06IEaZ9asWdA7miiBUCiU2YydPn26Hnk01CJU5dEQGxtLd5EdOnRoQkICQYNYLL59+zadjty9e7cKLc+QtMZxfPjw4SRJiuWimkxDKgd9Y19NHg0SiUSkACQSyYkTJ+gm0DJdnasDHz9+hKIYolu3bjANJBpa0F2ZHui3efNmFboz0F2Chw4dmpycTBfdYrHY09MTndClS5dPnz7V/aH16tWr0qlzVevRQBDE8+fP0c21tLT++usvZB4kCEIikWRnZ48ePRqd4+TkpITR6fvzaCAIIjo6+sqVK1u2bOnXr19pp/QKPRq2bNkCzzQ3N4dJZOXIw+pwor59+7alpSXdXUUoFKIJC/9fuHCBHvZvb2+PLo+Pj6d7cIwaNSovL0/m8j///JPueHv48OFq8gYvD2KxODIy8uLFixs3buzevXtpY5t8j4aFCxfSTf0vX76kzw64qtJTzHbt2lXlP2HQoEHo/lwuF1rd6aI1Pj6+WbNm6Bxzc3MZ8di3b1+6nRw6ONPv8OXLF5ndbHR0dI15NNQuqu7RcPToURmPsPI8GhISEpCTHYZhP//8M3Q5pPfF8ePHUQgbn8+vDqcGpKu3bdsWro+KS57IyEi662KTJk0SExPpe8/Y2NjBgwfTxUJ2dna982jAGe48PT09JCQEvT1y5MiIESPYbDaO4xgFmHxuyZIldNkRFRVVxe9du3YtYoLrH0FVDmmlo6ND30o9fvzY0NCwNMOHYZhMkOSePXvU1NSUKOWgGuCVyKuE4xibzargT4379s2Hbb5Hk5LT4VU3Lu7V19Mp9wfiHMq3Qorc3FxE6DZp0sTDw0NPTw86g0CmmcPh9OnTZ/bs2eiS8PBwZOFkUAOIjIx89uwZfN2jR4/t27dDFz7URywWq2vXrtu3b0eXfPjwATLfMkpwedZ1uCuWWaLgRykpKdC0BRMyw6+Tg9o1UCgIkUiE1lQ5IhFtd+k0SnlnlmZbcBxnK4D3798jN2Z7e/v9+/fr6+vXjIB6TAG+dnBwuHDhgo6ODlYCtEP28PBAb58+fSrnJ1dqaB06dAjZZ3r06LFnzx5jY2P0KYZhOI4vXboU3SoxMfHLly91fGhlZGQsXrw4IyODPkMVGVrl9bhMA6LN0osXL+gcDT0CBTadlpbWxo0bURbxjx8/IvPpjwyRSDRq1KgBAwYsWrTo6tWraAQqjvfv36Pdo7W1tXyRWB0a1+XLl9FEsLe3v3nzJjS6oMEGd7kjR45EeRyjo6MTEhJKzyMOh7NhwwboP0Ufqx4eHsOHD0dvQ0JCalhlysrKGjJkyKBBg5YuXXr79m3kfaAgkK8rn88fO3aso6Mj1GrgzyRJ0sLC4tChQ+h8gUBQdU2bjo8fP6JxAgC4f/++i4sL0qzgM5iZme3btw/N0MzMTCg3UJu/ffsWvX3w4AFkJeh3aNiw4cqVKxs2bIhOu3PnDjPHFcG7d+98fHygR1iF4S0nTpwoKipCJObVq1fV1dVlevPXX3/18PCA5xQUFLx8+VK1D1xQUACzvUJnBAzD5GtiMpInKCgIuS5qaGhcvHjRxMSE/vwWFhbTp09H4SGnT5/Oysqqd93KhE6A9PT02NhY+NrQ0LB79+44jiPxhwR906ZNmzRpggRleHi4IlV8ysPdu3d37NgBXXoaN27cpk0buqtqPUV52pvim5xa2w5hKp0IOCZIzVi5dt/TF1Lz7HH/dbZNLemDSkZrlXmAjIwMWCwKAODi4gL93mUGpLa2dseOHZFxPjIysqCgoH6VMKzXajHyjQQA9O7dG2a3ovcR3NO2aNGCy+UKhULoYpefn6+trZ2cnHzgwAF4pkQiad68+YgRI0ovqyKRKCAgICoqis/ns1isxo0bu7u7Q6tsZGQk3F2zWCy6+aVaaUSRSJSWlgb3S9ra2kpktJYPT09PqAVqamr26dPnv//+Q7NABvfu3QsMDORwOCRJcjicn3/+uU2bNqVPS0hIOHr0KEmSsBSfu7u7o6OjItG5mZmZKDW0oaHhsmXLbG1ty5+/KsaXL1+QBj916lTYzjJDC8MwV1dXc3PzuLg4AAAypGdkZPj6+kI1RSgUOjs79+rVq7RYyMvLu379+ps3bzQ0NNhstpmZ2YABA6AD/+bNm+E5mpqav/zyi4mJicwPxzBMW1t7ypQpJ0+e5HA4YrFYIBBUfUJlZWXBmHMdHR11dXUVNrVQKNy/fz9MQqymptahQ4eEhATk4k6HRCIJDQ29evUqj8eD+YY8PDxsbGxKP0xkZOS///6bk5OjpqaG47ibm5uLi4sM0WBjY8Pn80sPGz09vb59+0J/mdzc3KSkJEaiwt11VS5HtbT5fL5KKjLAfDGZmZlw86CnpyfnCWE9S7Tt9/LygkNIZtoCAObMmXP69Onk5GRY6ezNmzfQNSkxMREpol26dIEb3dKzvm3btqdOnYJGhUqlpVCVjleVEi2ID9XW1oZ2YBnBAgCgu3Xk5OTExMTIr8JGkmReXh4s9sRisfT19eU84adPn2AlI0gGIZZB5hk6d+6srq4OxRpBEG/fvkV5KMLCwlBV6TFjxrRu3brMO/Tq1cva2hoKZyifFUy59SMjLy9v3bp1UISyWKyZM2fu3LlTDpX24sULaKThcDgTJ05EAdoyfTFw4MCDBw/CIypndePj4xHR0KJFi0pdm5mZiYxVMJGqzFoDX7u4uHTr1g35V965c2fMmDH1q9IcQzQUD26kJ3Xq1ElGq/tm/0jjoipbHY2OxMTE2bNnZ2ZmQp3j4sWL27ZtYzqiVjkSbvFuX0UgxJKDRy/8fSUIvp00btCIwT0r0JuLH+DrCQoaCuhh+fLXVwaqhUQiQZGB6urqUBMqc5GDO2FINCChoaamdujQIWS/MjIy4vF4pdPv3b9/f9y4cejtlClTYHwZVJiQR4OtrW3N/OpHjx516dIFqom7d+9WMIORgggICNizZw9yd1q7dq2canY5OTnr169Hb0NDQ/ft2yeThyInJ2fz5s27du1CRy5cuEBPMSUH06ZNg9Xa2Gz2yJEjx4wZU2MsA8wJh946OzuX3t4gG2BpUSAUCq9evYrUFw0NjfPnz/fu3VvmK+7duzdy5EjkCTJt2rSff/4ZeuohcsfW1nbgwIFlroZcLnfjxo2///47juM8Hq/qde9fvnw5ceJEuFfcsWPH9OnTeTyeqpr03r17y5Ytg69HjRo1dOhQugv3N/oQm52UlLRp0yak3T579uz48eNGRkb0RsjNzd2xY8f+/fvRERSzTXcrkzFof10gCAIZ4iChU1p6/HArMIY1atQoISEBjXYcxxMTE6GapAg+fvwI9yeQc6x6e0K/6//9738wDv+ff/6Rk9lBIBDQu75nz56lux6+bdSoEfqNBEF8+PABTs+ioiL56z68nK55Ghsb13A34TjeuHFjeoQsjuNxcXF0kSVHXeFwOBWmJKNPDS6XK782BOwmb2/vVatWwTCH//77D/qzlInU1FR0fyjxylP16X4o9DanF+Tu379/me5RcOxZWlriOA5lbM1TQvUOJEn6+fmdOXMGvl21apWzs/OuXbvkEA2fP3+GzctmsyETVOHGTeVISEhA9W6aN29eqWtTU1PpA8PNza3MxH/a2tp0ru3kyZMjR46sX0QDEzpRrA3Y2Ni0bdvWwcHBxcWlPP3mMwX0VmkrYmFh4YoVK8LDw+GiuHHjRgcHB7FYzHRErc4Dap+vEi9EDHsY+srviNQ/pZFFg+ULJnF53HLFJTxeErsBTzM2NkZy5Pnz5zBrpgzS0tLo6eKaNGmicgszAzmAJc3btWvXvXt36CRZpsIRERGBCG9ra2u4kOjq6p49exZF26ampvr6+iI7CURSUhLUcSG6du26aNEiTU1NOEI+fvwItR8cx21sbKB+lpqaGhsbm5iYCIN7Va4HQLoEugvS1cGqIzw8fMaMGfC1jY0NdPcob8pgGNavX7/ly5ejI1euXDl58iR6PKjBBwYGIpaBxWJt2rQJOilU6GwcEBBw/vx5tNneunVrTY4rkUhkZGTUqlUrV1fXFi1awHjXMp/5xYsX0C4Ks6PDF6amprt370baeV5e3rZt22SGVnR09Lp169AI6dChw9KlS+FovHv3LmpkR0dHGHMOi6VlUICNjGGYgYFBu3btnJyc7O3ttbW1q+jCLRKJkLc8rFyrqvaMioqCxi4AgKOj48KFC42MjMpccOGX9uvXb/Xq1ejgzZs3T548Sd9pkCR56dKlY8eOoSPr16/v0aMH9PRp2bIlOv7q1avSGzCSJD9//nz//n34tkGDBkZGRrWefa3WwWaz/f39Hz9+/LAEr1+/Hj16tILsOaw8D2c6DCUjCCIrKysuLu7Lly8ZGRlyomDkSDy0K87Ly5OvpGVmZqIBrKGhgQR1acjcB3kbmZqaIsLu8ePHnz9/Ln2HvLy80NBQxGhAV+2a7CZtbe1jx47Ru+nNmzd9+/atcC8HCXfkAZ6Tk4Myd5QWv+i1lpYWPe1FmYApqxADKN8EyOfzoZ7v5OQkxyU5JCQENTKLxaJXEqHTSVZWVmW2PzxIH3JyKhcygAgKCtq1axecHV27dvX09Kxw7hsbG7u4uLi6urq4uMghuwMDA9Fr6BCqwvUlLi4OEQ3Q5CMSiQQCwZcvX+Lj47Ozs+UMyKSkJOSKaGdnZ2VlVfrZ4NuWLVvCZQLy5irX7qpdvDPju1mzZn5+fjCzgKamZpnO5zk5OQEBAYh8MjQ0lO/NJUfaHj58+Pz583CgjBo1aurUqd9Z1Yn6Bwwr3udjbEBKqnwrkJYq2Hfw3KcoqbF6sadHQ3OTCigMjANwTvFjlJylo6Pj7u4O5ePHjx99fX3V1dVbtWoFJS9JkmlpaceOHUNlKTQ0NBwcHFTiL8pAEfB4vClTpgwfPhy6kpZpdZFIJE+ePPnrr7/QkdatW0PvdJIkXV1dl1JAi8fBgweXL18OmQiJRLJq1SpEMDVo0GD27NlNmzZFZrr3799DGaKhoZGcnHzhwoWkpKSYmJjk5GQtLS0rKytTU1M7OztXV9eqF8eR0Z8gu6FCK4FAIJg/fz50K9PS0lq/fr2FhYUcExCMSZk7d+6DBw/Qxnjnzp3t27fv2LEjfMjo6Gi61XrgwIG//fYbDLWQr5rHxsauWbMGymQcx1esWFGm93s1gSRJLpc7ZcqUESNGwI1rmYUSoYv+lStX0NpBr+zTtm3btWvXzps3DyptgYGBf/311/z58+FIKCws9Pf3R2mJjIyMVq1ahbS0oKAgtKNo3749AODt27cvXrz48uVLeno6QRBmZmYmJiYNGjRwcnKi51asYvvAH6uSW8ks3J6entB1SFdXd9asWS1atCgvXhp6p6upqY0fPz4kJAQ5KSxfvtzNzQ1Zs8PDw729vdF+o0+fPtOmTYPhljiOOzs7IzPm1atX9+zZM2nSJENDQ/ijCIJ49erVH3/8gRgiJyen0nnIf8hFGONTkCFzFZQzSFSyWCwdHZ1bt25FRETExcXFxMQQBGFubm5hYWFmZtahQwd65HylJJ78YamhodG3b19bW1sMwxo0aCAnD0hQUBCinlksFsoobGVlZWNjAyN6srOzV65c6eXl5eDggLZbAoHgwIED//zzD7pVt27dapJogOJFnQL9uI6ODhrz8jFkyBDI2+bn5+/fv79Nmzbdu3dHm/DCwsKHDx8i5yMWi+Xo6FhhpVh6U1fYTQMGDOjSpQvc+5XnK5GQkODn54coQltbW5TdkCAIZ2fn0aNHc7nc/Px8uDMsT/LAjKSIzGXmuBxER0dv2bIlOjoaajsbNmzQ0tKqkA44evQolMMYhpXn3XPv3r0LFy6gSap40WgFERMTg+oVFhQUBAQEJCUlxcbGxsXFsdnsxo0bm5mZNWnSxNXVVVdXV2ZwxsfHI4NN+/btYRrUMt2gbGxszM3NobNhfn5+VRzqGaKhFkCSJJvNNjAwkDleUFCQkpJCkmRSUlJ8fPyDBw+OHDmCUsIsW7aMnhpXcQQHB/v4+MBkHq1bt0bRsAxqXc8BGA+QVU2mKBKK/7kRfPKsNCW4e+d2/fp04qhxSbFE3vqHcaS+RRiJUQEUxsbG06ZNe/LkCRwqZ8+eTUxM/Pnnn5s0aUKSZHZ2dnBw8N9//40E8cSJE6Gf+Q/uf1u7+hZMgww1woSEhE+fPp04ceLhw4dI1ejevTt9rztr1qyQkJDLly/DE/z9/du3bw+t7mfOnEF1+Ph8/oQJE+iZh+lEg0QimTp1Kt23BcHGxmbUqFFjx45VsLR7rUAikWzbti0oKAgO5unTpw8bNkyR3aahoeEff/wxevRo2OZxcXE7duyws7MzNjYWCoWrVq1C5e5sbW3nzJljZmZW4ewgCGLjxo0oer9bt26wQEANa/MaFGTGW3x8PKx/FB8fHxkZeezYMRTw3Lx5c5giDm6VORzOqFGjgoODkRvqpk2bOnbs2KlTJwzDgoKCUIJSHo/n6elJJylQigE1NTU+n//nn38ePXr0/v37Mjpfo0aNBgwYMGLEiA4dOtTliC1vb284vzgczujRo2VKR5W3sbSyspo7d+779++hJ0h+fr6np+fVq1d1dHSys7P37duHIlMaN268Zs0aRLhgGObk5DRx4kQYEpyZmbl58+ZXr1517tzZwMCAIIi4uLhLly6hTE/6+vqjR4+u0Gb7w0Jxwx3KWSMWi8+ePRsWFkZ3cYfgcrmDBw8eO3Zs7969VUvKwwyCXl5eFZ6ZkZGxd+9elM6Nz+ejuG5zc/ORI0eGhobC7cSVK1cEAkGvXr1sbW1xHM/KygoJCblw4QKKJRkzZoybm1tNiqbyvkuRboLXzpkz5+rVqzCZYnJy8owZM0aMGNG6dWs+n19YWBgeHn7q1KmUlBR4iZ2dHUx3rSqtBtKIdOYdirWcnJyMjAyRSJRA4cKFC+fOnYM/isvlwm6FZ+I4Po5Chd+1c+dOtADBbSQznctDbm7u3r17b968CWfEypUrIasrn2iASfrpRVhg5KBAIBAKhRkZGQkJCVFRUT4+PsgVvVWrVjBThgpnTWxsLIx40tDQWLx48e3bt0u7PhkbGw8dOnT8+PHt2rVDrsoikSg9PZ1+jpxoQR0dHbpKkJWVVb8qIv/oREN5A+7OnTs+Pj44jqempiZSgMcNDAw8KCihXcXGxm7fvh1GEurp6W3durUeFbf//okGFg8QefRECUogPjFl7Wbp/lBLU/13jyGWFg2ARP4yTFJxE7j0MSgBymKxevfuvW3btu3bt8P0eMEUYGK2PApIUxk6dOisWbPKZEMZ1KTQyMrKWrRoURaF5OTkhIQE2E0YhnXp0uWPP/6QcYPS0NBYs2ZNeHg41EiSk5N9fX2dnJwKCwuR8zaO4126dFm0aBFd35JIJCitTHp6epksA8w9uXbt2uDg4JUrV7q7u9fNxjx37pyfnx+0zPfs2ROZs+S3P2yKDh06eHp6Ll68GCqFFy9e7Nat28yZM09SgCfr6upOnz6dXi1SDm7cuHHx4kVoLlBTU4Opc2qSvJPjiDtp0iQWi5WTk5OUlBQXF4f8tLt167Zy5UqZlI1GRkZz584NpwA1uYULF16/fr2wsNDT0xP5QfTu3XvChAl08gvlDcnLyzt8+PDLly/pGdcRYmJidu/efefOnekU6ubQunTp0o4dO2ADuri4rFmzRnEasU+fPpMnT960aROcwg8ePPDx8Vm9evWNGzf8/PyQ7F26dCnM+oEaUF1dfeXKlRiGnT9/XiAQZGZmnj59+tKlSzC6BG2iAAAmJiYrVqyAxfYYgriKQIkYRSIR8nKSAawJHRoaOmrUqHXr1tV8kHNSUtLatWuvX7+OduZTpkyBuws4AIYOHUoQxKZNm96/f0+S5AMKxsbGGIbl5uaiRR/DsGHDhq1Zs6Z++TCSJGlubr5nzx4fH59Lly5Bi663tzdM/gqDs9APbN269erVqx0cHFSo1ZS+D4ZhRUVFAQEBp06dwnE8JSUlPj4era2NGzeePXs2TE6JMi7J3KT0kaKiolOnTvn6+iKP+o4dOzJEQ3kQi8VXrlxBQY4jRowYNWqUIturMkdFbGzspk2bYmNj8/LykpOTY2Nj0WLXv3//hQsXGhgYqFbYIkIzLy8POcHJICUlZd++fcHBwcuWLRsxYgT00oKljtE5WlpaciQSn8+n0xApKSn04tYM0VBfERERUWYImYWFRf/+/SvMT1MaeXl5R48eheIVVhuGum+tFXRkIAO8qvkgRSJxwPmbUZ+leYb79+ncq/tPAMdIMSFXrlFEw7dJBKFVc+DAgdevX6dXY0IOtwgGBgaDBg2CUfqMtlq7yM/Pv379eukM/DweD6aAoZezgS9atmy5fPlyFEN+69atY8eOBQcHo5IWpqamGzdu1NHRoXduTEyMjO8ch8Oxt7d3dHTk8XhRUVGPHj1CWs6dO3cEAsGNGzeQ/2fdwevXr729vSGvb2pqun37drgfq3AYI9P9r7/+GhISgkr2eHl5wf0bfMtisfr27Tt16lRFZkdeXt6xY8dQCYAZM2bQq6/VOspTYtpSKJ2dvkOHDtOmTVu2bBnUZp48eeLr65uYmAiZbmgwXLBgAb2qP2wE+CI3NxeFGOA4bm1tbWlpmZycHB4ejtas8PDwLVu2NG3aFOUorTuIjIz08vKCpmNtbe3t27fDQssKDi0Mw2bOnBkcHIya3dvb29raes2aNchgNWbMmOHDh7NYLJlJbWFhMXbs2JCQECQKCiiU1iV++eUXDQ0NRm5XHcjDC8HU1BQWbBIIBA8fPoyLi4Pj9vPnz76+vpaWltOmTatWflBmO/ro0aOtW7deuXIFjR83NzcoqeAAIEmSz+cPGDDgxo0bERER6DQ6OQWhpqY2fPjwJk2aoLFaL/oIPm3Xrl0jIyORJgwJepmKfRiGubm5wUy01f0DxWLxy5cvywynatGixYABA+iNXCZVQX8bHx/v6+t76NAhNPfV1dV37NgBc3Yw07z0vHj//v3cuXNhBEG7du3mzp1Lj8irLDIyMm7cuIGKfdC7qWPHjioPYElPT6eTBRA2NjZt2rQxMjKKjY19+vQpslK/efNm9uzZLSnAgUe/VltbW05RGw0NDbonTmmZwBAN9RLlcUsfP34cNWqUj48P1DAUvBtBEEFBQX/88Qd8O3z48HHjxjER9XVqEQRYVUPZU9IEm3ZIkyZYNjQdO7KvvrE+EIkrXl1wnownBYZhUVFR0Agp/9Lk5OQFCxYkJSVNmDCBqW1Z64pUmZO6qKjIz88vLS1t/fr1yIkJqi8sFmvQoEGPHj1CZtLNmzcjrYvNZv/xxx+lc1Z9/vwZ8fQYhrVv397X19fIyEhTUxPHcaFQ+Pr1ay8vr9DQUKh8v3r1ytPTExn56wgyMjJ2794dGhoK327duhVmcauUNmZqajp79uy3b99CPk4gEMyaNQstwxYWFmvXrlVTU1NEybt27RrKUGBmZrZgwYJ6Mer8/f0jIiIOHTqECr8jzdjDw+PBgwenTp1CW2WUNU1HR+d///tfp06d6Kq8UCgs3Urt2rVbsWJFq1atYJXW3NxcPz8/WB8Ecl47d+5s3rx51QtPqHbzMH/+fFQyff369a6urpXdEenq6q5duzY8PByqrVlZWZ6ensh+5eLigvzI6BeKxeJr167NmjWrNClcmmWbPHny6tWrUeU8BkojLCwM8V+6urobNmzo3bs3n89XU1MTiUQZGRmHDx9G47+goMDb29vZ2VlOXRsVQiAQ7Nq1y9/fPyEhAT2klZXVnj176PtPuOgvW7bs33//lR+DXVRUNHPmzPj4+OnTp9cvNRLDsGXLlh05cqRChfnMmTPp6ek14PYrp2BncHBw3759jx07pog/gkgkunbt2vr161++fElPS+zj49O2bVuGZSgThYWFs2fPhuu1iYnJnDlzoLajdHOVp4ORJOnr6/v8+fODBw9qaWmp6vlTUlLoZXGsrKwOHjxoZWWlqakJl8vPnz/7+Pj8/fffcEikpqZOmjTpv//+U1NTk0gk9FTBWlpacvw4eDwe/VPVpuJmiIZaQ48ePbZs2SIUChMTEz98+BASEgJNPfkUfv31VxMTE8W9kb98+bJ48WK4eNjY2MyZMwdm32WkTx0CjF8gSaBsj+zxO5OZJRUcnX5q83OvjkAsqaiLSWl6iG+JhpSUlIULFyI7LfTiGz16dMuWLdXV1aOjo+/cuQNjj0Ui0efPn+fOnWtpaUkvQM2g5mFgYLBmzZqsrCzogfn48WOYogwWLDx69KiamtrGjRtlCHs9Pb2pU6c+efIEhsfTPdUHDx48efLk0oIiOTkZ2bv69u179OhRmYxZJiYmrq6u3bt3R8HkQUFB9+/fhxvLugCSJM+cOYOqW0+bNm3AgAGVSjCJttNdunSZMGGCl5cXNBojlkFTU3PDhg1ySp3JsB4XL15E165evdrY2LhOyee9e/fm5uampqbGx8c/efIE+bxkZmZevHiRJMmLFy/SGweaQZYuXfrq1SsYFI3UGgzD3N3dZ82aJTO0ZOyKMJjlyJEjMLkdOrh582YLC4slS5bAt7dv3w4MDKxTVeK9vb1RpvGhQ4fC6i1K9Kazs/PcuXNXrlwJhxZiGQwMDP73v/85OjrK3JYkyZCQkEGDBtGt6z179uzbt6+1tXVOTs6nT58OHjwI41OEQiH0mty9e3eNVaj9XoG6RkND48SJE3379qX3tbGx8bp166ysrGbMmAG7JiIiwtvbG5Wmrz7C68aNGytXrnzz5g09crtbt2779++HSUDRcyYnJ69cuZJec0FXV3fmzJl2dnba2toxMTG3bt26cuUK3IenpKR4enpaW1vDCov1pZvWrVu3fft2tA/X0tLq379/jx49DA0N09PTnz175u/vDz9NSUk5ffo0QRCnT5+u1kficrkjR440NTUtLCxMTEx89uzZmzdvII8PXS2GDh3633//ycnYSpJkVFTU8uXLL126RC9Qamxs7O/v37t3b+jJyEzS0ti8eTP0JcFxfNCgQb/++msVt0WNGjXy8vKKi4tLT09PTEy8cuUKWvUSExPPnz/P4XDo+bmriKysLOQD2KZNm1OnTsF0sHRN7PDhw3w+/8iRI3AMPH78+MKFC6NHj8ZxXHGWUCKR0NcUZFSoNyDrDKD7JYvF8vDwqPWHIQhCLBaLKEBeaubMmfSUyG5ubgreKj8/H/ruIh0IfQV8IRQKYcoxOE+uXbtWW78aRnNwOJwZM2aQdR7dunWDVt8pU6ao4HaSIjLnDZn1jMx+rsRfVvx91MXmZsYXT+0gheEVX5j1jMx5TYrz6A8iFovp2gaM5ExMTBSLxRIKYrG4oKDg4sWLdCtix44doXdoTQLa4rhc7rx588h6gqKiop07d8JGGzduXGZmpmqFBpQb0PZ79uxZerk7WDdL5hL44sCBAzKrjr6+/v/ZOxO4qMr1j59z5swM+74qCiKyyxKpqRnu6M29rlTmQqZZaWZ5XSrXEPwHioFa5nYr0/KaKeQCuXSVciEvIiBIKoILAi4sAsNs5/9pHns7zcYIMyz6fD9+/DBw5pyZ933e7fc+7/Pcu3ePfw3fQhoaGu7cuVNcXFxfX692K/LD+fPnyT2tra2Tk5MN/CKrV692cHDo8nc6d+7M19RtbW27du3Kv8DDw6Nbt25Lliwx5BFZWVnEeoODg+GINZ8LFy4QD52YmJg7d+7oKnOIWqLmvQ9Ru9QKRA8HDhwg6aMcHBzKysoMfGOrQUxLJpPV1NTs3buXhJEDIGSjpmmlpKSoRczy8PC4cuWK5iMqKyv5bnre3t7Hjx8ndyNAPFr+2nj58uUGfovdu3cHBQV5eHioWRc/HjPDMJ06dVK7wMXFZfr06TU1NU0+4sSJEyT5tK2tbXl5uVpVHjt2jCwbJkyY0NDQoMe0YFhUm/jqMq3GxsZhw4bxZ5lbtmyBIOEA7K6rBSJZtWqVTCZ7JGM4dOhhvOGnnnqq9bv9R4WcQg0ODi4tLTX8jQsXLiQ92OzZs/VcKZFIIE5qWVkZVAqxVX4djRo1ij9iQgJCjuNg60jN5Nzc3PjSp7Ozs2aX6O/vv3nzZq0fqbS0FOLa8hEIBKtWraqurtb8bFu3buVfOXny5LKyMplMRgZ9qVS6f/9+OCYJdOrUyZAWYWqmT59OhoaFCxfquqykpITvdNm9e/dff/0Vejb4ggqF4vfff+fH03FxcdmxYwe5w4gRI7T2DPxqgiyhatXUs2fPPXv26Grm8HTZn5w7d2748OGkJ2QYJiYmRteXkkqlcXFxmo54Y8aMKSoqMsoIUlBQAAtLhmF+++23dt7Yi4qKyCHNM2fO6LmSpPiFxMMQfZ/P4cOHoWZpmh41atSjzsFkMlltbe3OnTv585YuXbqkp6cb68sqFAqILVJcXFxTU6PWqMkP169f588D33nnHVgYxsbGkl9Cak9dD6qqqho5ciS5GGK46CIvLw+8NkQiUXZ2dnuwCvRo0LldBh0NqFCenp4pKSk0TZOYJb/88ktubm7Pnj2b1HGOHj0KaeEpinrxxRenTJmipk7JZDL+S3B8AEmVZVl0eWi1KqcEZpSysTnxIAWCr3f9lXTKr4fniGH9KJ77nD6PBkZM0X87g1NbW7tx40bycuzYscuWLXNzcwNTJDnYxo4dK5PJINo8uPkVFBR06tQJDabNOw2SNvzFF1/s1KnTxIkTb968Cb/fs2dPSEgImW+RyhoyZEi/fv34Yczmzp0Lvg+aFcowDETPhuUZ7ADwT+nDL0NDQyMjI2GWX19fTzzJm+Tu3bv3VOjX8jU3wAUCAYkmqP/+SUlJ5MqPPvrI29ubn+WXYRj+BiDMHqDbVPN0JRH4XnzxxaysLOIPwrLs0qVL1QpZF1Kp9MSJExDsHaIztMPQqnzTsra2Hj9+vJ2d3YwZM0hs83Xr1j377LNqJUNR1BtvvLFhwwZyHJRl2ZEjR2pNz6zmU+rj4zNw4ECtZWhubv7uu++SMJDl5eUSicSQRKp3794tLS3lu4xqolQqIZOIGrdv35Y21alWV1d/+umnJK7Njh077Ozs+KYlFAoVCgXZYFQqlTKZDMpWq2lRFDVv3rxTp06Rm3h4eLzyyitai+XixYv80E5vv/025Lkge3QMw9jZ2S1evLi8vJwsLH/88cd//vOf/AUk0ox9abFYDIIaGSjV+kOaphcsWEDSQ1ZXVxcXF4PkVK5C/yNI/6DWELSelz5w4MC4cePU4s8PHjw4JSUF9EG1D1lWVkbEI0hSkJKSwg/NA+fsxowZc+/evffeew86ulu3bh08eDA6OrpD1FFSUhLZ8Hd2dt6wYUPfvn0hKSz5jj4+Pvv37/fx8YHAPRUVFfv27Zs0aRIpJa09g1ovofnLmpoafoR/tVGb75EE4l1qamr//v3BH1CpVB46dKiyspIo0YTS0tIXXngBsv+QLsXT0zMuLu6ll14CRwZ0W9bl7EPs1tHRcfny5c7OzpodNX9QIMsiyK6tK3Ayf6C0srJ6+eWXPTw8iHp1/fr1b775xlhBheCkhlgs5p+h0+x5PDw8hg4dWlRUBOMXZCITCoV8eb2urk4ul+s6j19fX893ltHMk9jOYZ5wc4ddiLo/0TwaB90QdCJz586FENNAQUGBIfeHuN9AWlpa9+7dHRwcnHi4u7uTHeySkpJx48bZ2dk5Ojo6OzuT9QnSGm2BFjczHqRSuSbl64eTdSvLMSMjxQ52nMKw1Fy0iKL+1rk0NDT897//hZ8tLS2nTZvWuXNn/mKSGOTQoUP5Cdv4EaQQk3YaCoWCdBqNjY2ajpGkjvr16wc5uoCioiKtdZSWlkYqHfjkk0+0zpl0ZVrWeg1J0q5QKPhRRZscPlsy9DZ5TX19PUkhCclZHR0d+V2ig4PDgAEDIEU2pMv28vJydHSEpbXmDe/fv79jxw7+qROZTLZ48WIDP3NBQcGBAwfIyxdeeMGQNbOJ4JuWVCrValpghIMGDXr++efJ1CQnJ0frDdesWcNXf+RyeWpqqtbBix/XWigUBgQE6ApXzM//D5N7rckp9E/rm2FaTb63oqKCvyCcPHmys7Mz37Ts7OxGjhxJ1Jl9+/Z17tzZycnJ2dmZ74zAr46PP/6YPwO+cePGtm3btJ6iP3HiBH9VCbaqttKA6e97771HQkpfuXJFU7NDmt3t6OkP+U5ANTU1kLe/JT2epk3W1dXNnz9/1KhRpJ9nWTYoKGjXrl1Hjx4NDAzUuviEMKvkZWJiIpiHWpBXiqKmTZtG5D+I9NFR6ig9PR2Wi5BKKSoqSlMih9gon332Gb9vJxpQywemhoYG6FrBE1DXbF8sFq9bt464MMvlcn6uSmjFe/fu9fb2JjmGGYZxdXWdN2/e+fPnX3nlFRL4GVUGXR01Oe50//79adOm2dra8jtqe3v7559/HgwGfLjs7OycnJzg/Ck4odTX15OBUleNcxw3YMAAfmok/TsoRh+S4IKgoCAyqYA2y7Is/wQEJFjVdZN79+7x1XmI7dKBqvtJ92ior6//4Ycfjh07Bim+Fi5cqPVML9iKp6cn/3w1JNluev3Kc+tqVNGk1EemHXosDzG+0MCYwxjyaGEaWMGhQyeKSx4K7Z3cnSaMHUxJGpseYP7oKThKYEbRDH8A43co3bt39/Dw0GWQdnZ2/J3Jy5cvy2QyPaFrEWNRWlq6fPlyc3NzqVQ6ePBgrQmZSBABfmD/0tJSTaHh5MmTGzduVBs56urqXn/99X379jUjky6B/2g9WZrVcHd39/T01IwtWldXV1paCl/Nzc3NwcFBLdI7y7LdunV71F6RCAp6kKiATS3NvyYmJmZmZqpNBPfv379lyxYIcqFfNjp9+nReXh68jI6OhhbXVjtRFy9e3LhxI+y0Dx8+fNy4cXpUj+DgYBsbG1jkQ0AQNX755ZfPP/+cnCMlq5o5c+YcOHCAbxLwfS0sLKD/EYlEEEhI17KNv6kikUikBjlwUa6urv7+/moeDTRN19fX37p1C27i4uLi4OCg9lypVOrp6dlk56Y28+NH6tIF+TBaC3DZsmW5ublqvzx8+PCmTZs083qShO2wZwutT2sBWltbh4eHgwdTRUWFgTIN0kL4RisQCMi5DC8vLx8fH03run//Pqi9DMN07drVwsKC30uDZgTNhFjpxIkTDx48SKwRgit9+OGHsGrV1avU1taSns3W1tbFxUXzYjKgdOnShegOEH6lQ0B8CoRCoa4AqGr6OBEawBu/e/fuDQ0NmqF8KisrYdUqEAi8vLzEYrFaNdnZ2bm5uVVVVX322WdXr15lGEYsFq9du1br2AqfoWfPnuRBMplMzZMiJSVl/vz5RG10dHTs1avXunXr/Pz8NH0MEf0dtVKpbFJp5TiOXFNTU8Oy7JEjR1JTU2HI6N+//+TJk/VYVK9evfjTmHv37rVymAMnJydibGRA5/tB5Ofn19bWWllZaX17eXk5GcsgsWXHsq4nXWiQSqXHjx/fvv1hsoDRo0frCR7Gsix/ZqZ28FUXZmZmAoFAT0YAOK5DpuzgisNx3IMHD1o/1fMTCgdHJ8wpWkhxikd7r5DdtO37v6SBbl26+PtQtQ8M626FFGNO0QwEhST9IF+5hAmKrm6Fb4QoS7UaFRUVX331Ffx8586dqKgoTb9KUmvWKmA9A4kh+NfcunUrOTmZxPbz8PAoLy+Hqjxw4MD69evfffddtUlVYWEh6JU2Nja9e/fW8zmJ4wDLsmSDWs8QBfOzd1Vo/vX06dOQIEosFq9Zs4ZEltG8if5RkGEYS0tL6Oh0XaNQKIgAIRAIzMzMGIaRyWSavW5qaupXX30F/SfLsq6uruAIJpVKFy9e3LdvX0hmoacq+e7uw4cPb9tzE9euXfv888/JZxs2bJhWoYFIjWR1ZGlpqXbNnTt3li1bRgTxrl273rhxAwrq1KlTCQkJJA8oueHQoUN/+OEH0MT1nILhOI7vat6pUydDnDk5jhunQvNPubm5EydOBKebxYsXazU/Q6zLENOSyWR8N1QrKytYtml+hYyMjA0bNpB+tVu3brAHXlNT89lnn0VERKgls+BLZro+AHx4kUjEfxzGimsJkM0XCjY8PFzPEoK/OWRjY+Pl5QWFTw63qrF161ZQKq2srNLS0tQC7qjZJMdxK1euJJ2JWCweMGDAmjVrQkJCmlx8KhQKsgXl7OwMaxJdyRQ7depkYWEB8wQDBb42R+1kHBi/rtLgD6Zwbg4KcM+ePVqvj4uL+/DDD6E/zMzMVEvZyx8Nd+3aRXTDpUuXqgVR5mNra0s+HvQq5E9HjhxZvXo1+UY9e/ZcuHAhnO9QOxGD6EIgEEBqBj3XNDY2EvNmGAa28R88eACLqQsXLqxfvx4KPCcnR5fQoKkwMgxjlIXVgwcPCgoKqqqqaJo2MzPr3bu3nq9z7do18l0gijB0QWRmCAc/+aoln4KCAjIcjx07tsMtDJ90ocHa2ho0SFKduiZ2mjsP/GMUenS7Pn36LFq0SM9WjFKp/OGHH6D7s7Cw+Mc//hEeHi6VSlmWVcuehZhMX4XsDyzFmFGKB48QpoGmayvvHz+R9XBwsrGa/PLzlFxm2HYoRzEiihb+9QH+3Cvmr0IrKip0rZSUSiX/5GFgYCC6M7SGsdC0p6cneQkHR7UKDcDNmzfJrmlYWBi/jiQSyc6dO8n8ycHBIT4+fsuWLSdOnIARdOnSpc+oIG/Jysr65z//CUsaOzu727dv61rSSKVSEm/J3NzckOSRZKNM62SaSGAcx0Ec/uZhY2MzZcqUAQMG6BovGYa5ffv2li1bYGwOCAgYOXKklZWVQqFQC4tz5cqVTz/9lOTNHjhw4GuvvfbWW2+B/H/37t0PPvjg66+/1iMKl5WVkbWBs7NzWFiYQCBow4O1bm5uvr6+RUVFkLSvtrZWzxr+0qVLDx481DRBciKfXCaTbdy4kRiAhYXFunXr1q9fDyk86+vrN2/e3KdPH7XzAv379wehQS6XX7x4UVc5yOXy06dP84UGXVsxhk/ayPZgY2OjrogPTdaLg4PDSy+9FBERocu0WJa9fPlyamoqONB6eHhMmzYNYiGp+Y5dv359yZIlZB8pJCQkLi4uJiYGjmbk5eWtW7cuOTmZ3/D5xllVVdXQ0MAPIM1HIpGQc5Gurq6wNsbj3M1j6tSp0F4oitq0adPMmTN1XcmPg2Btba0/JytEeiOGRxqaLtLT0zdt2kTWn5MmTfrss89EIpEhi097e/tu3bqBe0KTR2lKS0tJV8zf/G/PCIVCZ2dniGchl8uJB5lW+BKnk5OTVqdOrdWkVCpra2t1CQ1du3Z1d3cnQsO5c+eioqJ03bagoIBs/onFYjIHu337dmxsLHE/iYiI+PLLL+Gv2H4faeU1b948PUd9BQJBYWHhzp07ofl4eXm98cYbDQ0NUqk0MjISvPns7OxgRVZYWKhQKPQsv/kBqlxdXcmxtZZQUlLy+uuvk7NLhYWFaikn1MRQIkOTNuvp6Tl8+PDvv/8efBYKCwv9/f01HXakUum5c+eIEDl69GgUGjoYLMuCIwoAeUd0DT9paWlk45GiKBLaWv/EvbcK/ZdVV1dD9+fm5jZnzhx+3F3svFpn8aj6T0AJzChF7SO8TyQ8mJ4paZT+OZs3HzboGapRZmiVMWKKZv/6ACrMzMz69Olz5swZ0EEzMzP79eundTFZXFzM9xj39/dHoaF1EIlEgYGBMC/Myck5e/YsUak1R6P09HTyMjg4mMjeSqXy1KlTq1evJn996623Xn31VW9v7/Hjx8OcrLa2dtGiRf/5z3/IeiY0NLRLly7gqlBVVXXo0CGtW8QQCY/M5ywtLQ1MGq/LdA3fdNVv/BDLsMlsiKWlpT/88APM5/r37x8bG0vKjXSJtbW1W7ZsgZUz7FqsWLGiX79+ubm58fHxcOVPP/20YcMGXfEa5HL5+fPnSaDEIUOGmDpte5PY29t7eHjAwqmkpATSc2idWJSVlf38889k+gLTL1L4P/30E8kVR1HUrFmzxo8f7+fnN2TIEPAGLy0tTUxM9PPz69q1K7lnVFTU/PnzyVR7z549JNwsvwbv3r1LAtaamZnBeZkmhyoDe0U9ltakadnZ2enf2gLviezsbBAa+vfv//HHH2uOthKJZM2aNf/73/9I81m3bt2gQYMWLVr0/vvvwy/37NnTt2/fWbNmEcvkr/pyc3P/+9//jhgxQqtAfPHiRTL39fPz0xX2FWnSVGiaHjx48NWrV2HRsn37dl1Cw/3799euXUukTF9fXxLTvuXSM0VR33zzDTl2PmbMmJSUFFAZDLm/o6Njjx49YEDhOO7HH3/09/fXqrVVVFTw4zIYst3VTqrp2WefhdW7TCY7evSo1vCKwM6dO/klAwdJWl5N5ubmfG+Xbdu2DRs2TFdO5U2bNpHO09LSkogd6enppOX6+vpu3rw5KCgIz0o8qj2Ym5uDE4oe8vLyvv32W4VCQdN0SEjIggUL+H/18fEhHW99ff3evXs1hyrg5s2bu3fvJqOVIa6dhuDh4REcHEwa46FDh3x8fLSO1EePHj158iTRrWCkhjOqAwcOBKGBoqgtW7Y899xzml42x48fJwG84MzdIyUCbw8wT7i5wzBPkl2dPn06Li7u9u3banMduVx+5MiRdevWkYFk0KBB1tbWRvF4hGR4RJ1VO7GMnVerNgfa7I//Da9WkfC7vRlEl+3erbNjV3dKqTTE+CiKphizP4WGvxCLxfwTZZs3b96/f7+mh2RVVdXWrVuPHj0KLzt37gwCGXrhtgLm5uZjx44l7Tc5OTk9PV1Nnuc4rqysLCkpicQ5NzMzCwsLA7dYjuMqKiqWLFlCfFIGDBgwZcoUiB85Z84c0vAzMzMhgZZaRQOrVq365ZdfND9hRkYGLLZhcyAyMrJJubOVJD3DOrS6ujpiyVKplH+qH+6gUCiOHDmyYcMG8vv33nsPxJTFixeTsbyhoWHTpk2kmWg+JSMjg7wMCQmBYb4Ne10PD4/w8HDycvny5RkZGZqNury8PDY2lq8z8iNpX716NSkpiTh6PPXUU5CANjAwcPny5eSyI0eObN26le+cEhwcPGjQIPj59u3ba9euJdHO+D1PfHw8iY72zDPPkLd0FNMi3hNqxyjIHfbu3btjxw7SomfPng3fcerUqaNHjyazgtWrV0MKNyIZkClgcXFxSkqKZgRWyFcXGxtLnvvUU0/BUgppXo1HRUURz5GsrKzExERNf6uysrJ//etfZKPI3d2dhOo0yicpLCwk4RIsLS1TUlIgoIOBNuno6EhmoRDANS0tTfMsZG1t7Zo1ayAbAjyoQ3g0QCH07duXtI4LFy6sXLlSa2iS/fv3r1+/noyz0Bm2vJrgDpGRkcRNODU1NSEhgd/8yZCxVQU0f4FAMGTIENJdnD59mvibfPDBB+Hh4bgX2ApzAE3fB29v75CQEOK+Fx8ff/z4cc2bXL9+/f333yc7Lq6urpCbqeVVZmtry3eH//TTT/ft26dpqDk5OXFxccQFplevXuBFCFdGRESQ0/qHDh0iXpzEaM+dOxcXF3f16lX4zauvvmrgmf12BYvmHhYWNmnSpBUrVhAh89atW9HR0T4+Ph4eHo2NjdeuXcvIyPjuu+9IqCcbGxsyiUceI4NgKIEFxYgopdRAA6Ie1GfnFCqVnMo7RjD4uV6U0uCERozwj8fR6mKfmZnZxIkT9+zZAxuP169fnz9/fnZ29j/+8Y+uXbva2trevXs3Pz9/27ZtP//8M+nXFixYoN/DEDGu0PDSSy/t2LEDnDzz8vLeeOONWbNmRUREeHt7m5ubl5eXX7hwYfv27fx12uzZs4ODg+F4AsdxCQkJRCNwcnJ66623SIq7+fPnnzhxAlz6FQrFjh07nn322RdeeAH+OmnSpDNnzsDa+7fffnvrrbemT5/eu3dvLy8vmqavX7+ekZHx73//mwS3s7S0hFyPj9OU6Nq1a0uXLiUCxJAhQyZNmgRbiNbW1omJiQMHDgQH45KSkpSUFF9fX01Xtfr6epJSlGVZX1/fNndKNDMzGzdu3MGDByExxMWLF2fPnj1r1qywsDAvLy9ra+vy8vJz587t3r375MmTxJ1y+vTpZG/zwYMH//73v48cOQIvhULhypUrSeLbV1555eeff/72229ha339+vVPP/00LJ7BPD7++OPIyEhYip89e3a6isjISEjaX1xcnJycfPjwYWK3U6dOhbPuj41p5ebmJicnEwXw6aefJl4ejo6OixYtysnJgaioZWVlcXFxX375pYuLC8dxNjY2H374IXGROHLkyLRp06BtguNkWVnZsWPHvv76a+Ir4e/vP2HCBLXEosgjMWjQIB8fn+zsbOgtV6xYcenSpRdffBEyfEFQm02bNpFzEyKRKDo6GuJrGMtos7OzicO/Uql85513lAbsN4hEogULFvTu3dvc3HzkyJGpqakghVRVVcEQEB0d3blzZ3t7+6qqqpycnG+//fbgwYNERvnwww/b3APLcMaOHbt582YY8mQy2ZYtW8rLy1966aWePXs6OjpKJBJIPZiWlkZW8s8880yTvm+PNNufMmXKnj17QHeWSCQrV668fPny6NGjvby8nJ2da2tri4qK/vOf/xw8eJCclPHx8VmyZAn8XFJSws+X9OWXX5LtaP0aR1RU1OzZs7GpGgsYqj744IOTJ09KJBKO47Kzs+fMmRMTExMREeHp6SkSiSorKzMzM7///nsyxIvF4rFjx/Idxlv4AQYNGrRz504wiWvXrs2bNy8/P/+5557z9va2srK6cePG6dOnt2/fzhej4+LiLC0tycuQkJCoqCjiHhgfH19aWhoTE+Pm5lZZWXnmzJmvvvqKnFJ0d3ePiYnRdRyvvVdYOwE2ZAQCwbRp01rtoUrlH+vC3NxctahOLi4u3t7eQUFBAQEBXbt2VfNhS05OlsvlxvoMUqn0zTffhDt7enoeOnSoraoAWqBQKHz77be5ds/gwYNheTBjxgyjmMIf/yskXF0RV/0bV/O/pv/VX7iY9b2zk/2fKwRRxr4NnCTXoPdW/8Y9KOTk9X89mmeQMpmMBIQjK1svL6/AwMDQ0FB/f3/+eR+KoiZMmHDz5s3WrwKIHS0SiWC/tEPQ2NiYnJwM5TZlypSqqqrmdRqNjY38Uw+gP3bp0sXf3z8oKMjHx0fNLzQyMvLSpUvkJj/++CP/nMvMmTMbGhrg5nD//Px8/rn3gQMHFhUVwXvlcvm//vUvfsRsW1tbb2/vYBXdu3fnR66iaXrVqlUtLzfwICAD9tatW01aTRcvXiRHbWNiYu7cucP/a319Pd9B2tHRMS0tjdSOUqlUKBRJSUn88o+NjYVEpPx65KeEDAwMPHv2LKnfNoE8evHixfwlEDGt4OBgHx8ftagNISEhpPkrFIqDBw/ybWPevHm1tbX8m1+4cIF/XGLAgAHFxcXkM8hkssTERP797ezsfHx8evbs6e/vzxdraJp+5ZVXoFRbWGi//vorUdni4+OhLZiIU6dOkah+EyZMUHvW/fv358yZw/+Ox44d4zdMmUy2Zs0afvnEx8eTQqioqJg4cSL/rw4ODlB6PXv27NGjB/94sEgkSkhIUKt6QyBr5qeeeurGjRvtvMslMVCCg4NLS0sNf+PChQuJd/Ts2bP1XHn27Fl+QCuBQODh4eHv7x8SEuLn56cWYi08PLyioqLJMpfL5WRr3dra+tSpU3oujo2Nbd7q99tvvyU3Wb9+Pf9bCIVCLy+vgICA0NDQgIAAd3d3fp8wePDgysrKtu2vgOnTp5MOZ+HChXp6try8PH7fBRGpoJqCgoK8vb35HZebm1t6enqTT5fL5UQIsLe3J6Okrs+wb98+teQjnTp16tGjR3BwsJ+fX+fOndW0J5iQw3t//fVXQ05MazJx4sRmF29BQQGc+GAY5rfffmvnjb2oqAhShFAUBQvsZnP69GlyuGnUqFFar3n11Vf55Wxtbe3p6RkQEABzMLUgdxERETCRMGKT+eKLL/iHHSwtLT09PQMDA0NCQnr06KEWmPaNN96AlNV8zp8/z3dhZlnW29s7MDCwe/fu/CyHkPLckNE2Ly8PlGuRSJSdnd0erIJFbQzGv6SkpLlz52ZlPYzqV6FC80oLC4vFixdPnToV80E8fv4tqv9V8SCpGoqfB0IXrCD7QmHjnwEaBALB008FUbrD2/D1PZVHg+iPf+TR/Buz7Msvv3zr1q3/+7//g03LhoYGfu40PiNGjIAdS4zo0VqW8jBu/IwZM6qrq9euXQt1VKNC61sGDx6ckJDg6+sLL+/evTtz5kziGRsWFvb222+DmkmqLzAwMCEhgUiQP//884YNGxISEoRCoUAgiI2NvXnzJjnLWq1C87k2Njbbtm0bNWrU42QbHMcdPHjwiy++IL+ZNGkScUcEhxGGYV599dX09HSy956UlNS3b19QJ8nGI/+0c/fu3fUkdGw104KvsGDBArlcvnHjRnDK0GNaQ4YM+eSTT9zd3eGN5eXlCxcuJI6m4eHhMTExRLGCawIDAz/66COi1Jw8eXLr1q2LFi2CnRaWZd988013d/f58+eDw2eVCk3Pi7fffvujjz4y/CB6hzCtw4cPk/0lWDipbX2zLBsdHZ2ZmQlRM+GozuDBg3v16kXTtLOz86pVq+7cuUNCh9xTobVtvvvuu8SBH/vtlmwt9urVa+fOnS+88ALs9isUCnJuSI3XXnstNjYWVGAjlrnW6aIhHg38b/H666/fuXMnMTERttNlMpmuQX/YsGFJSUn6cze0Q4KCgr755ptp06aBtybHcbdVaF7p6uq6bt062H00busYO3asRCKZM2cORHVVKBRqqSv5n2Ht2rX8gJF3795tXkUjJmr4n376qY2NDemxa1Vovf75559PSEgwYpOBDzBjxoxbt24lJCTASF2nQvNigUCQkJAQExMjFAqJPcMPoaGhcXFxs2bNgtOIcrmcHJTgs3jx4pkzZ0KP0eEGCwbXDODE0rdv3/T09BkzZujJUDJ8+PBTp04tWrTIuI6ONE2TUH+sCuxE2s4gBJTAWpXk0oCLBcyV4hsy2cM5vauzg72HG6XkDNIZaFb1IIEug7S2tl62bNmpU6dGjRqlS9VydHRcu3btnj17MOhx6w9ysFf58ccf7969W09OXDc3t88//zw1NZV/1vSTTz4hkxtra+vJkyeTFGj8+0+dOnXo0KHkVvv27YMz+RzHiUQicI9Xc8VSUzdycnLGjx8P6XJbaBs0TRMXDKEK045MqlTn5HH86EcKhWLu3LnkZZ8+fV5//XW4GL4j/O/k5LRixQrijHb37t1vvvmGv+RTKpX8Ed3Ly0tXuPLWx87O7pNPPvnuu+/0JGBzc3P74osv9u7dGx4eDqHI5HL5999/T8KqUxT15ptvQioEfrgygUAwZswYfnbS2NhYcPyGCywsLF5++eWMjAy+LsNHLBbv2rUrMTHRWHmRWJYlFiUWi03aj7EsS3pUtSC7N2/e3Lx5M4ngEBAQMGPGDH5qamiYnTt3njFjBv+o2rJly2CXCRSrffv27dy5kwiLmgQGBh46dGjFihVGiX/+uMJv+LomZmTEjIqKunz58rx58/QkHNmxY8fnn38OemKTx/5pmiaTMbFYrH9vSfOo/6NqDfCUpUuX/vrrrxMmTNA1D7SxsUlMTNy9e3dgYGA7Ge5FIhH5JHqyukKBDxs2LDc3d+XKlXoyvkdHR2dnZ0NsP0OSJZOygizITc72J06cmJWVNXDgQD23nTNnTk5OTnR0NBF/YRmpax2rnw7p7t4O7EpziaRWmw4ODklJSXv37tUTucDFxWX37t379u0DbxRjhWUh5rR06dLMzMwxY8boMtSgoKBjx47NmTNHLXM2ucPQoUPT0tKGDh2q1Xo9PDw2b9780UcfwWDREaOw0e3nQ0dFRWVkZAgEgsmTJ2/fvr1N5DE4hVVYWJifn5+bm3vv3j1LS8vg4GDwWQXPrlbIlNtWK8bIyMgTJ04IhcKZM2cSp8F2y5AhQ44dO8aybExMDH97s6Uo6ilJKaWo04yeoL2aeDXFKZUGVRzHUYwZZdaFYq31L2XhbtkqCgsL8/LyKisr/fz8wNUwNDQUJrttZTDPPvvsL7/8IhKJZs+ereZO3G6RSqWbNm1655134OhEcnJys+f6pI5qa2shGFheXt7Vq1dlMpmvr29AQICfn19QUBD4v6nJ2M1u8mr3Abfh3NzcixcvlpSUuLm5hYaGBgYGQvInk9pGK99Z/+PU/qqnl36k+7StkkXTdF1dXUFBAZhWfn6+UCj09vYG0woJCTGkijWLQtf15Eryg1KpLC0tzcrKyszMvHbtWvfu3SMiIkJCQiDBjbHKqoUtwlhGq6dY1H5voAlVV1dnZWVduHABZhRCoTA0NBTON4WFhZmbmzf7Ox4+fHjkyJFwdCI1NbWdH9Q/cuQIOBwFBwcfPHhQf1LJlhd7WVlZZmbmpUuXCgoKOI6DAg8KCurWrRvDMAaWueE22fIJIf+25Ofs7OwLFy4UFBTk5+ffvHnTz88vLCwsICCgV69eRChpJz3VI1UToaKi4vjx47///nt+fv7Vq1ednZ1DQ0ODgoKCg4OJ7N7kfZrXdcAFSqXy0qVLMK0qKCh48OCBi4sLHKAIDQ1VO6jS8gJv9tsLCwv79+9/7949hmHOnj3bzsN//v777wMGDCgvL4ejE80OQf2odlVbW5ubm1tQUJCbm3v58mWRSNSjR4/AwMAePXqEh4e3pLM1/KPm5ubm5OQUFhZeunTJ0tIyPDwcZmJubm565n783+fk5KSmpl6+fPnatWv29vY+Pj69e/ceOXIk7G0b+BXy8/P79u1bW1srEonOnDkTFhbW5laBm+fq6pSnCl35dVunc8d96TY1BRHFiClFHcVxlCHZ2nhSnaEqA0SCZMybvDnYW7gKPQaJBtNWnQbJ19hLhSF1pLWyDK9BtfvQNN1HRev3V61850dKnajnYqOkYGw104K8pLpSkxqyyNH8q67r1UwLTqB4qdCa5NJYZdXCFmEso22yWB7JhDiOs7W1HaqiPUta7bx3faRihyJ1d3fXlejOcLsy3CaNlR1TbSKqf9Bvbz3VIxUIVJOLi0t0dHQLZzXNqxFyvC5Axfjx4w1poS13CcRGbTq7sra27qeirSZCHMdBIJ5mmDRp9aEqHr95PoMGza9sQ3ooLKjHGY6jGJZi7SjGlJ7htED1CJYywHsTDbLDjYjtp47QPB5702orIQlNC7vuDlfmj8dEtKNvLbSHptFsFQPBnsEUw6X+Rt3RTRGFBgT5W4NWNQtzihZTf/dWMA7cn2EgBZaUtjCQCIIgCIIgCIIgHR0UGhBEA4GYElg1GaOhmdAMxVhQAgwOhCAIgiAIgiDI4wkKDQjydzhVYkvWhqJZUzU6oe0fj+iAwWMRBEEQBEEQBEEMWPMgCMIHjjMILCiB5R8/G1EOgOiSf9zZisJzEwiCIAiCIAiCPKag0IAg2oB4jZTA6PelhHYm85VAEARBEARBEARpe1BoQBANwIuBtTGyUwNN/3FD1o4yRZhJBEEQBEEQBEGQ9gEKDQiiTREApwahPUUZ9YCD0P6hOwOem0AQBEEQBEEQ5DEFhQYE0cZDpwY7irU1jijAcZTAmmLtKXRnQBAEQRAEQRDksQaFBgTRxkOnBoYSOqiaSQulAe6Pm4gcKVpAoTsDgiAIgiAIgiCPNSg0IIhuOI5ibSmhE9USNwSOoziKEjlSrD36MiAIgiAIgiAI8tiDQgOC6AZcD0SOlMCaap7W8PAIhiUlcqLQlwFBEARBEARBkCcAFBoQRC8cRzFmlMiVYkTNbWRCSuhCMebozoAgCIIgCIIgyJMACg0IohdIb8naqLQG9tHEAo5Tpa5weZjSEt0ZEARBEARBEAR5AkChAUGagqYpiqOEDpTIhWKEhmoNHEfRLCVyVsWARIkBQRAEQRAEQZAnBRQaEMQQaIoWUKwTJXSmGFHTWgPHUYyQEqmup1kKU1oiCIIgCIIgCPLEwGIRIEjTcBxF0xTDUiInihFS0kpK2fDwl9qvNKNEzhRr/8dbyC8RBEEQBEEQBEGeAFBoQBADgEgNNE3RLMU6ULSYkt+n5FUUJ/9LRCBiBGtHsfaUwJKiGQpVBgRBEARBEARBnjBQaEAQw3ioNah+EFhSAnNK6EDJaylFA0XJHrYmgTnFWlOMOUUxDyM7cBgDEkEQBEEQBEGQJwsUGhDEYPieC5SAYiwokTlF8YMv0KpoDrzLUGRAEARBEARBEOQJA4UGBHlE/iY3aBMSHkoMqDEgCIIgCIIgCPIk0h6FBoVCQVGURCIxxc3FYjHdkVeACoVCJpOZqGS4jpkZQalUtoHB6LGi9mRgpjMYoVAIJd9xUSqVjY2NUqnU6F+EpmmWZQUCAY4xCPIEolQq5XK5KXpImqalUmlHLBOO46RSqYmGJFYFGh7SJoYtl8th5WL0WZZUKu2gM3OpVCpXYfQ7CwQClmU77lLO1AaDQkPT66K0tLTw8HBT1EFNTU1WVpazs3PH7dFOnDgRExNjY2Nj9DszDPP77793uAKRy+V79+49d+6cKQymtrY2Ozvbzs6u4xrMTz/9NGvWLFMYDE3Tly9f7tDzgx9//DE7O1sgEBh9IBcKhQsXLpw4cSJOwhDkCaS4uHjFihVZWVlCodAUA1NHLJPLly+PGjVKJBIZvb+VyWSzZs2aO3cuGh7S+jQ2Nq5evXrXrl1isdjosyyJRFJTU9MRi2XatGmWlpZGb+yNjY0jRoxYsmSJk5NTBzWYhoaG+Pj43bt3m8hg6urqUGhogqqqqvPnz5vo5iba3W01qqurS0pKsGfnc1+F6YSMjl44aDB6upqqqipT3JlhmMrKSixhBHkykUgkly5dKiwsxKLgrxBMVyA3b97EEkbaBKVSWVJSUlRUhEXB58qVKya6c48ePTr0Uk6pVF67du3JMZh2JDTY2NjY29ub1BmmqqqKYZgOXWHgyW9vb2+6RwiFQktLy/ZfFDY2NnZ2diat0Orq6o5uMGZmZgzDmNQpQyQSWVhYdKwyEQqF1tbWWCYIgphkasWy9vb2VlZWIpHIRI+Qy+W2trbtf4QSCoUWFhZmZmame4RUKrWyskKrQ9oEmqZtbGzMVZjuKXBeoJ0XBcw2pVKp6ZZyEonE1DP/x8NgRCJROzm9246sdtKkSf379zep0CCRSEy6umgFfH194+PjTTdmcxwnEAh69uzZ/oti8uTJkZGRpjYYk3YErUBQUFBcXJypDSYsLKyjFIhAIOjVq1dsbKzRndbUhtuIiAicgSHIk4mTk9Nrr702fPhw0031lEqlq6tr+5/SdOvWbeXKlSZdIykUij59+qDVIW2CUCgcPXp0165dTWrkNE27u7u386JwdHR8//336+rqTDczl8vlvr6+HVpYFAqFY8eO7datmykO1vFnoW5ubu3h+9LtJMoIx3GtFtijNZ+FpYRFgaX0ZBZIh7YcBEGwn8ExCEGwsWNRYCk9DkIDgiAIgiAIgiAIgiCPAQwWAYIgCIIgCIIgCIIgxgKFBgRBEARBEARBEARBjAYKDQiCIAiCIAiCIAiCGA0UGhAEQRAEQRAEQRAEMRooNCAIgiAIgiAIgiAIYjRQaEAQBEEQBEEQBEEQxGig0IAgCIIgCIIgCIIgiNFAoQFBEARBEARBEARBEKOBQgOCIAiCIAiCIAiCIEYDhQYEQRAEQRAEQRAEQYwGCg0IgiAIgiAIgiAIghgNFBoQBEEQBEEQBEEQBDEaKDQgCIIgCIIgCIIgCGI0UGhAEARBEARBEARBEMRooNCAIAiCIAiCIAiCIIjRQKEBQRAEQRAEQRAEQRCjgUIDgiAIgiAIgiAIgiBGA4UGBEEQBEEQBEEQBEGMBgoNCIIgCIIgCIIgCIIYDRQaEARBEARBEARBEAQxGig0IAiCIAiCIAiCIAhiNFBoQBAEQRAEQRAEQRDEaKDQgCAIgiAIgiAIgiCI0UChAUEQBEEQBEEQBEEQo4FCA4IgCIIgCIIgCIIgRgOFBgRBEARBEARBEARBjMb/BwAA///dqi88DDjg/gAAAABJRU5ErkJggg==)\n",
        "\n",
        "For more examples, please see [this towardsdatascience.com article](https://towardsdatascience.com/a-complete-beginners-guide-to-matrix-multiplication-for-data-science-with-python-numpy-9274ecfc1dc6)."
      ]
    },
    {
      "cell_type": "markdown",
      "metadata": {
        "id": "9dOm_Wf9iZ-c"
      },
      "source": [
        "## Other NumPy Functions\n",
        "\n",
        "Similar to `range()`, NumPy has `np.arange()` and `np.linspace()`, except it can produce floats!"
      ]
    },
    {
      "cell_type": "code",
      "metadata": {
        "id": "M5q4subOhAaf"
      },
      "source": [
        "np.arange(0, 1, 0.1) # from 0 to 1 with steps of 0.1, excludes 1"
      ],
      "execution_count": null,
      "outputs": []
    },
    {
      "cell_type": "code",
      "metadata": {
        "id": "diE9wjy-mT6v"
      },
      "source": [
        "np.linspace(0, 1, 11) # from 0 to 1, 11 points, includes 1"
      ],
      "execution_count": null,
      "outputs": []
    },
    {
      "cell_type": "code",
      "metadata": {
        "id": "KvDKwZrQmdBP"
      },
      "source": [
        "np.linspace(0, 0.9, 10) # equivalent to np.arange(0, 1, 0.1)"
      ],
      "execution_count": null,
      "outputs": []
    },
    {
      "cell_type": "markdown",
      "metadata": {
        "id": "eKeBWakkn3q8"
      },
      "source": [
        "We can also repeat a number, `n`, `x` number of times with `np.repeat(n,x)`."
      ]
    },
    {
      "cell_type": "code",
      "metadata": {
        "id": "4v0hwmntn_1I"
      },
      "source": [
        "np.repeat(2, 10)"
      ],
      "execution_count": null,
      "outputs": []
    },
    {
      "cell_type": "markdown",
      "metadata": {
        "id": "1mmex8oToLIh"
      },
      "source": [
        "We can generate random numbers or selections."
      ]
    },
    {
      "cell_type": "code",
      "metadata": {
        "id": "331Ir1mBoM-m"
      },
      "source": [
        "np.random.seed(12345) # We can get the same \"random\" numbers each time by setting a seed. Remove this line to get new random numbers each time.\n",
        "\n",
        "print(np.random.randint(0, 10, 2)) # 2 random integers between 0 and 10 (excluding 10)\n",
        "print(np.random.randn(3)) # 3 random numbers from the standard normal distribution\n",
        "print(np.random.uniform(0, 10, 5)) # 5 random numbers between 0 and 10 from a uniform distribution\n",
        "print(np.random.choice(['one','two'], 5)) # randomly choose between elements of a list or array 5 times"
      ],
      "execution_count": null,
      "outputs": []
    },
    {
      "cell_type": "markdown",
      "metadata": {
        "id": "dqHMU2XCsEVl"
      },
      "source": [
        "We can easily sum an array."
      ]
    },
    {
      "cell_type": "code",
      "metadata": {
        "id": "cjQZe7DxsEc4"
      },
      "source": [
        "my_array = np.arange(0, 1, 0.1)\n",
        "print(my_array.sum())"
      ],
      "execution_count": null,
      "outputs": []
    },
    {
      "cell_type": "code",
      "metadata": {
        "id": "5gG0XlwgsZFP"
      },
      "source": [
        "print(my_matrix_1)\n",
        "print(my_matrix_1.sum())"
      ],
      "execution_count": null,
      "outputs": []
    },
    {
      "cell_type": "markdown",
      "metadata": {
        "id": "VLbjKUuyqFG8"
      },
      "source": [
        "Or find a mean or median."
      ]
    },
    {
      "cell_type": "code",
      "metadata": {
        "id": "nAozREbHqH2R"
      },
      "source": [
        "print(my_matrix_1.mean())\n",
        "print(np.mean(my_matrix_1)) # equivalent\n",
        "print(np.median(my_matrix_1)) # there is no .median(). mean and median happen to be equal here, see my_matrix_3 below for a more interesting example"
      ],
      "execution_count": null,
      "outputs": []
    },
    {
      "cell_type": "markdown",
      "metadata": {
        "id": "lnhGStBNshPu"
      },
      "source": [
        "We can find the index of the largest value with `np.argmax`"
      ]
    },
    {
      "cell_type": "code",
      "metadata": {
        "id": "OfJBVjxuscPw"
      },
      "source": [
        "print(np.argmax(my_matrix_1))\n",
        "print(my_matrix_1.flatten())\n",
        "print(my_matrix_1.flatten()[np.argmax(my_matrix_1)])"
      ],
      "execution_count": null,
      "outputs": []
    },
    {
      "cell_type": "code",
      "metadata": {
        "id": "0GFP_Ho2s9Wo"
      },
      "source": [
        "my_matrix_3 = my_matrix_1.copy()\n",
        "my_matrix_3[0, 1] = 64\n",
        "print(my_matrix_3)\n",
        "print(np.argmax(my_matrix_3))\n",
        "print(my_matrix_3.flatten()[np.argmax(my_matrix_3)])"
      ],
      "execution_count": null,
      "outputs": []
    },
    {
      "cell_type": "code",
      "metadata": {
        "id": "eJk9HAgCqmYQ"
      },
      "source": [
        "print(np.mean(my_matrix_3)) # just to show the difference between mean and median\n",
        "print(np.median(my_matrix_3))"
      ],
      "execution_count": null,
      "outputs": []
    },
    {
      "cell_type": "markdown",
      "metadata": {
        "id": "7HmV5W6Hmtpd"
      },
      "source": [
        "Mathematical/geometric functions such as `np.sin()`, `np.exp()`, and `np.log()` are also part of the NumPy library. The variable `np.pi` is also very useful!"
      ]
    },
    {
      "cell_type": "code",
      "metadata": {
        "id": "T6Tu7UPLmp8X"
      },
      "source": [
        "np.sin(np.pi / 6) # pi / 4 = 30 degrees"
      ],
      "execution_count": null,
      "outputs": []
    },
    {
      "cell_type": "code",
      "metadata": {
        "id": "IyezQfervyOJ"
      },
      "source": [
        "np.sin(np.radians(30)) # pi / 4 = 30 degrees"
      ],
      "execution_count": null,
      "outputs": []
    },
    {
      "cell_type": "code",
      "metadata": {
        "id": "1xGaW62vnRbz"
      },
      "source": [
        "np.cos(np.pi / 6)"
      ],
      "execution_count": null,
      "outputs": []
    },
    {
      "cell_type": "code",
      "metadata": {
        "id": "pagy_JLsnXER"
      },
      "source": [
        "np.exp(1) # np.exp(x) = e^x"
      ],
      "execution_count": null,
      "outputs": []
    },
    {
      "cell_type": "code",
      "metadata": {
        "id": "HpSAuca9nZp3"
      },
      "source": [
        "np.log(10) # ln(10) (natural log)"
      ],
      "execution_count": null,
      "outputs": []
    },
    {
      "cell_type": "code",
      "metadata": {
        "id": "LqEH7euDnhxR"
      },
      "source": [
        "np.log10(100) # log(100) (base 10)"
      ],
      "execution_count": null,
      "outputs": []
    },
    {
      "cell_type": "code",
      "metadata": {
        "id": "OTjUU_SVvE7k"
      },
      "source": [
        "np.abs(-5) # absolute value"
      ],
      "execution_count": null,
      "outputs": []
    },
    {
      "cell_type": "markdown",
      "metadata": {
        "id": "UcWEaAuWqo0I"
      },
      "source": [
        "As we will see later, sometimes we are missing data for a certain point in a sequence. These empty spots are most often represented by `np.nan`, which stands for \"not a number.\""
      ]
    },
    {
      "cell_type": "code",
      "metadata": {
        "id": "Tz-p0RMFnnAH"
      },
      "source": [
        "array_w_nan = np.array([1, 2, np.nan, 4]) * 3\n",
        "print(array_w_nan)"
      ],
      "execution_count": null,
      "outputs": []
    },
    {
      "cell_type": "markdown",
      "metadata": {
        "id": "CU1E_co1vM1H"
      },
      "source": [
        "We can perform logic on NumPy arrays, as well."
      ]
    },
    {
      "cell_type": "code",
      "metadata": {
        "id": "c3T1ZMTZvRJ8"
      },
      "source": [
        "print(my_matrix_1)\n",
        "print(my_matrix_1 > 3)\n",
        "print(np.any(my_matrix_1 > 3)) # Note the parenthesis placement\n",
        "print(np.all(my_matrix_1 > 3))"
      ],
      "execution_count": null,
      "outputs": []
    },
    {
      "cell_type": "markdown",
      "metadata": {
        "id": "ynmEIB6Ft5z6"
      },
      "source": [
        "Finally, the `shape` of an array is often very important. We can also `reshape` an array."
      ]
    },
    {
      "cell_type": "code",
      "metadata": {
        "id": "bXV-wD5wr5ze"
      },
      "source": [
        "print(my_matrix_1)\n",
        "print(my_matrix_1.shape) # 2 rows, 3 columns"
      ],
      "execution_count": null,
      "outputs": []
    },
    {
      "cell_type": "code",
      "metadata": {
        "id": "Zm5kltxvuBdI"
      },
      "source": [
        "print(my_matrix_1.reshape(3, 2))"
      ],
      "execution_count": null,
      "outputs": []
    },
    {
      "cell_type": "code",
      "metadata": {
        "id": "ciJeWHALuKFI"
      },
      "source": [
        "print(my_matrix_1.reshape(1, 3, 2)) # changing dimensionality"
      ],
      "execution_count": null,
      "outputs": []
    },
    {
      "cell_type": "markdown",
      "metadata": {
        "id": "Ld3Oyu6tzwB_"
      },
      "source": [
        "We can save our arrays to .csv viles using `np.savetxt`. We will save this array in the root of our Google Drive folder, for example."
      ]
    },
    {
      "cell_type": "code",
      "metadata": {
        "id": "ahk7di09utgj"
      },
      "source": [
        "np.savetxt('./gdrive/MyDrive/my_array.csv', my_matrix_1, delimiter=',')"
      ],
      "execution_count": null,
      "outputs": []
    },
    {
      "cell_type": "markdown",
      "metadata": {
        "id": "dvoTCq6M0LoT"
      },
      "source": [
        "We can load a csv file as a NumPy array using `np.loadtxt`."
      ]
    },
    {
      "cell_type": "code",
      "metadata": {
        "id": "o0E9pw4Z0Knr"
      },
      "source": [
        "loaded_array = np.loadtxt('./gdrive/MyDrive/my_array.csv', delimiter=',')\n",
        "loaded_array"
      ],
      "execution_count": null,
      "outputs": []
    },
    {
      "cell_type": "markdown",
      "metadata": {
        "id": "ZgiWPTBi7fno"
      },
      "source": [
        "That's a wrap on Lesson 2! In our next lesson, we will look at the spreadsheet-like format of pandas DataFrames.\n",
        "\n",
        "Test your understanding with Quiz 2 on Canvas!"
      ]
    }
  ]
}
